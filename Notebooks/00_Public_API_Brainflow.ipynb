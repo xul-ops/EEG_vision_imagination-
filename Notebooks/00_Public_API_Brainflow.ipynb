{
 "cells": [
  {
   "cell_type": "markdown",
   "metadata": {},
   "source": [
    "# BrainFlow Documentaion\n",
    "\n"
   ]
  },
  {
   "cell_type": "markdown",
   "metadata": {},
   "source": [
    "## Installation\n",
    "\n",
    "make sure to use Python3.\n",
    "\n",
    "* In terminal\n",
    "\n",
    "<code>pip install brainflow / pip3 install brainflow</code>\n",
    "\n",
    "* Install from source files,in code file\n",
    "\n",
    "<code> python -m pip install -U </code>\n"
   ]
  },
  {
   "cell_type": "markdown",
   "metadata": {},
   "source": [
    "## Connection\n",
    "\n",
    "To choose our Cyton Daisy board in BoardShim constructor, we should specify:\n",
    "\n",
    "* board_id = 2\n",
    "* serial_port field of BrainFlowInputParams structureserial_port field of BrainFlowInputParams structure"
   ]
  },
  {
   "cell_type": "markdown",
   "metadata": {},
   "source": [
    "## Python User API\n",
    "\n",
    "BrainFlow User API has three main modules:\n",
    "\n",
    "* BoardShim to read data from a board, it calls methods from underlying BoardController library\n",
    "\n",
    "* DataFilter to perform signal processing, it calls methods from underlying DataHandler library\n",
    "\n",
    "* MLModel to calculate derivative metrics, it calls methods from underlying MLModule library\n",
    "\n",
    "These classes are independent, so if you want, you can use BrainFlow API only for data streaming and perform signal processing by yourself and vice versa.\n",
    "\n",
    "BrainFlow data acquisition API is board agnostic, so to select a specific board you need to pass BrainFlow’s board id to BoardShim’s constructor and an instance of BrainFlowInputParams structure which should hold information for your specific board.\n",
    "\n",
    "In BoardShim, all board data is returned as a 2d array. Rows in this array may contain timestamps, EEG and EMG data and so on."
   ]
  },
  {
   "cell_type": "markdown",
   "metadata": {},
   "source": [
    "### brainflow.board_shim\n",
    "* https://brainflow.readthedocs.io/en/stable/UserAPI.html#brainflow-board-shim"
   ]
  },
  {
   "cell_type": "raw",
   "metadata": {},
   "source": [
    "class brainflow.board_shim.BoardIds(value)   CYTON_DAISY_BOARD= 2\n",
    "\n",
    "class brainflow.board_shim.LogLevels(value)   0-6 OFF\n",
    "\n",
    "class brainflow.board_shim.BrainFlowInputParams\n",
    "Parameters   \n",
    "serial_port (str) – serial port name is used for boards which reads data from serial port; etc\n",
    "\n",
    "class brainflow.board_shim.BoardShim(board_id: int, input_params: brainflow.board_shim.BrainFlowInputParams)\n",
    "Parameters\n",
    "board_id (int) – Id of your board\n",
    "input_params (BrainFlowInputParams) – board specific structure to pass required arguments\n",
    "\n",
    "\n",
    "classmethodget_sampling_rate(board_id: int) → int\n",
    "\n",
    "classmethodget_eeg_names(board_id: int) → List[str]\n",
    "\n",
    "classmethodget_board_descr(board_id: int)\n",
    "\n",
    "classmethodget_eeg_channels(board_id: int) → List[int]"
   ]
  },
  {
   "cell_type": "markdown",
   "metadata": {},
   "source": [
    "to be finished and tested!\n",
    "\n",
    "Because we prefer to read the data csv/txt by the apllication OpenBCI GUI, not connect to board directely..."
   ]
  },
  {
   "cell_type": "code",
   "execution_count": null,
   "metadata": {},
   "outputs": [],
   "source": []
  },
  {
   "cell_type": "markdown",
   "metadata": {},
   "source": [
    "## Code examples"
   ]
  },
  {
   "cell_type": "markdown",
   "metadata": {},
   "source": [
    "https://brainflow.readthedocs.io/en/stable/Examples.html#python\n",
    "\n",
    "https://brainflow.readthedocs.io/en/stable/Examples.html#notebooks"
   ]
  },
  {
   "cell_type": "code",
   "execution_count": null,
   "metadata": {},
   "outputs": [],
   "source": []
  }
 ],
 "metadata": {
  "kernelspec": {
   "display_name": "Python 3",
   "language": "python",
   "name": "python3"
  },
  "language_info": {
   "codemirror_mode": {
    "name": "ipython",
    "version": 3
   },
   "file_extension": ".py",
   "mimetype": "text/x-python",
   "name": "python",
   "nbconvert_exporter": "python",
   "pygments_lexer": "ipython3",
   "version": "3.7.4"
  },
  "toc": {
   "base_numbering": 1,
   "nav_menu": {},
   "number_sections": true,
   "sideBar": true,
   "skip_h1_title": false,
   "title_cell": "Table of Contents",
   "title_sidebar": "Contents",
   "toc_cell": false,
   "toc_position": {},
   "toc_section_display": true,
   "toc_window_display": false
  },
  "varInspector": {
   "cols": {
    "lenName": 16,
    "lenType": 16,
    "lenVar": 40
   },
   "kernels_config": {
    "python": {
     "delete_cmd_postfix": "",
     "delete_cmd_prefix": "del ",
     "library": "var_list.py",
     "varRefreshCmd": "print(var_dic_list())"
    },
    "r": {
     "delete_cmd_postfix": ") ",
     "delete_cmd_prefix": "rm(",
     "library": "var_list.r",
     "varRefreshCmd": "cat(var_dic_list()) "
    }
   },
   "types_to_exclude": [
    "module",
    "function",
    "builtin_function_or_method",
    "instance",
    "_Feature"
   ],
   "window_display": false
  }
 },
 "nbformat": 4,
 "nbformat_minor": 2
}
