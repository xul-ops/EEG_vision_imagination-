{
 "cells": [
  {
   "cell_type": "markdown",
   "metadata": {},
   "source": [
    "## Introduction\n",
    "\n",
    "Because our random forest model performed well in the last notebook, in this notebook, we will try to improve the effect of the random forest model, generate and train the features of sign language data, and analyze the features' importances, and also the possible ablation experiments.\n",
    "\n",
    "### Import packages"
   ]
  },
  {
   "cell_type": "code",
   "execution_count": 1,
   "metadata": {},
   "outputs": [],
   "source": [
    "import os\n",
    "import time\n",
    "import random\n",
    "import numpy as np\n",
    "import pandas as pd\n",
    "import matplotlib.pyplot as plt\n",
    "import seaborn as sns\n",
    "from collections import Counter\n",
    "\n",
    "# our own pipeline\n",
    "from pipelines.tools import power_band, generate_feature_dict\n",
    "from pipelines.data_prapare import read_power_band_txt,read_features_table, read_signal_data\n",
    "from pipelines.ml_functions import prepare_signals,set_seed, clean_all_feature_table\n",
    "from pipelines.ml_functions import  print_performance, evaluate_model, model_evaluation_dict"
   ]
  },
  {
   "cell_type": "code",
   "execution_count": 2,
   "metadata": {},
   "outputs": [],
   "source": [
    "from sklearn.model_selection import train_test_split\n",
    "from sklearn.model_selection import GridSearchCV, RandomizedSearchCV\n",
    "\n",
    "\n",
    "from sklearn.svm import SVC\n",
    "from sklearn.linear_model import LogisticRegression\n",
    "from sklearn.tree import DecisionTreeClassifier\n",
    "from sklearn.neighbors import KNeighborsClassifier\n",
    "from sklearn.ensemble import RandomForestClassifier\n",
    "\n",
    "\n",
    "from sklearn.model_selection import cross_val_score\n",
    "from sklearn.metrics import precision_recall_fscore_support\n",
    "from sklearn.metrics import plot_confusion_matrix, accuracy_score, f1_score, recall_score, precision_score"
   ]
  },
  {
   "cell_type": "code",
   "execution_count": 3,
   "metadata": {},
   "outputs": [],
   "source": [
    "import warnings\n",
    "warnings.filterwarnings(\"ignore\")\n",
    "\n",
    "set_seed(42)"
   ]
  },
  {
   "cell_type": "markdown",
   "metadata": {},
   "source": [
    "Define a confusion matrix class:"
   ]
  },
  {
   "cell_type": "code",
   "execution_count": 4,
   "metadata": {},
   "outputs": [],
   "source": [
    "from sklearn.metrics import ConfusionMatrixDisplay\n",
    "from prettytable import PrettyTable\n",
    "import joblib\n",
    "\n",
    "class ConfusionMatrix(object):\n",
    "    \n",
    "    def __init__(self, num_classes: int, labels: list):\n",
    "        self.matrix = np.zeros((num_classes, num_classes))\n",
    "        self.num_classes = num_classes\n",
    "        self.labels = labels\n",
    "\n",
    "    def update(self, preds, labels):\n",
    "        for p, t in zip(preds, labels):\n",
    "            self.matrix[p-1, t-1] += 1\n",
    "\n",
    "    def summary(self):\n",
    "        # calculate accuracy\n",
    "        sum_TP = 0\n",
    "        n = np.sum(self.matrix)\n",
    "        for i in range(self.num_classes):\n",
    "            sum_TP += self.matrix[i, i]\n",
    "        acc = sum_TP / n\n",
    "        print(\"the model accuracy is \", acc)\n",
    "\n",
    "        # kappa\n",
    "        sum_po = 0\n",
    "        sum_pe = 0\n",
    "        for i in range(len(self.matrix[0])):\n",
    "            sum_po += self.matrix[i][i]\n",
    "            row = np.sum(self.matrix[i, :])\n",
    "            col = np.sum(self.matrix[:, i])\n",
    "            sum_pe += row * col\n",
    "        po = sum_po / n\n",
    "        pe = sum_pe / (n * n)\n",
    "        # print(po, pe)\n",
    "        kappa = round((po - pe) / (1 - pe), 3)\n",
    "        #print(\"the model kappa is \", kappa)\n",
    "        \n",
    "        # precision, recall, specificity\n",
    "        table = PrettyTable()\n",
    "        table.field_names = [\"\", \"Precision\", \"Recall\", \"Specificity\",\"F1score\"]\n",
    "        for i in range(self.num_classes):\n",
    "            TP = self.matrix[i, i]\n",
    "            FP = np.sum(self.matrix[i, :]) - TP\n",
    "            FN = np.sum(self.matrix[:, i]) - TP\n",
    "            TN = np.sum(self.matrix) - TP - FP - FN\n",
    "\n",
    "            Precision = round(TP / (TP + FP), 3) if TP + FP != 0 else 0.\n",
    "            Recall = round(TP / (TP + FN), 3) if TP + FN != 0 else 0.\n",
    "            Specificity = round(TN / (TN + FP), 3) if TN + FP != 0 else 0.\n",
    "            F1score = round(2*Precision*Recall/(Precision+Recall)) if Precision+Recall != 0 else 0.\n",
    "\n",
    "            table.add_row([self.labels[i], Precision, Recall, Specificity, F1score])\n",
    "            \n",
    "        print(table)\n",
    "        return str(acc)\n",
    "\n",
    "    def plot(self):\n",
    "        matrix = self.matrix\n",
    "        print(matrix)\n",
    "        plt.imshow(matrix, cmap=plt.cm.Blues)\n",
    "\n",
    "        plt.xticks(range(self.num_classes), self.labels, rotation=45)\n",
    "        plt.yticks(range(self.num_classes), self.labels)\n",
    "        plt.colorbar()\n",
    "        plt.xlabel('True Labels')\n",
    "        plt.ylabel('Predicted Labels')\n",
    "        plt.title('Confusion matrix (acc='+self.summary()+')')\n",
    "\n",
    "\n",
    "        thresh = matrix.max() / 2\n",
    "        for x in range(self.num_classes):\n",
    "            for y in range(self.num_classes):\n",
    "                \n",
    "                info = int(matrix[y, x])\n",
    "                plt.text(x, y, info,\n",
    "                         verticalalignment='center',\n",
    "                         horizontalalignment='center',\n",
    "                         color=\"white\" if info > thresh else \"black\")\n",
    "        plt.tight_layout()\n",
    "        plt.show()"
   ]
  },
  {
   "cell_type": "markdown",
   "metadata": {},
   "source": [
    "redefine our model function, in the last notebook, we could find some models are not good enough, so we will pass it:"
   ]
  },
  {
   "cell_type": "code",
   "execution_count": 5,
   "metadata": {},
   "outputs": [],
   "source": [
    "def init_classifiers():\n",
    "    \"\"\"\n",
    "    Initialize our machine learning classifier ---\n",
    "    where catboost and NN (neural network classification) are not initialized,\n",
    "    and most hyperparameters will take default values\n",
    "\n",
    "    \"\"\"\n",
    "\n",
    "    model_names = ['SVM', 'LR', 'KNN', 'GBDT', 'DT', 'AdaB', 'RF', 'XGB', 'LGB', 'Catboost', 'NN']\n",
    "\n",
    "    # the training parameters of each model\n",
    "    param_grid_svc = [{}]\n",
    "    param_grid_logistic = [{'C': [0.1], 'penalty': ['l1', 'l2']}]\n",
    "    param_grid_knn = [{}, {'n_neighbors': list(range(3, 8))}]\n",
    "    param_grid_gbdt = [{}]\n",
    "    param_grid_tree = [{}]\n",
    "    param_grid_boost = [{}]\n",
    "    param_grid_rf = [{}]\n",
    "\n",
    "    return ([(SVC(), model_names[0], param_grid_svc),\n",
    "             (LogisticRegression(), model_names[1], param_grid_logistic),\n",
    "             (KNeighborsClassifier(), model_names[2], param_grid_knn),\n",
    "             (DecisionTreeClassifier(), model_names[4], param_grid_tree),\n",
    "             (RandomForestClassifier(), model_names[6], param_grid_rf)])"
   ]
  },
  {
   "cell_type": "code",
   "execution_count": 10,
   "metadata": {},
   "outputs": [],
   "source": [
    "def init_classifiers_2():\n",
    "    \"\"\"\n",
    "    Initialize our machine learning classifier ---\n",
    "    where catboost and NN (neural network classification) are not initialized,\n",
    "    and most hyperparameters will take default values\n",
    "\n",
    "    \"\"\"\n",
    "\n",
    "    model_names = ['SVM', 'LR', 'KNN', 'GBDT', 'DT', 'AdaB', 'RF', 'XGB', 'LGB', 'Catboost', 'NN']\n",
    "\n",
    "    # the training parameters of each model\n",
    "    param_grid_svc = [{}]\n",
    "    param_grid_logistic = [{'C': [0.1], 'penalty': ['l1', 'l2']}]\n",
    "    param_grid_knn = [{}, {'n_neighbors': list(range(3, 8))}]\n",
    "    param_grid_gbdt = [{}]\n",
    "    param_grid_tree = [{}]\n",
    "    param_grid_boost = [{}]\n",
    "    param_grid_rf = [{}]\n",
    "\n",
    "    return ([(DecisionTreeClassifier(), model_names[4], param_grid_tree),\n",
    "             (RandomForestClassifier(), model_names[6], param_grid_rf)])"
   ]
  },
  {
   "cell_type": "code",
   "execution_count": 6,
   "metadata": {},
   "outputs": [],
   "source": [
    "def threshold_list(alist, threshold= 0.1):\n",
    "    big_thres = [i for i in alist if i >= threshold]\n",
    "    small_thres = [i for i in alist if i < threshold]\n",
    "    return big_thres, small_thres"
   ]
  },
  {
   "cell_type": "code",
   "execution_count": null,
   "metadata": {},
   "outputs": [],
   "source": []
  },
  {
   "cell_type": "markdown",
   "metadata": {},
   "source": [
    "### Generate ASL features\n",
    "\n",
    "generate new seg ASL signal features:"
   ]
  },
  {
   "cell_type": "raw",
   "metadata": {},
   "source": [
    "aat_vis_signal, aat_img_signal, asl_vis_signal, asl_img_signal = read_signal_data()\n",
    "labels = np.array(asl_vis_signal['label_index'])\n",
    "\n",
    "\n",
    "feature_path = \"./data/EEG_features_Lintao/\"  \n",
    "signal_path = feature_path + \"seg_eeg_signals/\"\n",
    "bp_feature_path = feature_path + \"seg_band_powers/\"\n",
    "all_feature_path = feature_path + \"seg_eeg_features/\""
   ]
  },
  {
   "cell_type": "raw",
   "metadata": {},
   "source": [
    "ch_names=['ch1', 'ch2', 'ch3', 'ch4', 'ch5', 'ch6', 'ch7', 'ch8','ch9', 'ch10',\n",
    "          'ch11', 'ch12', 'ch13', 'ch14', 'ch15', 'ch16']\n",
    "seg_labels = list()\n",
    "seg_asl_vis = list()\n",
    "seg_asl_img = list()\n",
    "seg_piece = 4\n",
    "\n",
    "for i in range(asl_vis_signal.shape[0]):\n",
    "    current_vis = list()\n",
    "    current_img = list()\n",
    "    for name in ch_names:\n",
    "        current_vis.append(np.array(eval(asl_vis_signal[name][i])))\n",
    "        current_img.append(np.array(eval(asl_img_signal[name][i])))\n",
    "    current_vis = np.array(current_vis)\n",
    "    current_img = np.array(current_img)\n",
    "    seg = int(current_vis.shape[-1]/seg_piece)\n",
    "    seg_2 = int(current_img.shape[-1]/seg_piece)\n",
    "    \n",
    "    seg_asl_vis.extend([current_vis[:, 0:seg], current_vis[:,seg:seg*2], current_vis[:,seg*2:seg*3], current_vis[:, seg*3:]])\n",
    "    seg_asl_img.extend([current_img[:, 0:seg_2], current_img[:,seg_2:seg_2*2], current_img[:,seg_2*2:seg_2*3], current_img[:,seg_2*3:]])\n",
    "    seg_labels.extend([labels[i], labels[i], labels[i], labels[i]])"
   ]
  },
  {
   "cell_type": "raw",
   "metadata": {},
   "source": [
    "asl_img = dict()\n",
    "asl_vision = dict()\n",
    "\n",
    "count = 0 \n",
    "for i in range(len(seg_asl_img)):\n",
    "\n",
    "    if count == 0:\n",
    "        asl_img['label_index'] = [seg_labels[i]]\n",
    "        asl_vision['label_index'] = [seg_labels[i]]\n",
    "        \n",
    "        for j in range(16):\n",
    "            asl_img[ch_names[j]] = [seg_asl_img[i][j,:]]\n",
    "            asl_vision[ch_names[j]] = [seg_asl_vis[i][j,:]]\n",
    "\n",
    "    else:\n",
    "        asl_img['label_index'].append(seg_labels[i])\n",
    "        asl_vision['label_index'].append(seg_labels[i])\n",
    "        for j in range(16):\n",
    "            asl_img[ch_names[j]].append(seg_asl_img[i][j,:])\n",
    "            asl_vision[ch_names[j]].append(seg_asl_vis[i][j,:])\n",
    "    \n",
    "    count += 1\n",
    "\n",
    "# positions_need = positions.iloc[:16,:]\n",
    "asl_img = pd.DataFrame(asl_img)\n",
    "asl_img.to_csv(signal_path+\"asl_img.csv\")\n",
    "\n",
    "\n",
    "# positions_need = positions.iloc[:16,:]\n",
    "asl_vision = pd.DataFrame(asl_vision)\n",
    "asl_vision.to_csv(signal_path+\"asl_vision.csv\")"
   ]
  },
  {
   "cell_type": "raw",
   "metadata": {},
   "source": [
    "asl_img = dict()\n",
    "asl_vision = dict()\n",
    "\n",
    "count = 0 \n",
    "for i in range(len(seg_asl_img)):\n",
    "               \n",
    "    current = np.transpose(np.array(seg_asl_img[i]),axes=(1,0))\n",
    "    current_feature_dict = generate_feature_dict(current)\n",
    "               \n",
    "    current_vis = np.transpose(np.array(seg_asl_vis[i]),axes=(1,0))\n",
    "    current_feature_dict_vis = generate_feature_dict(current_vis)\n",
    "\n",
    "    \n",
    "    if count == 0:\n",
    "        asl_img['label_index'] = [seg_labels[i]]\n",
    "        asl_vision['label_index'] = [seg_labels[i]]\n",
    "        \n",
    "        for key in current_feature_dict.keys():\n",
    "            asl_img[key] = [current_feature_dict[key]]\n",
    "            asl_vision[key] = [current_feature_dict_vis[key]]\n",
    "    else:\n",
    "        asl_img['label_index'].append(seg_labels[i])\n",
    "        asl_vision['label_index'].append(seg_labels[i])\n",
    "        \n",
    "        for key in current_feature_dict.keys():\n",
    "            asl_img[key].append(current_feature_dict[key])\n",
    "            asl_vision[key].append(current_feature_dict_vis[key])\n",
    "    \n",
    "    count += 1"
   ]
  },
  {
   "cell_type": "markdown",
   "metadata": {},
   "source": [
    "Here we can't find the intersection of the useless features of the four major categories(asl/aat), because we have already dealt with the part of the alphabet before, so here we directly make the features of sign language consistent with those of the alphabet:"
   ]
  },
  {
   "cell_type": "raw",
   "metadata": {},
   "source": [
    "from pipelines.data_prapare import read_seg_power_band_txt,read_seg_features_table, read_seg_signal_data\n",
    "\n",
    "asl_vision = pd.DataFrame(asl_vision)\n",
    "asl_img = pd.DataFrame(asl_img)\n",
    "# asl_vision.info()\n",
    "# asl_img.info()\n",
    "\n",
    "aat_vis, aat_img = read_seg_features_table()\n",
    "col_name = list(aat_vis.columns)[1:]\n",
    "\n",
    "asl_img[col_name].to_csv(all_feature_path+\"asl_img.csv\")\n",
    "asl_vision[col_name].to_csv(all_feature_path+\"asl_vision.csv\")"
   ]
  },
  {
   "cell_type": "markdown",
   "metadata": {},
   "source": [
    "When we store the new data, rewrite the two functions read__seg_features_table and read__seg_features_table, and reload notebook:"
   ]
  },
  {
   "cell_type": "raw",
   "metadata": {},
   "source": [
    "from pipelines.data_prapare import read_seg_power_band_txt,read_seg_features_table, read_seg_signal_data\n",
    "feature_path = \"./data/EEG_features_Lintao/\"  \n",
    "all_feature_path = feature_path + \"seg_eeg_features/\"\n",
    "\n",
    "aat_vis, aat_img, asl_vis, asl_img = read_seg_features_table()\n",
    "\n",
    "asl_vis['label_index'] = aat_vis['label_index']\n",
    "asl_img['label_index'] = aat_vis['label_index']\n",
    "\n",
    "asl_img.to_csv(all_feature_path+\"asl_img.csv\")\n",
    "asl_vis.to_csv(all_feature_path+\"asl_vision.csv\")"
   ]
  },
  {
   "cell_type": "markdown",
   "metadata": {},
   "source": [
    "## Models\n",
    "\n",
    "### Performances\n",
    "\n",
    "We have already got our alphabet vision+imagination model performance tables, so we test the following data for our 26 labels classification:\n",
    "\n",
    "* ASL vision + imagination\n",
    "* Alphabet vision + ASL vision\n",
    "* Alphabet imagination + ASL imagination\n",
    "* All joint data "
   ]
  },
  {
   "cell_type": "code",
   "execution_count": 7,
   "metadata": {},
   "outputs": [],
   "source": [
    "from pipelines.data_prapare import read_seg_power_band_txt,read_seg_features_table, read_seg_signal_data\n",
    "\n",
    "aat_vis, aat_img, asl_vis, asl_img = read_seg_features_table()\n",
    "col_name = list(aat_vis.columns)[1:]\n",
    "\n",
    "# 26 * 32 * 4 \n",
    "labels_1 = np.array(aat_vis['label_index'])\n",
    "# 26 * 32 * 4 * 2\n",
    "labels_2 = np.concatenate((labels_1, labels_1), axis=0)\n",
    "\n",
    "# 26 * 32 * 4 * = 1664 data\n",
    "labels_4 = np.concatenate((labels_2, labels_2), axis=0)"
   ]
  },
  {
   "cell_type": "code",
   "execution_count": 8,
   "metadata": {},
   "outputs": [
    {
     "data": {
      "text/html": [
       "<div>\n",
       "<style scoped>\n",
       "    .dataframe tbody tr th:only-of-type {\n",
       "        vertical-align: middle;\n",
       "    }\n",
       "\n",
       "    .dataframe tbody tr th {\n",
       "        vertical-align: top;\n",
       "    }\n",
       "\n",
       "    .dataframe thead th {\n",
       "        text-align: right;\n",
       "    }\n",
       "</style>\n",
       "<table border=\"1\" class=\"dataframe\">\n",
       "  <thead>\n",
       "    <tr style=\"text-align: right;\">\n",
       "      <th></th>\n",
       "      <th>label_index</th>\n",
       "      <th>ch1_min</th>\n",
       "      <th>ch1_max</th>\n",
       "      <th>ch1_std</th>\n",
       "      <th>ch1_mean</th>\n",
       "      <th>ch1_coefficient_variation</th>\n",
       "      <th>ch1_mean_abs</th>\n",
       "      <th>ch1_AAC</th>\n",
       "      <th>ch1_CARD</th>\n",
       "      <th>ch1_EMAV</th>\n",
       "      <th>...</th>\n",
       "      <th>ch7_coherence</th>\n",
       "      <th>ch8_coherence</th>\n",
       "      <th>ch9_coherence</th>\n",
       "      <th>ch10_coherence</th>\n",
       "      <th>ch11_coherence</th>\n",
       "      <th>ch12_coherence</th>\n",
       "      <th>ch13_coherence</th>\n",
       "      <th>ch14_coherence</th>\n",
       "      <th>ch15_coherence</th>\n",
       "      <th>ch16_coherence</th>\n",
       "    </tr>\n",
       "  </thead>\n",
       "  <tbody>\n",
       "    <tr>\n",
       "      <th>0</th>\n",
       "      <td>9</td>\n",
       "      <td>-3411.345591</td>\n",
       "      <td>-3267.690929</td>\n",
       "      <td>39.973104</td>\n",
       "      <td>-3321.731487</td>\n",
       "      <td>-0.012034</td>\n",
       "      <td>3321.731487</td>\n",
       "      <td>7.337829</td>\n",
       "      <td>87.0</td>\n",
       "      <td>0.711909</td>\n",
       "      <td>...</td>\n",
       "      <td>1.0</td>\n",
       "      <td>1.0</td>\n",
       "      <td>1.0</td>\n",
       "      <td>1.0</td>\n",
       "      <td>1.0</td>\n",
       "      <td>1.0</td>\n",
       "      <td>1.0</td>\n",
       "      <td>1.0</td>\n",
       "      <td>1.0</td>\n",
       "      <td>1.0</td>\n",
       "    </tr>\n",
       "    <tr>\n",
       "      <th>1</th>\n",
       "      <td>9</td>\n",
       "      <td>-3396.168756</td>\n",
       "      <td>-3262.952359</td>\n",
       "      <td>36.134852</td>\n",
       "      <td>-3307.664044</td>\n",
       "      <td>-0.010925</td>\n",
       "      <td>3307.664044</td>\n",
       "      <td>6.948661</td>\n",
       "      <td>87.0</td>\n",
       "      <td>0.731369</td>\n",
       "      <td>...</td>\n",
       "      <td>1.0</td>\n",
       "      <td>1.0</td>\n",
       "      <td>1.0</td>\n",
       "      <td>1.0</td>\n",
       "      <td>1.0</td>\n",
       "      <td>1.0</td>\n",
       "      <td>1.0</td>\n",
       "      <td>1.0</td>\n",
       "      <td>1.0</td>\n",
       "      <td>1.0</td>\n",
       "    </tr>\n",
       "    <tr>\n",
       "      <th>2</th>\n",
       "      <td>9</td>\n",
       "      <td>-3334.701459</td>\n",
       "      <td>-3273.055348</td>\n",
       "      <td>15.721139</td>\n",
       "      <td>-3296.744223</td>\n",
       "      <td>-0.004769</td>\n",
       "      <td>3296.744223</td>\n",
       "      <td>6.659578</td>\n",
       "      <td>86.0</td>\n",
       "      <td>0.718037</td>\n",
       "      <td>...</td>\n",
       "      <td>1.0</td>\n",
       "      <td>1.0</td>\n",
       "      <td>1.0</td>\n",
       "      <td>1.0</td>\n",
       "      <td>1.0</td>\n",
       "      <td>1.0</td>\n",
       "      <td>1.0</td>\n",
       "      <td>1.0</td>\n",
       "      <td>1.0</td>\n",
       "      <td>1.0</td>\n",
       "    </tr>\n",
       "    <tr>\n",
       "      <th>3</th>\n",
       "      <td>9</td>\n",
       "      <td>-3355.086250</td>\n",
       "      <td>-3291.450833</td>\n",
       "      <td>13.557959</td>\n",
       "      <td>-3328.284770</td>\n",
       "      <td>-0.004074</td>\n",
       "      <td>3328.284770</td>\n",
       "      <td>6.854287</td>\n",
       "      <td>88.0</td>\n",
       "      <td>0.556586</td>\n",
       "      <td>...</td>\n",
       "      <td>1.0</td>\n",
       "      <td>1.0</td>\n",
       "      <td>1.0</td>\n",
       "      <td>1.0</td>\n",
       "      <td>1.0</td>\n",
       "      <td>1.0</td>\n",
       "      <td>1.0</td>\n",
       "      <td>1.0</td>\n",
       "      <td>1.0</td>\n",
       "      <td>1.0</td>\n",
       "    </tr>\n",
       "    <tr>\n",
       "      <th>4</th>\n",
       "      <td>6</td>\n",
       "      <td>-3448.650652</td>\n",
       "      <td>-3338.478904</td>\n",
       "      <td>19.164575</td>\n",
       "      <td>-3367.486004</td>\n",
       "      <td>-0.005691</td>\n",
       "      <td>3367.486004</td>\n",
       "      <td>8.186451</td>\n",
       "      <td>86.0</td>\n",
       "      <td>0.815650</td>\n",
       "      <td>...</td>\n",
       "      <td>1.0</td>\n",
       "      <td>1.0</td>\n",
       "      <td>1.0</td>\n",
       "      <td>1.0</td>\n",
       "      <td>1.0</td>\n",
       "      <td>1.0</td>\n",
       "      <td>1.0</td>\n",
       "      <td>1.0</td>\n",
       "      <td>1.0</td>\n",
       "      <td>1.0</td>\n",
       "    </tr>\n",
       "  </tbody>\n",
       "</table>\n",
       "<p>5 rows × 1130 columns</p>\n",
       "</div>"
      ],
      "text/plain": [
       "   label_index      ch1_min      ch1_max    ch1_std     ch1_mean  \\\n",
       "0            9 -3411.345591 -3267.690929  39.973104 -3321.731487   \n",
       "1            9 -3396.168756 -3262.952359  36.134852 -3307.664044   \n",
       "2            9 -3334.701459 -3273.055348  15.721139 -3296.744223   \n",
       "3            9 -3355.086250 -3291.450833  13.557959 -3328.284770   \n",
       "4            6 -3448.650652 -3338.478904  19.164575 -3367.486004   \n",
       "\n",
       "   ch1_coefficient_variation  ch1_mean_abs   ch1_AAC  ch1_CARD  ch1_EMAV  ...  \\\n",
       "0                  -0.012034   3321.731487  7.337829      87.0  0.711909  ...   \n",
       "1                  -0.010925   3307.664044  6.948661      87.0  0.731369  ...   \n",
       "2                  -0.004769   3296.744223  6.659578      86.0  0.718037  ...   \n",
       "3                  -0.004074   3328.284770  6.854287      88.0  0.556586  ...   \n",
       "4                  -0.005691   3367.486004  8.186451      86.0  0.815650  ...   \n",
       "\n",
       "   ch7_coherence  ch8_coherence  ch9_coherence  ch10_coherence  \\\n",
       "0            1.0            1.0            1.0             1.0   \n",
       "1            1.0            1.0            1.0             1.0   \n",
       "2            1.0            1.0            1.0             1.0   \n",
       "3            1.0            1.0            1.0             1.0   \n",
       "4            1.0            1.0            1.0             1.0   \n",
       "\n",
       "   ch11_coherence  ch12_coherence  ch13_coherence  ch14_coherence  \\\n",
       "0             1.0             1.0             1.0             1.0   \n",
       "1             1.0             1.0             1.0             1.0   \n",
       "2             1.0             1.0             1.0             1.0   \n",
       "3             1.0             1.0             1.0             1.0   \n",
       "4             1.0             1.0             1.0             1.0   \n",
       "\n",
       "   ch15_coherence  ch16_coherence  \n",
       "0             1.0             1.0  \n",
       "1             1.0             1.0  \n",
       "2             1.0             1.0  \n",
       "3             1.0             1.0  \n",
       "4             1.0             1.0  \n",
       "\n",
       "[5 rows x 1130 columns]"
      ]
     },
     "execution_count": 8,
     "metadata": {},
     "output_type": "execute_result"
    }
   ],
   "source": [
    "aat_vis.head()"
   ]
  },
  {
   "cell_type": "markdown",
   "metadata": {},
   "source": [
    "PS: In the previous notebook, I didn't start from 1 instead of 2, but there won't be a lot of problems."
   ]
  },
  {
   "cell_type": "code",
   "execution_count": 9,
   "metadata": {},
   "outputs": [],
   "source": [
    "# read and clean data\n",
    "aat_vis = clean_all_feature_table(aat_vis.iloc[:, 1:])\n",
    "aat_img = clean_all_feature_table(aat_img.iloc[:, 1:])\n",
    "asl_vis = clean_all_feature_table(asl_vis.iloc[:, 1:])\n",
    "asl_img = clean_all_feature_table(asl_img.iloc[:, 1:])"
   ]
  },
  {
   "cell_type": "markdown",
   "metadata": {},
   "source": [
    "#### ASL vision + imagination\n",
    "\n",
    "Check ASL (vis+img) 26 labels classification:\n",
    "\n",
    "(And I won't test one mode data (i.e. ASL vision) separately here, the following model part will all be joint data, at least two mode data combination)"
   ]
  },
  {
   "cell_type": "code",
   "execution_count": 7,
   "metadata": {},
   "outputs": [
    {
     "data": {
      "text/html": [
       "<div>\n",
       "<style scoped>\n",
       "    .dataframe tbody tr th:only-of-type {\n",
       "        vertical-align: middle;\n",
       "    }\n",
       "\n",
       "    .dataframe tbody tr th {\n",
       "        vertical-align: top;\n",
       "    }\n",
       "\n",
       "    .dataframe thead th {\n",
       "        text-align: right;\n",
       "    }\n",
       "</style>\n",
       "<table border=\"1\" class=\"dataframe\">\n",
       "  <thead>\n",
       "    <tr style=\"text-align: right;\">\n",
       "      <th></th>\n",
       "      <th>Classifier</th>\n",
       "      <th>param</th>\n",
       "      <th>Traing score</th>\n",
       "      <th>Test Score</th>\n",
       "      <th>Whole score</th>\n",
       "      <th>CV Score</th>\n",
       "      <th>Precision(Macro)</th>\n",
       "      <th>Precision(Micro)</th>\n",
       "      <th>Recall(Macro)</th>\n",
       "      <th>Recall(Micro)</th>\n",
       "      <th>F1 Score(Macro)</th>\n",
       "      <th>F1 Score(Micro)</th>\n",
       "    </tr>\n",
       "  </thead>\n",
       "  <tbody>\n",
       "    <tr>\n",
       "      <th>0</th>\n",
       "      <td>SVM</td>\n",
       "      <td>default</td>\n",
       "      <td>0.158832</td>\n",
       "      <td>0.095143</td>\n",
       "      <td>0.139724</td>\n",
       "      <td>0.091869</td>\n",
       "      <td>0.087374</td>\n",
       "      <td>0.095143</td>\n",
       "      <td>0.097142</td>\n",
       "      <td>0.095143</td>\n",
       "      <td>0.066877</td>\n",
       "      <td>0.095143</td>\n",
       "    </tr>\n",
       "    <tr>\n",
       "      <th>1</th>\n",
       "      <td>LR</td>\n",
       "      <td>{'C': 0.1, 'penalty': 'l2'}</td>\n",
       "      <td>0.299206</td>\n",
       "      <td>0.137206</td>\n",
       "      <td>0.250601</td>\n",
       "      <td>0.120839</td>\n",
       "      <td>0.111589</td>\n",
       "      <td>0.137206</td>\n",
       "      <td>0.137100</td>\n",
       "      <td>0.137206</td>\n",
       "      <td>0.115566</td>\n",
       "      <td>0.137206</td>\n",
       "    </tr>\n",
       "    <tr>\n",
       "      <th>2</th>\n",
       "      <td>KNN</td>\n",
       "      <td>{'n_neighbors': 3}</td>\n",
       "      <td>0.505688</td>\n",
       "      <td>0.176765</td>\n",
       "      <td>0.407001</td>\n",
       "      <td>0.154758</td>\n",
       "      <td>0.204663</td>\n",
       "      <td>0.176765</td>\n",
       "      <td>0.172169</td>\n",
       "      <td>0.176765</td>\n",
       "      <td>0.168274</td>\n",
       "      <td>0.176765</td>\n",
       "    </tr>\n",
       "    <tr>\n",
       "      <th>3</th>\n",
       "      <td>DT</td>\n",
       "      <td>default</td>\n",
       "      <td>1.000000</td>\n",
       "      <td>0.538808</td>\n",
       "      <td>0.861629</td>\n",
       "      <td>0.528656</td>\n",
       "      <td>0.540809</td>\n",
       "      <td>0.538808</td>\n",
       "      <td>0.539274</td>\n",
       "      <td>0.538808</td>\n",
       "      <td>0.538667</td>\n",
       "      <td>0.538808</td>\n",
       "    </tr>\n",
       "    <tr>\n",
       "      <th>4</th>\n",
       "      <td>RF</td>\n",
       "      <td>default</td>\n",
       "      <td>1.000000</td>\n",
       "      <td>0.787181</td>\n",
       "      <td>0.936148</td>\n",
       "      <td>0.739431</td>\n",
       "      <td>0.797777</td>\n",
       "      <td>0.787181</td>\n",
       "      <td>0.790182</td>\n",
       "      <td>0.787181</td>\n",
       "      <td>0.787921</td>\n",
       "      <td>0.787181</td>\n",
       "    </tr>\n",
       "  </tbody>\n",
       "</table>\n",
       "</div>"
      ],
      "text/plain": [
       "  Classifier                        param  Traing score   Test Score  \\\n",
       "0        SVM                      default      0.158832     0.095143   \n",
       "1         LR  {'C': 0.1, 'penalty': 'l2'}      0.299206     0.137206   \n",
       "2        KNN           {'n_neighbors': 3}      0.505688     0.176765   \n",
       "3         DT                      default      1.000000     0.538808   \n",
       "4         RF                      default      1.000000     0.787181   \n",
       "\n",
       "   Whole score  CV Score  Precision(Macro)  Precision(Micro)  Recall(Macro)  \\\n",
       "0     0.139724  0.091869          0.087374          0.095143       0.097142   \n",
       "1     0.250601  0.120839          0.111589          0.137206       0.137100   \n",
       "2     0.407001  0.154758          0.204663          0.176765       0.172169   \n",
       "3     0.861629  0.528656          0.540809          0.538808       0.539274   \n",
       "4     0.936148  0.739431          0.797777          0.787181       0.790182   \n",
       "\n",
       "   Recall(Micro)  F1 Score(Macro)  F1 Score(Micro)  \n",
       "0       0.095143         0.066877         0.095143  \n",
       "1       0.137206         0.115566         0.137206  \n",
       "2       0.176765         0.168274         0.176765  \n",
       "3       0.538808         0.538667         0.538808  \n",
       "4       0.787181         0.787921         0.787181  "
      ]
     },
     "execution_count": 7,
     "metadata": {},
     "output_type": "execute_result"
    }
   ],
   "source": [
    "data_all = np.concatenate((asl_img, asl_vis), axis=0) \n",
    "\n",
    "res_list = []\n",
    "best_score = 0\n",
    "classifiers = init_classifiers()\n",
    "for i in classifiers:\n",
    "    results= model_evaluation_dict(data_all, labels_2, i[0], i[1], i[2])\n",
    "    res_list.append(results)\n",
    "    \n",
    "\n",
    "df_model_comparison = pd.DataFrame(res_list).sort_values(by=['F1 Score(Macro)','F1 Score(Micro)']).reset_index(drop=True)\n",
    "df_model_comparison"
   ]
  },
  {
   "cell_type": "markdown",
   "metadata": {},
   "source": [
    "Like the alphabet classification, it's basically close to 80.\n",
    "\n",
    "#### All joint data(4 modes)\n",
    "\n",
    "Check ASL+Alphabet(vis+img) 26 labels classification, in this case, each letter have 32 * 4 * 4 example:"
   ]
  },
  {
   "cell_type": "code",
   "execution_count": 15,
   "metadata": {},
   "outputs": [
    {
     "data": {
      "text/html": [
       "<div>\n",
       "<style scoped>\n",
       "    .dataframe tbody tr th:only-of-type {\n",
       "        vertical-align: middle;\n",
       "    }\n",
       "\n",
       "    .dataframe tbody tr th {\n",
       "        vertical-align: top;\n",
       "    }\n",
       "\n",
       "    .dataframe thead th {\n",
       "        text-align: right;\n",
       "    }\n",
       "</style>\n",
       "<table border=\"1\" class=\"dataframe\">\n",
       "  <thead>\n",
       "    <tr style=\"text-align: right;\">\n",
       "      <th></th>\n",
       "      <th>Classifier</th>\n",
       "      <th>param</th>\n",
       "      <th>Traing score</th>\n",
       "      <th>Test Score</th>\n",
       "      <th>Whole score</th>\n",
       "      <th>CV Score</th>\n",
       "      <th>Precision(Macro)</th>\n",
       "      <th>Precision(Micro)</th>\n",
       "      <th>Recall(Macro)</th>\n",
       "      <th>Recall(Micro)</th>\n",
       "      <th>F1 Score(Macro)</th>\n",
       "      <th>F1 Score(Micro)</th>\n",
       "    </tr>\n",
       "  </thead>\n",
       "  <tbody>\n",
       "    <tr>\n",
       "      <th>0</th>\n",
       "      <td>SVM</td>\n",
       "      <td>default</td>\n",
       "      <td>0.198004</td>\n",
       "      <td>0.103155</td>\n",
       "      <td>0.169546</td>\n",
       "      <td>0.100130</td>\n",
       "      <td>0.096503</td>\n",
       "      <td>0.103155</td>\n",
       "      <td>0.105887</td>\n",
       "      <td>0.103155</td>\n",
       "      <td>0.083684</td>\n",
       "      <td>0.103155</td>\n",
       "    </tr>\n",
       "    <tr>\n",
       "      <th>1</th>\n",
       "      <td>LR</td>\n",
       "      <td>{'C': 0.1, 'penalty': 'l2'}</td>\n",
       "      <td>0.340094</td>\n",
       "      <td>0.165248</td>\n",
       "      <td>0.287635</td>\n",
       "      <td>0.163017</td>\n",
       "      <td>0.151091</td>\n",
       "      <td>0.165248</td>\n",
       "      <td>0.166362</td>\n",
       "      <td>0.165248</td>\n",
       "      <td>0.147933</td>\n",
       "      <td>0.165248</td>\n",
       "    </tr>\n",
       "    <tr>\n",
       "      <th>2</th>\n",
       "      <td>KNN</td>\n",
       "      <td>{'n_neighbors': 3}</td>\n",
       "      <td>0.555162</td>\n",
       "      <td>0.199049</td>\n",
       "      <td>0.448317</td>\n",
       "      <td>0.189846</td>\n",
       "      <td>0.240293</td>\n",
       "      <td>0.199049</td>\n",
       "      <td>0.198482</td>\n",
       "      <td>0.199049</td>\n",
       "      <td>0.194845</td>\n",
       "      <td>0.199049</td>\n",
       "    </tr>\n",
       "    <tr>\n",
       "      <th>3</th>\n",
       "      <td>DT</td>\n",
       "      <td>default</td>\n",
       "      <td>1.000000</td>\n",
       "      <td>0.693290</td>\n",
       "      <td>0.907978</td>\n",
       "      <td>0.686411</td>\n",
       "      <td>0.694473</td>\n",
       "      <td>0.693290</td>\n",
       "      <td>0.694226</td>\n",
       "      <td>0.693290</td>\n",
       "      <td>0.693023</td>\n",
       "      <td>0.693290</td>\n",
       "    </tr>\n",
       "    <tr>\n",
       "      <th>4</th>\n",
       "      <td>RF</td>\n",
       "      <td>default</td>\n",
       "      <td>1.000000</td>\n",
       "      <td>0.821733</td>\n",
       "      <td>0.946514</td>\n",
       "      <td>0.785361</td>\n",
       "      <td>0.831453</td>\n",
       "      <td>0.821733</td>\n",
       "      <td>0.823693</td>\n",
       "      <td>0.821733</td>\n",
       "      <td>0.823577</td>\n",
       "      <td>0.821733</td>\n",
       "    </tr>\n",
       "  </tbody>\n",
       "</table>\n",
       "</div>"
      ],
      "text/plain": [
       "  Classifier                        param  Traing score   Test Score  \\\n",
       "0        SVM                      default      0.198004     0.103155   \n",
       "1         LR  {'C': 0.1, 'penalty': 'l2'}      0.340094     0.165248   \n",
       "2        KNN           {'n_neighbors': 3}      0.555162     0.199049   \n",
       "3         DT                      default      1.000000     0.693290   \n",
       "4         RF                      default      1.000000     0.821733   \n",
       "\n",
       "   Whole score  CV Score  Precision(Macro)  Precision(Micro)  Recall(Macro)  \\\n",
       "0     0.169546  0.100130          0.096503          0.103155       0.105887   \n",
       "1     0.287635  0.163017          0.151091          0.165248       0.166362   \n",
       "2     0.448317  0.189846          0.240293          0.199049       0.198482   \n",
       "3     0.907978  0.686411          0.694473          0.693290       0.694226   \n",
       "4     0.946514  0.785361          0.831453          0.821733       0.823693   \n",
       "\n",
       "   Recall(Micro)  F1 Score(Macro)  F1 Score(Micro)  \n",
       "0       0.103155         0.083684         0.103155  \n",
       "1       0.165248         0.147933         0.165248  \n",
       "2       0.199049         0.194845         0.199049  \n",
       "3       0.693290         0.693023         0.693290  \n",
       "4       0.821733         0.823577         0.821733  "
      ]
     },
     "execution_count": 15,
     "metadata": {},
     "output_type": "execute_result"
    }
   ],
   "source": [
    "data_all = np.concatenate((asl_img, asl_vis, aat_img, aat_vis), axis=0) \n",
    "\n",
    "\n",
    "res_list = []\n",
    "best_score = 0\n",
    "classifiers = init_classifiers()\n",
    "for i in classifiers:\n",
    "    results= model_evaluation_dict(data_all, labels_4, i[0], i[1], i[2])\n",
    "    res_list.append(results)\n",
    "    \n",
    "\n",
    "df_model_comparison = pd.DataFrame(res_list).sort_values(by=['F1 Score(Macro)','F1 Score(Micro)']).reset_index(drop=True)\n",
    "df_model_comparison"
   ]
  },
  {
   "cell_type": "markdown",
   "metadata": {},
   "source": [
    "For all joint data, the performance are 82%, better than just ASL or just Alphabet, which also indicated us, data size is very important!\n",
    "\n",
    "And we find that SVM, LR, KNN, very bad at this 26 classification task, so for the following two test, we will just test DT and RF."
   ]
  },
  {
   "cell_type": "markdown",
   "metadata": {},
   "source": [
    "#### Alphabet vision + ASL vision"
   ]
  },
  {
   "cell_type": "code",
   "execution_count": 11,
   "metadata": {},
   "outputs": [
    {
     "data": {
      "text/html": [
       "<div>\n",
       "<style scoped>\n",
       "    .dataframe tbody tr th:only-of-type {\n",
       "        vertical-align: middle;\n",
       "    }\n",
       "\n",
       "    .dataframe tbody tr th {\n",
       "        vertical-align: top;\n",
       "    }\n",
       "\n",
       "    .dataframe thead th {\n",
       "        text-align: right;\n",
       "    }\n",
       "</style>\n",
       "<table border=\"1\" class=\"dataframe\">\n",
       "  <thead>\n",
       "    <tr style=\"text-align: right;\">\n",
       "      <th></th>\n",
       "      <th>Classifier</th>\n",
       "      <th>param</th>\n",
       "      <th>Traing score</th>\n",
       "      <th>Test Score</th>\n",
       "      <th>Whole score</th>\n",
       "      <th>CV Score</th>\n",
       "      <th>Precision(Macro)</th>\n",
       "      <th>Precision(Micro)</th>\n",
       "      <th>Recall(Macro)</th>\n",
       "      <th>Recall(Micro)</th>\n",
       "      <th>F1 Score(Macro)</th>\n",
       "      <th>F1 Score(Micro)</th>\n",
       "    </tr>\n",
       "  </thead>\n",
       "  <tbody>\n",
       "    <tr>\n",
       "      <th>0</th>\n",
       "      <td>DT</td>\n",
       "      <td>default</td>\n",
       "      <td>1.0</td>\n",
       "      <td>0.622934</td>\n",
       "      <td>0.886869</td>\n",
       "      <td>0.629965</td>\n",
       "      <td>0.624980</td>\n",
       "      <td>0.622934</td>\n",
       "      <td>0.622614</td>\n",
       "      <td>0.622934</td>\n",
       "      <td>0.622098</td>\n",
       "      <td>0.622934</td>\n",
       "    </tr>\n",
       "    <tr>\n",
       "      <th>1</th>\n",
       "      <td>RF</td>\n",
       "      <td>default</td>\n",
       "      <td>1.0</td>\n",
       "      <td>0.643966</td>\n",
       "      <td>0.893179</td>\n",
       "      <td>0.561917</td>\n",
       "      <td>0.657821</td>\n",
       "      <td>0.643966</td>\n",
       "      <td>0.645459</td>\n",
       "      <td>0.643966</td>\n",
       "      <td>0.642491</td>\n",
       "      <td>0.643966</td>\n",
       "    </tr>\n",
       "  </tbody>\n",
       "</table>\n",
       "</div>"
      ],
      "text/plain": [
       "  Classifier    param  Traing score   Test Score  Whole score  CV Score  \\\n",
       "0         DT  default           1.0     0.622934     0.886869  0.629965   \n",
       "1         RF  default           1.0     0.643966     0.893179  0.561917   \n",
       "\n",
       "   Precision(Macro)  Precision(Micro)  Recall(Macro)  Recall(Micro)  \\\n",
       "0          0.624980          0.622934       0.622614       0.622934   \n",
       "1          0.657821          0.643966       0.645459       0.643966   \n",
       "\n",
       "   F1 Score(Macro)  F1 Score(Micro)  \n",
       "0         0.622098         0.622934  \n",
       "1         0.642491         0.643966  "
      ]
     },
     "execution_count": 11,
     "metadata": {},
     "output_type": "execute_result"
    }
   ],
   "source": [
    "data_all = np.concatenate((aat_vis, asl_vis), axis=0) \n",
    "\n",
    "res_list = []\n",
    "best_score = 0\n",
    "classifiers = init_classifiers_2()\n",
    "for i in classifiers:\n",
    "    results= model_evaluation_dict(data_all, labels_2, i[0], i[1], i[2])\n",
    "    res_list.append(results)\n",
    "    \n",
    "\n",
    "df_model_comparison = pd.DataFrame(res_list).sort_values(by=['F1 Score(Macro)','F1 Score(Micro)']).reset_index(drop=True)\n",
    "df_model_comparison"
   ]
  },
  {
   "cell_type": "markdown",
   "metadata": {},
   "source": [
    "poor performance!"
   ]
  },
  {
   "cell_type": "markdown",
   "metadata": {},
   "source": [
    "####  Alphabet imagination + ASL imagination"
   ]
  },
  {
   "cell_type": "code",
   "execution_count": 12,
   "metadata": {},
   "outputs": [
    {
     "data": {
      "text/html": [
       "<div>\n",
       "<style scoped>\n",
       "    .dataframe tbody tr th:only-of-type {\n",
       "        vertical-align: middle;\n",
       "    }\n",
       "\n",
       "    .dataframe tbody tr th {\n",
       "        vertical-align: top;\n",
       "    }\n",
       "\n",
       "    .dataframe thead th {\n",
       "        text-align: right;\n",
       "    }\n",
       "</style>\n",
       "<table border=\"1\" class=\"dataframe\">\n",
       "  <thead>\n",
       "    <tr style=\"text-align: right;\">\n",
       "      <th></th>\n",
       "      <th>Classifier</th>\n",
       "      <th>param</th>\n",
       "      <th>Traing score</th>\n",
       "      <th>Test Score</th>\n",
       "      <th>Whole score</th>\n",
       "      <th>CV Score</th>\n",
       "      <th>Precision(Macro)</th>\n",
       "      <th>Precision(Micro)</th>\n",
       "      <th>Recall(Macro)</th>\n",
       "      <th>Recall(Micro)</th>\n",
       "      <th>F1 Score(Macro)</th>\n",
       "      <th>F1 Score(Micro)</th>\n",
       "    </tr>\n",
       "  </thead>\n",
       "  <tbody>\n",
       "    <tr>\n",
       "      <th>0</th>\n",
       "      <td>DT</td>\n",
       "      <td>default</td>\n",
       "      <td>1.0</td>\n",
       "      <td>0.605408</td>\n",
       "      <td>0.881611</td>\n",
       "      <td>0.589178</td>\n",
       "      <td>0.608622</td>\n",
       "      <td>0.605408</td>\n",
       "      <td>0.607285</td>\n",
       "      <td>0.605408</td>\n",
       "      <td>0.605776</td>\n",
       "      <td>0.605408</td>\n",
       "    </tr>\n",
       "    <tr>\n",
       "      <th>1</th>\n",
       "      <td>RF</td>\n",
       "      <td>default</td>\n",
       "      <td>1.0</td>\n",
       "      <td>0.622934</td>\n",
       "      <td>0.886869</td>\n",
       "      <td>0.550757</td>\n",
       "      <td>0.634479</td>\n",
       "      <td>0.622934</td>\n",
       "      <td>0.621603</td>\n",
       "      <td>0.622934</td>\n",
       "      <td>0.619981</td>\n",
       "      <td>0.622934</td>\n",
       "    </tr>\n",
       "  </tbody>\n",
       "</table>\n",
       "</div>"
      ],
      "text/plain": [
       "  Classifier    param  Traing score   Test Score  Whole score  CV Score  \\\n",
       "0         DT  default           1.0     0.605408     0.881611  0.589178   \n",
       "1         RF  default           1.0     0.622934     0.886869  0.550757   \n",
       "\n",
       "   Precision(Macro)  Precision(Micro)  Recall(Macro)  Recall(Micro)  \\\n",
       "0          0.608622          0.605408       0.607285       0.605408   \n",
       "1          0.634479          0.622934       0.621603       0.622934   \n",
       "\n",
       "   F1 Score(Macro)  F1 Score(Micro)  \n",
       "0         0.605776         0.605408  \n",
       "1         0.619981         0.622934  "
      ]
     },
     "execution_count": 12,
     "metadata": {},
     "output_type": "execute_result"
    }
   ],
   "source": [
    "data_all = np.concatenate((aat_img, asl_img), axis=0) \n",
    "\n",
    "res_list = []\n",
    "best_score = 0\n",
    "classifiers = init_classifiers_2()\n",
    "for i in classifiers:\n",
    "    results= model_evaluation_dict(data_all, labels_2, i[0], i[1], i[2])\n",
    "    res_list.append(results)\n",
    "    \n",
    "\n",
    "df_model_comparison = pd.DataFrame(res_list).sort_values(by=['F1 Score(Macro)','F1 Score(Micro)']).reset_index(drop=True)\n",
    "df_model_comparison"
   ]
  },
  {
   "cell_type": "markdown",
   "metadata": {},
   "source": [
    "Still very bad!"
   ]
  },
  {
   "cell_type": "code",
   "execution_count": null,
   "metadata": {},
   "outputs": [],
   "source": []
  },
  {
   "cell_type": "markdown",
   "metadata": {},
   "source": [
    "### Search best RF\n",
    "\n",
    "In our model table, all models chose the default params, and if we choose the best params, the performance could be improved!\n",
    "\n",
    "#### Alphabet vis+img\n",
    "\n",
    "Looking for best params for alphabet joint data 26 labels classification:"
   ]
  },
  {
   "cell_type": "code",
   "execution_count": 27,
   "metadata": {},
   "outputs": [],
   "source": [
    "# Number of trees in random forest\n",
    "n_estimators = [int(x) for x in np.linspace(start = 100, stop = 2000, num = 200)]\n",
    "# Number of features to consider at every split\n",
    "max_features = ['auto','sqrt']\n",
    "# Maximum number of levels in tree\n",
    "max_depth = [int(x) for x in np.linspace(10, 110, num = 30)]\n",
    "max_depth.append(None)\n",
    "# Minimum number of samples required to split a node\n",
    "min_samples_split = list(range(2,10))\n",
    "# Minimum number of samples required at each leaf node\n",
    "min_samples_leaf = list(range(2,10))\n",
    "# Method of selecting samples for training each tree\n",
    "bootstrap = [False,True]\n",
    "\n",
    "# Create the random grid\n",
    "random_grid = {'n_estimators': n_estimators,\n",
    "               'max_features': max_features,\n",
    "               'max_depth': max_depth,\n",
    "               'min_samples_split': min_samples_split,\n",
    "               'min_samples_leaf': min_samples_leaf,\n",
    "               'bootstrap': bootstrap}"
   ]
  },
  {
   "cell_type": "code",
   "execution_count": 28,
   "metadata": {},
   "outputs": [
    {
     "name": "stdout",
     "output_type": "stream",
     "text": [
      "Fitting 5 folds for each of 10 candidates, totalling 50 fits\n"
     ]
    },
    {
     "data": {
      "text/plain": [
       "RandomizedSearchCV(cv=5, estimator=RandomForestClassifier(), n_jobs=-1,\n",
       "                   param_distributions={'bootstrap': [False, True],\n",
       "                                        'max_depth': [10, 13, 16, 20, 23, 27,\n",
       "                                                      30, 34, 37, 41, 44, 47,\n",
       "                                                      51, 54, 58, 61, 65, 68,\n",
       "                                                      72, 75, 78, 82, 85, 89,\n",
       "                                                      92, 96, 99, 103, 106, 110, ...],\n",
       "                                        'max_features': ['auto', 'sqrt'],\n",
       "                                        'min_samples_leaf': [2, 3, 4, 5, 6, 7,\n",
       "                                                             8, 9],\n",
       "                                        'min_samples_split': [2, 3, 4, 5, 6, 7,\n",
       "                                                              8, 9],\n",
       "                                        'n_estimators': [100, 109, 119, 128,\n",
       "                                                         138, 147, 157, 166,\n",
       "                                                         176, 185, 195, 205,\n",
       "                                                         214, 224, 233, 243,\n",
       "                                                         252, 262, 271, 281,\n",
       "                                                         290, 300, 310, 319,\n",
       "                                                         329, 338, 348, 357,\n",
       "                                                         367, 376, ...]},\n",
       "                   verbose=2)"
      ]
     },
     "execution_count": 28,
     "metadata": {},
     "output_type": "execute_result"
    }
   ],
   "source": [
    "data_all = np.concatenate((aat_img, aat_vis), axis=0) \n",
    "x_train,x_test,y_train,y_test = train_test_split(data_all,labels_2,test_size=0.3)\n",
    "\n",
    "rf = RandomForestClassifier()\n",
    "rf_random = RandomizedSearchCV(estimator = rf, param_distributions = random_grid, n_iter = 10, \n",
    "                               cv = 5, verbose=2, n_jobs = -1)\n",
    "rf_random.fit(x_train, y_train)"
   ]
  },
  {
   "cell_type": "code",
   "execution_count": 29,
   "metadata": {},
   "outputs": [
    {
     "name": "stdout",
     "output_type": "stream",
     "text": [
      "{'n_estimators': 1493, 'min_samples_split': 2, 'min_samples_leaf': 2, 'max_features': 'auto', 'max_depth': 44, 'bootstrap': False}\n"
     ]
    },
    {
     "data": {
      "text/plain": [
       "0.8758137205808713"
      ]
     },
     "execution_count": 29,
     "metadata": {},
     "output_type": "execute_result"
    }
   ],
   "source": [
    "print(rf_random.best_params_)\n",
    "best_random_rf = rf_random.best_estimator_\n",
    "best_random_rf.score(x_test, y_test)"
   ]
  },
  {
   "cell_type": "code",
   "execution_count": 34,
   "metadata": {},
   "outputs": [
    {
     "name": "stdout",
     "output_type": "stream",
     "text": [
      "accuracy: 0.876\n",
      "f1 score macro av: 0.876\n",
      "recall score macro av: 0.878\n",
      "precision score macro av: 0.878\n",
      "f1 score for every class:  [0.88405797 0.88888889 0.90123457 0.83098592 0.88888889 0.92397661\n",
      " 0.79268293 0.92941176 0.88741722 0.87058824 0.91463415 0.85314685\n",
      " 0.89393939 0.90140845 0.91666667 0.83333333 0.8707483  0.87943262\n",
      " 0.84768212 0.85915493 0.87323944 0.90789474 0.82352941 0.86516854\n",
      " 0.87209302 0.85365854]\n",
      "recall:  [0.93846154 0.9        0.93589744 0.78666667 0.85       0.9875\n",
      " 0.72222222 0.91860465 0.90540541 0.84090909 0.90361446 0.88405797\n",
      " 0.88059701 0.95522388 0.88       0.78947368 0.86486486 0.83783784\n",
      " 0.90140845 0.87142857 0.89855072 0.90789474 0.75903614 1.\n",
      " 0.82417582 0.88607595]\n",
      "precision:  [0.83561644 0.87804878 0.86904762 0.88059701 0.93150685 0.86813187\n",
      " 0.87837838 0.94047619 0.87012987 0.90243902 0.92592593 0.82432432\n",
      " 0.90769231 0.85333333 0.95652174 0.88235294 0.87671233 0.92537313\n",
      " 0.8        0.84722222 0.84931507 0.90789474 0.9        0.76237624\n",
      " 0.92592593 0.82352941]\n",
      " \n"
     ]
    }
   ],
   "source": [
    "accuracy, f1_w, recall_w, precision_w,  f1, recall, precision = print_performance(y_test, best_random_rf.predict(x_test))"
   ]
  },
  {
   "cell_type": "code",
   "execution_count": 31,
   "metadata": {},
   "outputs": [
    {
     "data": {
      "text/plain": [
       "['./data/trained_ml_models/rf_aat_26class.m']"
      ]
     },
     "execution_count": 31,
     "metadata": {},
     "output_type": "execute_result"
    }
   ],
   "source": [
    "# store our RF models\n",
    "joblib.dump(best_random_rf, \"./data/trained_ml_models/rf_aat_26class.m\") \n",
    "# clf = joblib.load(\"\"./data/trained_ml_models/rf_aat_26class.m\" "
   ]
  },
  {
   "cell_type": "code",
   "execution_count": 36,
   "metadata": {},
   "outputs": [],
   "source": [
    "confusion = ConfusionMatrix(num_classes=26, labels=['A','B','C','D','E','F','G','H','I','J','K','L',\n",
    "                                                    'M','N','O','P','Q','R','S','T','U','V','W','X','Y','Z'])\n",
    "\n",
    "# confusion_matrix\n",
    "confusion.update(best_random_rf.predict(x_test), y_test)\n",
    "\n",
    "# confusion.plot()"
   ]
  },
  {
   "cell_type": "code",
   "execution_count": 37,
   "metadata": {},
   "outputs": [
    {
     "name": "stdout",
     "output_type": "stream",
     "text": [
      "the model accuracy is  0.8758137205808713\n",
      "+---+-----------+--------+-------------+---------+\n",
      "|   | Precision | Recall | Specificity | F1score |\n",
      "+---+-----------+--------+-------------+---------+\n",
      "| A |   0.836   | 0.938  |    0.994    |    1    |\n",
      "| B |   0.878   |  0.9   |    0.995    |    1    |\n",
      "| C |   0.869   | 0.936  |    0.994    |    1    |\n",
      "| D |   0.881   | 0.787  |    0.996    |    1    |\n",
      "| E |   0.932   |  0.85  |    0.997    |    1    |\n",
      "| F |   0.868   | 0.988  |    0.994    |    1    |\n",
      "| G |   0.878   | 0.722  |    0.995    |    1    |\n",
      "| H |    0.94   | 0.919  |    0.997    |    1    |\n",
      "| I |    0.87   | 0.905  |    0.995    |    1    |\n",
      "| J |   0.902   | 0.841  |    0.996    |    1    |\n",
      "| K |   0.926   | 0.904  |    0.997    |    1    |\n",
      "| L |   0.824   | 0.884  |    0.993    |    1    |\n",
      "| M |   0.908   | 0.881  |    0.997    |    1    |\n",
      "| N |   0.853   | 0.955  |    0.994    |    1    |\n",
      "| O |   0.957   |  0.88  |    0.998    |    1    |\n",
      "| P |   0.882   | 0.789  |    0.996    |    1    |\n",
      "| Q |   0.877   | 0.865  |    0.995    |    1    |\n",
      "| R |   0.925   | 0.838  |    0.997    |    1    |\n",
      "| S |    0.8    | 0.901  |    0.992    |    1    |\n",
      "| T |   0.847   | 0.871  |    0.994    |    1    |\n",
      "| U |   0.849   | 0.899  |    0.994    |    1    |\n",
      "| V |   0.908   | 0.908  |    0.996    |    1    |\n",
      "| W |    0.9    | 0.759  |    0.996    |    1    |\n",
      "| X |   0.762   |  1.0   |    0.988    |    1    |\n",
      "| Y |   0.926   | 0.824  |    0.997    |    1    |\n",
      "| Z |   0.824   | 0.886  |    0.992    |    1    |\n",
      "+---+-----------+--------+-------------+---------+\n"
     ]
    },
    {
     "data": {
      "text/plain": [
       "'0.8758137205808713'"
      ]
     },
     "execution_count": 37,
     "metadata": {},
     "output_type": "execute_result"
    }
   ],
   "source": [
    "confusion.summary()"
   ]
  },
  {
   "cell_type": "markdown",
   "metadata": {},
   "source": [
    "Clearly,the performance has improved 8% and reached 87.58%(of course, it can still be improved if we spend more time to search param!)\n",
    "\n",
    "Poor performance letter are X , S etc.."
   ]
  },
  {
   "cell_type": "markdown",
   "metadata": {},
   "source": [
    "#### ASL vis+img\n",
    "\n",
    "Looking for best params for ASL joint data 26 labels classification:\n",
    "\n",
    "(adjust param grid by the best AAT RF param)"
   ]
  },
  {
   "cell_type": "code",
   "execution_count": 14,
   "metadata": {},
   "outputs": [],
   "source": [
    "# Number of trees in random forest\n",
    "n_estimators = [int(x) for x in np.linspace(start = 100, stop = 1600, num = 200)]\n",
    "# Number of features to consider at every split\n",
    "max_features = ['auto']\n",
    "# Maximum number of levels in tree\n",
    "max_depth = [int(x) for x in np.linspace(10, 110, num = 30)]\n",
    "max_depth.append(None)\n",
    "# Minimum number of samples required to split a node\n",
    "min_samples_split = list(range(2,10))\n",
    "# Minimum number of samples required at each leaf node\n",
    "min_samples_leaf = list(range(2,10))\n",
    "# Method of selecting samples for training each tree\n",
    "bootstrap = [False]\n",
    "\n",
    "# Create the random grid\n",
    "random_grid = {'n_estimators': n_estimators,\n",
    "               'max_features': max_features,\n",
    "               'max_depth': max_depth,\n",
    "               'min_samples_split': min_samples_split,\n",
    "               'min_samples_leaf': min_samples_leaf,\n",
    "               'bootstrap': bootstrap}"
   ]
  },
  {
   "cell_type": "code",
   "execution_count": 40,
   "metadata": {},
   "outputs": [
    {
     "name": "stdout",
     "output_type": "stream",
     "text": [
      "Fitting 5 folds for each of 10 candidates, totalling 50 fits\n"
     ]
    },
    {
     "data": {
      "text/plain": [
       "RandomizedSearchCV(cv=5, estimator=RandomForestClassifier(), n_jobs=-1,\n",
       "                   param_distributions={'bootstrap': [False],\n",
       "                                        'max_depth': [10, 13, 16, 20, 23, 27,\n",
       "                                                      30, 34, 37, 41, 44, 47,\n",
       "                                                      51, 54, 58, 61, 65, 68,\n",
       "                                                      72, 75, 78, 82, 85, 89,\n",
       "                                                      92, 96, 99, 103, 106, 110, ...],\n",
       "                                        'max_features': ['auto'],\n",
       "                                        'min_samples_leaf': [2, 3, 4, 5, 6, 7,\n",
       "                                                             8, 9],\n",
       "                                        'min_samples_split': [2, 3, 4, 5, 6, 7,\n",
       "                                                              8, 9],\n",
       "                                        'n_estimators': [100, 107, 115, 122,\n",
       "                                                         130, 137, 145, 152,\n",
       "                                                         160, 167, 175, 182,\n",
       "                                                         190, 197, 205, 213,\n",
       "                                                         220, 228, 235, 243,\n",
       "                                                         250, 258, 265, 273,\n",
       "                                                         280, 288, 295, 303,\n",
       "                                                         311, 318, ...]},\n",
       "                   verbose=2)"
      ]
     },
     "execution_count": 40,
     "metadata": {},
     "output_type": "execute_result"
    }
   ],
   "source": [
    "data_all = np.concatenate((asl_img, asl_vis), axis=0) \n",
    "x_train,x_test,y_train,y_test = train_test_split(data_all,labels_2,test_size=0.3)\n",
    "\n",
    "rf = RandomForestClassifier()\n",
    "rf_random = RandomizedSearchCV(estimator = rf, param_distributions = random_grid, n_iter = 10, \n",
    "                               cv = 5, verbose=2, n_jobs = -1)\n",
    "rf_random.fit(x_train, y_train)"
   ]
  },
  {
   "cell_type": "code",
   "execution_count": 41,
   "metadata": {},
   "outputs": [
    {
     "name": "stdout",
     "output_type": "stream",
     "text": [
      "{'n_estimators': 386, 'min_samples_split': 4, 'min_samples_leaf': 2, 'max_features': 'auto', 'max_depth': 78, 'bootstrap': False}\n"
     ]
    },
    {
     "data": {
      "text/plain": [
       "0.9023535302954432"
      ]
     },
     "execution_count": 41,
     "metadata": {},
     "output_type": "execute_result"
    }
   ],
   "source": [
    "print(rf_random.best_params_)\n",
    "best_random_rf_2 = rf_random.best_estimator_\n",
    "best_random_rf_2.score(x_test, y_test)\n",
    "\n",
    "# accuracy, f1_w, recall_w, precision_w,  f1, recall, precision = print_performance(y_test, best_random_rf_2.predict(x_test))"
   ]
  },
  {
   "cell_type": "code",
   "execution_count": 42,
   "metadata": {},
   "outputs": [
    {
     "data": {
      "text/plain": [
       "['./data/trained_ml_models/rf_asl_26class.m']"
      ]
     },
     "execution_count": 42,
     "metadata": {},
     "output_type": "execute_result"
    }
   ],
   "source": [
    "# store our RF models\n",
    "joblib.dump(best_random_rf_2, \"./data/trained_ml_models/rf_asl_26class.m\") \n",
    "# clf = joblib.load(\"\"./data/trained_ml_models/rf_aat_26class.m\" "
   ]
  },
  {
   "cell_type": "code",
   "execution_count": 44,
   "metadata": {},
   "outputs": [
    {
     "name": "stdout",
     "output_type": "stream",
     "text": [
      "the model accuracy is  0.9023535302954432\n",
      "+---+-----------+--------+-------------+---------+\n",
      "|   | Precision | Recall | Specificity | F1score |\n",
      "+---+-----------+--------+-------------+---------+\n",
      "| A |   0.969   | 0.984  |    0.999    |    1    |\n",
      "| B |   0.949   | 0.937  |    0.998    |    1    |\n",
      "| C |   0.903   | 0.889  |    0.997    |    1    |\n",
      "| D |   0.923   | 0.857  |    0.997    |    1    |\n",
      "| E |    0.85   | 0.895  |    0.994    |    1    |\n",
      "| F |   0.892   | 0.881  |    0.995    |    1    |\n",
      "| G |    0.92   | 0.852  |    0.997    |    1    |\n",
      "| H |   0.917   | 0.948  |    0.997    |    1    |\n",
      "| I |    0.92   |  0.92  |    0.996    |    1    |\n",
      "| J |   0.909   | 0.864  |    0.996    |    1    |\n",
      "| K |   0.971   | 0.932  |    0.999    |    1    |\n",
      "| L |   0.747   | 0.912  |    0.989    |    1    |\n",
      "| M |   0.875   | 0.895  |    0.994    |    1    |\n",
      "| N |   0.949   | 0.843  |    0.998    |    1    |\n",
      "| O |   0.845   |  0.87  |    0.994    |    1    |\n",
      "| P |   0.963   |  0.94  |    0.998    |    1    |\n",
      "| Q |   0.918   | 0.807  |    0.997    |    1    |\n",
      "| R |   0.857   | 0.904  |    0.994    |    1    |\n",
      "| S |    0.9    | 0.931  |    0.995    |    1    |\n",
      "| T |   0.899   | 0.877  |    0.996    |    1    |\n",
      "| U |    0.88   | 0.961  |    0.995    |    1    |\n",
      "| V |   0.925   | 0.892  |    0.997    |    1    |\n",
      "| W |   0.944   | 0.872  |    0.998    |    1    |\n",
      "| X |   0.824   | 0.926  |    0.992    |    1    |\n",
      "| Y |   0.917   |  0.93  |    0.997    |    1    |\n",
      "| Z |   0.947   | 0.986  |    0.998    |    1    |\n",
      "+---+-----------+--------+-------------+---------+\n"
     ]
    },
    {
     "data": {
      "text/plain": [
       "'0.9023535302954432'"
      ]
     },
     "execution_count": 44,
     "metadata": {},
     "output_type": "execute_result"
    }
   ],
   "source": [
    "confusion = ConfusionMatrix(num_classes=26, labels=['A','B','C','D','E','F','G','H','I','J','K','L',\n",
    "                                                    'M','N','O','P','Q','R','S','T','U','V','W','X','Y','Z'])\n",
    "\n",
    "#confusion_matrix\n",
    "confusion.update(best_random_rf_2.predict(x_test), y_test)\n",
    "\n",
    "# confusion.plot()\n",
    "confusion.summary()"
   ]
  },
  {
   "cell_type": "markdown",
   "metadata": {},
   "source": [
    "In fact, ASL performance are higher than alphabet, but we have to keep one point in mind, those performance are not the best.\n",
    "\n",
    "In the ASL, letter L has a poor precision."
   ]
  },
  {
   "cell_type": "markdown",
   "metadata": {},
   "source": [
    "#### Alphabet vision + ASL vision"
   ]
  },
  {
   "cell_type": "code",
   "execution_count": 15,
   "metadata": {},
   "outputs": [
    {
     "name": "stdout",
     "output_type": "stream",
     "text": [
      "Fitting 5 folds for each of 10 candidates, totalling 50 fits\n"
     ]
    },
    {
     "data": {
      "text/plain": [
       "RandomizedSearchCV(cv=5, estimator=RandomForestClassifier(), n_jobs=-1,\n",
       "                   param_distributions={'bootstrap': [False],\n",
       "                                        'max_depth': [10, 13, 16, 20, 23, 27,\n",
       "                                                      30, 34, 37, 41, 44, 47,\n",
       "                                                      51, 54, 58, 61, 65, 68,\n",
       "                                                      72, 75, 78, 82, 85, 89,\n",
       "                                                      92, 96, 99, 103, 106, 110, ...],\n",
       "                                        'max_features': ['auto'],\n",
       "                                        'min_samples_leaf': [2, 3, 4, 5, 6, 7,\n",
       "                                                             8, 9],\n",
       "                                        'min_samples_split': [2, 3, 4, 5, 6, 7,\n",
       "                                                              8, 9],\n",
       "                                        'n_estimators': [100, 107, 115, 122,\n",
       "                                                         130, 137, 145, 152,\n",
       "                                                         160, 167, 175, 182,\n",
       "                                                         190, 197, 205, 213,\n",
       "                                                         220, 228, 235, 243,\n",
       "                                                         250, 258, 265, 273,\n",
       "                                                         280, 288, 295, 303,\n",
       "                                                         311, 318, ...]},\n",
       "                   verbose=2)"
      ]
     },
     "execution_count": 15,
     "metadata": {},
     "output_type": "execute_result"
    }
   ],
   "source": [
    "data_all = np.concatenate((aat_vis, asl_vis), axis=0) \n",
    "x_train,x_test,y_train,y_test = train_test_split(data_all,labels_2,test_size=0.3)\n",
    "\n",
    "rf = RandomForestClassifier()\n",
    "rf_random = RandomizedSearchCV(estimator = rf, param_distributions = random_grid, n_iter = 10, \n",
    "                               cv = 5, verbose=2, n_jobs = -1)\n",
    "rf_random.fit(x_train, y_train)"
   ]
  },
  {
   "cell_type": "code",
   "execution_count": 16,
   "metadata": {},
   "outputs": [
    {
     "name": "stdout",
     "output_type": "stream",
     "text": [
      "{'n_estimators': 1223, 'min_samples_split': 6, 'min_samples_leaf': 3, 'max_features': 'auto', 'max_depth': 58, 'bootstrap': False}\n"
     ]
    },
    {
     "data": {
      "text/plain": [
       "0.7431146720080121"
      ]
     },
     "execution_count": 16,
     "metadata": {},
     "output_type": "execute_result"
    }
   ],
   "source": [
    "print(rf_random.best_params_)\n",
    "best_random_rf_4 = rf_random.best_estimator_\n",
    "best_random_rf_4.score(x_test, y_test)"
   ]
  },
  {
   "cell_type": "code",
   "execution_count": 17,
   "metadata": {},
   "outputs": [
    {
     "data": {
      "text/plain": [
       "['./data/trained_ml_models/rf_all-vis_26class.m']"
      ]
     },
     "execution_count": 17,
     "metadata": {},
     "output_type": "execute_result"
    }
   ],
   "source": [
    "# store our RF models\n",
    "joblib.dump(best_random_rf_4, \"./data/trained_ml_models/rf_all-vis_26class.m\") "
   ]
  },
  {
   "cell_type": "code",
   "execution_count": 18,
   "metadata": {},
   "outputs": [
    {
     "name": "stdout",
     "output_type": "stream",
     "text": [
      "the model accuracy is  0.7431146720080121\n",
      "+---+-----------+--------+-------------+---------+\n",
      "|   | Precision | Recall | Specificity | F1score |\n",
      "+---+-----------+--------+-------------+---------+\n",
      "| A |   0.853   | 0.784  |    0.995    |    1    |\n",
      "| B |   0.829   | 0.733  |    0.993    |    1    |\n",
      "| C |   0.739   | 0.747  |    0.988    |    1    |\n",
      "| D |   0.797   | 0.696  |    0.993    |    1    |\n",
      "| E |   0.781   | 0.685  |    0.993    |    1    |\n",
      "| F |   0.688   | 0.746  |    0.988    |    1    |\n",
      "| G |   0.607   | 0.689  |    0.983    |    1    |\n",
      "| H |   0.738   |  0.57  |    0.992    |    1    |\n",
      "| I |   0.909   | 0.714  |    0.997    |    1    |\n",
      "| J |    0.63   |  0.59  |    0.986    |    1    |\n",
      "| K |    0.71   |  0.71  |     0.99    |    1    |\n",
      "| L |   0.769   | 0.732  |    0.991    |    1    |\n",
      "| M |   0.778   |  0.7   |    0.991    |    1    |\n",
      "| N |    0.85   |  0.85  |    0.994    |    1    |\n",
      "| O |   0.734   | 0.784  |    0.989    |    1    |\n",
      "| P |   0.779   |  0.75  |    0.991    |    1    |\n",
      "| Q |   0.776   | 0.722  |    0.992    |    1    |\n",
      "| R |   0.625   | 0.581  |    0.984    |    1    |\n",
      "| S |   0.727   | 0.865  |    0.988    |    1    |\n",
      "| T |   0.885   | 0.812  |    0.995    |    1    |\n",
      "| U |   0.771   |  0.74  |    0.992    |    1    |\n",
      "| V |   0.836   |  0.81  |    0.995    |    1    |\n",
      "| W |   0.667   | 0.783  |    0.986    |    1    |\n",
      "| X |   0.635   |  1.0   |    0.976    |    1    |\n",
      "| Y |   0.773   | 0.671  |    0.992    |    1    |\n",
      "| Z |   0.644   |  0.89  |    0.981    |    1    |\n",
      "+---+-----------+--------+-------------+---------+\n"
     ]
    },
    {
     "data": {
      "text/plain": [
       "'0.7431146720080121'"
      ]
     },
     "execution_count": 18,
     "metadata": {},
     "output_type": "execute_result"
    }
   ],
   "source": [
    "confusion = ConfusionMatrix(num_classes=26, labels=['A','B','C','D','E','F','G','H','I','J','K','L',\n",
    "                                                    'M','N','O','P','Q','R','S','T','U','V','W','X','Y','Z'])\n",
    "\n",
    "#confusion_matrix\n",
    "confusion.update(best_random_rf_4.predict(x_test), y_test)\n",
    "\n",
    "# confusion.plot()\n",
    "confusion.summary()"
   ]
  },
  {
   "cell_type": "markdown",
   "metadata": {},
   "source": [
    "Not bigger than 0.8%, skip ablation."
   ]
  },
  {
   "cell_type": "markdown",
   "metadata": {},
   "source": [
    "#### Alphabet imagination + ASL imagination"
   ]
  },
  {
   "cell_type": "code",
   "execution_count": 19,
   "metadata": {},
   "outputs": [
    {
     "name": "stdout",
     "output_type": "stream",
     "text": [
      "Fitting 5 folds for each of 10 candidates, totalling 50 fits\n"
     ]
    },
    {
     "data": {
      "text/plain": [
       "RandomizedSearchCV(cv=5, estimator=RandomForestClassifier(), n_jobs=-1,\n",
       "                   param_distributions={'bootstrap': [False],\n",
       "                                        'max_depth': [10, 13, 16, 20, 23, 27,\n",
       "                                                      30, 34, 37, 41, 44, 47,\n",
       "                                                      51, 54, 58, 61, 65, 68,\n",
       "                                                      72, 75, 78, 82, 85, 89,\n",
       "                                                      92, 96, 99, 103, 106, 110, ...],\n",
       "                                        'max_features': ['auto'],\n",
       "                                        'min_samples_leaf': [2, 3, 4, 5, 6, 7,\n",
       "                                                             8, 9],\n",
       "                                        'min_samples_split': [2, 3, 4, 5, 6, 7,\n",
       "                                                              8, 9],\n",
       "                                        'n_estimators': [100, 107, 115, 122,\n",
       "                                                         130, 137, 145, 152,\n",
       "                                                         160, 167, 175, 182,\n",
       "                                                         190, 197, 205, 213,\n",
       "                                                         220, 228, 235, 243,\n",
       "                                                         250, 258, 265, 273,\n",
       "                                                         280, 288, 295, 303,\n",
       "                                                         311, 318, ...]},\n",
       "                   verbose=2)"
      ]
     },
     "execution_count": 19,
     "metadata": {},
     "output_type": "execute_result"
    }
   ],
   "source": [
    "data_all = np.concatenate((aat_img, asl_img), axis=0) \n",
    "x_train,x_test,y_train,y_test = train_test_split(data_all,labels_2,test_size=0.3)\n",
    "\n",
    "rf = RandomForestClassifier()\n",
    "rf_random = RandomizedSearchCV(estimator = rf, param_distributions = random_grid, n_iter = 10, \n",
    "                               cv = 5, verbose=2, n_jobs = -1)\n",
    "rf_random.fit(x_train, y_train)"
   ]
  },
  {
   "cell_type": "code",
   "execution_count": 20,
   "metadata": {},
   "outputs": [
    {
     "name": "stdout",
     "output_type": "stream",
     "text": [
      "{'n_estimators': 220, 'min_samples_split': 5, 'min_samples_leaf': 3, 'max_features': 'auto', 'max_depth': 61, 'bootstrap': False}\n"
     ]
    },
    {
     "data": {
      "text/plain": [
       "0.7401101652478718"
      ]
     },
     "execution_count": 20,
     "metadata": {},
     "output_type": "execute_result"
    }
   ],
   "source": [
    "print(rf_random.best_params_)\n",
    "best_random_rf_5 = rf_random.best_estimator_\n",
    "best_random_rf_5.score(x_test, y_test)"
   ]
  },
  {
   "cell_type": "code",
   "execution_count": 21,
   "metadata": {},
   "outputs": [
    {
     "data": {
      "text/plain": [
       "['./data/trained_ml_models/rf_all-img_26class.m']"
      ]
     },
     "execution_count": 21,
     "metadata": {},
     "output_type": "execute_result"
    }
   ],
   "source": [
    "# store our RF models\n",
    "joblib.dump(best_random_rf_5, \"./data/trained_ml_models/rf_all-img_26class.m\") "
   ]
  },
  {
   "cell_type": "code",
   "execution_count": 22,
   "metadata": {},
   "outputs": [
    {
     "name": "stdout",
     "output_type": "stream",
     "text": [
      "the model accuracy is  0.7401101652478718\n",
      "+---+-----------+--------+-------------+---------+\n",
      "|   | Precision | Recall | Specificity | F1score |\n",
      "+---+-----------+--------+-------------+---------+\n",
      "| A |   0.881   | 0.819  |    0.996    |    1    |\n",
      "| B |   0.899   | 0.795  |    0.996    |    1    |\n",
      "| C |   0.778   | 0.812  |    0.992    |    1    |\n",
      "| D |    0.77   |  0.74  |    0.991    |    1    |\n",
      "| E |   0.776   | 0.612  |    0.992    |    1    |\n",
      "| F |   0.663   |  0.76  |    0.985    |    1    |\n",
      "| G |   0.704   | 0.695  |    0.987    |    1    |\n",
      "| H |   0.654   | 0.761  |    0.986    |    1    |\n",
      "| I |   0.824   | 0.772  |    0.993    |    1    |\n",
      "| J |   0.676   | 0.615  |    0.988    |    1    |\n",
      "| K |    0.71   | 0.645  |     0.99    |    1    |\n",
      "| L |    0.73   | 0.747  |    0.987    |    1    |\n",
      "| M |   0.716   | 0.806  |    0.988    |    1    |\n",
      "| N |   0.824   | 0.651  |    0.994    |    1    |\n",
      "| O |   0.882   | 0.667  |    0.996    |    1    |\n",
      "| P |    0.69   | 0.731  |    0.989    |    1    |\n",
      "| Q |   0.794   | 0.581  |    0.993    |    1    |\n",
      "| R |   0.838   | 0.775  |    0.994    |    1    |\n",
      "| S |    0.65   | 0.878  |    0.982    |    1    |\n",
      "| T |   0.848   | 0.778  |    0.995    |    1    |\n",
      "| U |   0.735   | 0.714  |    0.991    |    1    |\n",
      "| V |   0.738   | 0.868  |    0.989    |    1    |\n",
      "| W |   0.783   | 0.643  |    0.992    |    1    |\n",
      "| X |   0.555   | 0.974  |    0.968    |    1    |\n",
      "| Y |   0.815   | 0.716  |    0.994    |    1    |\n",
      "| Z |   0.622   | 0.789  |    0.982    |    1    |\n",
      "+---+-----------+--------+-------------+---------+\n"
     ]
    },
    {
     "data": {
      "text/plain": [
       "'0.7401101652478718'"
      ]
     },
     "execution_count": 22,
     "metadata": {},
     "output_type": "execute_result"
    }
   ],
   "source": [
    "confusion = ConfusionMatrix(num_classes=26, labels=['A','B','C','D','E','F','G','H','I','J','K','L',\n",
    "                                                    'M','N','O','P','Q','R','S','T','U','V','W','X','Y','Z'])\n",
    "\n",
    "#confusion_matrix\n",
    "confusion.update(best_random_rf_5.predict(x_test), y_test)\n",
    "\n",
    "# confusion.plot()\n",
    "confusion.summary()"
   ]
  },
  {
   "cell_type": "markdown",
   "metadata": {},
   "source": [
    "Not bigger than 0.8%, skip ablation."
   ]
  },
  {
   "cell_type": "markdown",
   "metadata": {},
   "source": [
    "#### All joint data(4 modes)\n",
    "\n",
    "Looking for best params for all joint data 26 labels classification:"
   ]
  },
  {
   "cell_type": "code",
   "execution_count": 45,
   "metadata": {},
   "outputs": [],
   "source": [
    "# Number of trees in random forest\n",
    "n_estimators = [int(x) for x in np.linspace(start = 100, stop = 1600, num = 200)]\n",
    "# Number of features to consider at every split\n",
    "max_features = ['auto']\n",
    "# Maximum number of levels in tree\n",
    "max_depth = [int(x) for x in np.linspace(10, 110, num = 30)]\n",
    "max_depth.append(None)\n",
    "# Minimum number of samples required to split a node\n",
    "min_samples_split = list(range(2,10))\n",
    "# Minimum number of samples required at each leaf node\n",
    "min_samples_leaf = list(range(2,10))\n",
    "# Method of selecting samples for training each tree\n",
    "bootstrap = [False]\n",
    "\n",
    "# Create the random grid\n",
    "random_grid = {'n_estimators': n_estimators,\n",
    "               'max_features': max_features,\n",
    "               'max_depth': max_depth,\n",
    "               'min_samples_split': min_samples_split,\n",
    "               'min_samples_leaf': min_samples_leaf,\n",
    "               'bootstrap': bootstrap}"
   ]
  },
  {
   "cell_type": "code",
   "execution_count": 46,
   "metadata": {},
   "outputs": [
    {
     "name": "stdout",
     "output_type": "stream",
     "text": [
      "Fitting 5 folds for each of 10 candidates, totalling 50 fits\n"
     ]
    },
    {
     "data": {
      "text/plain": [
       "RandomizedSearchCV(cv=5, estimator=RandomForestClassifier(), n_jobs=-1,\n",
       "                   param_distributions={'bootstrap': [False],\n",
       "                                        'max_depth': [10, 13, 16, 20, 23, 27,\n",
       "                                                      30, 34, 37, 41, 44, 47,\n",
       "                                                      51, 54, 58, 61, 65, 68,\n",
       "                                                      72, 75, 78, 82, 85, 89,\n",
       "                                                      92, 96, 99, 103, 106, 110, ...],\n",
       "                                        'max_features': ['auto'],\n",
       "                                        'min_samples_leaf': [2, 3, 4, 5, 6, 7,\n",
       "                                                             8, 9],\n",
       "                                        'min_samples_split': [2, 3, 4, 5, 6, 7,\n",
       "                                                              8, 9],\n",
       "                                        'n_estimators': [100, 107, 115, 122,\n",
       "                                                         130, 137, 145, 152,\n",
       "                                                         160, 167, 175, 182,\n",
       "                                                         190, 197, 205, 213,\n",
       "                                                         220, 228, 235, 243,\n",
       "                                                         250, 258, 265, 273,\n",
       "                                                         280, 288, 295, 303,\n",
       "                                                         311, 318, ...]},\n",
       "                   verbose=2)"
      ]
     },
     "execution_count": 46,
     "metadata": {},
     "output_type": "execute_result"
    }
   ],
   "source": [
    "data_all = np.concatenate((asl_img, asl_vis, aat_img, aat_vis), axis=0) \n",
    "x_train,x_test,y_train,y_test = train_test_split(data_all,labels_4,test_size=0.3)\n",
    "\n",
    "rf = RandomForestClassifier()\n",
    "rf_random = RandomizedSearchCV(estimator = rf, param_distributions = random_grid, n_iter = 10, \n",
    "                               cv = 5, verbose=2, n_jobs = -1)\n",
    "rf_random.fit(x_train, y_train)"
   ]
  },
  {
   "cell_type": "code",
   "execution_count": 47,
   "metadata": {},
   "outputs": [
    {
     "name": "stdout",
     "output_type": "stream",
     "text": [
      "{'n_estimators': 529, 'min_samples_split': 2, 'min_samples_leaf': 2, 'max_features': 'auto', 'max_depth': 34, 'bootstrap': False}\n"
     ]
    },
    {
     "data": {
      "text/plain": [
       "0.8820731096644967"
      ]
     },
     "execution_count": 47,
     "metadata": {},
     "output_type": "execute_result"
    }
   ],
   "source": [
    "print(rf_random.best_params_)\n",
    "best_random_rf_3 = rf_random.best_estimator_\n",
    "best_random_rf_3.score(x_test, y_test)\n",
    "# accuracy, f1_w, recall_w, precision_w,  f1, recall, precision = print_performance(y_test, best_random_rf_3.predict(x_test))"
   ]
  },
  {
   "cell_type": "code",
   "execution_count": 50,
   "metadata": {},
   "outputs": [
    {
     "data": {
      "text/plain": [
       "['./data/trained_ml_models/rf_all-joint_26class.m']"
      ]
     },
     "execution_count": 50,
     "metadata": {},
     "output_type": "execute_result"
    }
   ],
   "source": [
    "# store our RF models\n",
    "joblib.dump(best_random_rf_3, \"./data/trained_ml_models/rf_all-joint_26class.m\") \n",
    "# clf = joblib.load(\"\"./data/trained_ml_models/rf_aat_26class.m\" "
   ]
  },
  {
   "cell_type": "code",
   "execution_count": 51,
   "metadata": {},
   "outputs": [
    {
     "name": "stdout",
     "output_type": "stream",
     "text": [
      "the model accuracy is  0.8820731096644967\n",
      "+---+-----------+--------+-------------+---------+\n",
      "|   | Precision | Recall | Specificity | F1score |\n",
      "+---+-----------+--------+-------------+---------+\n",
      "| A |   0.865   | 0.918  |    0.995    |    1    |\n",
      "| B |   0.925   | 0.936  |    0.997    |    1    |\n",
      "| C |   0.942   | 0.915  |    0.997    |    1    |\n",
      "| D |    0.92   | 0.873  |    0.997    |    1    |\n",
      "| E |   0.886   | 0.795  |    0.996    |    1    |\n",
      "| F |   0.839   | 0.945  |    0.994    |    1    |\n",
      "| G |   0.865   | 0.805  |    0.995    |    1    |\n",
      "| H |   0.915   |  0.89  |    0.997    |    1    |\n",
      "| I |   0.861   | 0.882  |    0.994    |    1    |\n",
      "| J |   0.837   | 0.837  |    0.993    |    1    |\n",
      "| K |   0.908   | 0.805  |    0.997    |    1    |\n",
      "| L |   0.843   | 0.893  |    0.993    |    1    |\n",
      "| M |   0.871   | 0.853  |    0.995    |    1    |\n",
      "| N |   0.849   |  0.86  |    0.994    |    1    |\n",
      "| O |   0.907   | 0.815  |    0.996    |    1    |\n",
      "| P |    0.86   | 0.822  |    0.995    |    1    |\n",
      "| Q |   0.926   | 0.868  |    0.997    |    1    |\n",
      "| R |   0.877   |  0.86  |    0.995    |    1    |\n",
      "| S |   0.842   | 0.934  |    0.992    |    1    |\n",
      "| T |   0.914   | 0.921  |    0.997    |    1    |\n",
      "| U |   0.926   | 0.913  |    0.997    |    1    |\n",
      "| V |   0.924   | 0.906  |    0.997    |    1    |\n",
      "| W |   0.917   | 0.883  |    0.997    |    1    |\n",
      "| X |   0.766   | 0.973  |    0.989    |    1    |\n",
      "| Y |   0.892   | 0.936  |    0.996    |    1    |\n",
      "| Z |   0.897   | 0.915  |    0.996    |    1    |\n",
      "+---+-----------+--------+-------------+---------+\n"
     ]
    },
    {
     "data": {
      "text/plain": [
       "'0.8820731096644967'"
      ]
     },
     "execution_count": 51,
     "metadata": {},
     "output_type": "execute_result"
    }
   ],
   "source": [
    "confusion = ConfusionMatrix(num_classes=26, labels=['A','B','C','D','E','F','G','H','I','J','K','L',\n",
    "                                                    'M','N','O','P','Q','R','S','T','U','V','W','X','Y','Z'])\n",
    "\n",
    "#confusion_matrix\n",
    "confusion.update(best_random_rf_3.predict(x_test), y_test)\n",
    "\n",
    "# confusion.plot()\n",
    "confusion.summary()"
   ]
  },
  {
   "cell_type": "markdown",
   "metadata": {},
   "source": [
    "We could find that even we do not distinguish alphabet, asl, vision and imagination, the model can still understand which letter this signal represent!\n",
    "\n",
    "Very interesting and important!"
   ]
  },
  {
   "cell_type": "markdown",
   "metadata": {},
   "source": [
    "### Notice\n",
    "\n",
    "Here again, due to time reasons and the limitation of computing resources, we did not conduct extensive parameter search, so all models have the possibility of improving performance."
   ]
  },
  {
   "cell_type": "code",
   "execution_count": null,
   "metadata": {},
   "outputs": [],
   "source": []
  },
  {
   "cell_type": "markdown",
   "metadata": {},
   "source": [
    "## Feature importance\n",
    "\n",
    "Check the important decision feature in our RF models.\n",
    "\n",
    "### Alphabet feature importance"
   ]
  },
  {
   "cell_type": "code",
   "execution_count": 98,
   "metadata": {},
   "outputs": [],
   "source": [
    "feat_importance = best_random_rf.feature_importances_\n",
    "\n",
    "fe_dict = {col_name[i]:feat_importance[i] for i in range(len(feat_importance))}\n",
    "fe_list = sorted(fe_dict.items(), key=lambda x: np.abs(x[1]), reverse=True)"
   ]
  },
  {
   "cell_type": "code",
   "execution_count": 99,
   "metadata": {},
   "outputs": [
    {
     "data": {
      "image/png": "[encoded data removed]",
      "text/plain": [
       "<Figure size 432x288 with 1 Axes>"
      ]
     },
     "metadata": {
      "needs_background": "light"
     },
     "output_type": "display_data"
    }
   ],
   "source": [
    "# fe_list[0:20]\n",
    "tt = fe_list[0:20]\n",
    "t1 = [item[0] for item in tt]\n",
    "t2 = [np.abs(item[1]) for item in tt]\n",
    "\n",
    "sns.barplot(x=t2, y=t1)\n",
    "# ax.set_xlabel()\n",
    "plt.show()"
   ]
  },
  {
   "cell_type": "markdown",
   "metadata": {},
   "source": [
    "The top features are very different compare to our binary classification task."
   ]
  },
  {
   "cell_type": "code",
   "execution_count": 100,
   "metadata": {},
   "outputs": [],
   "source": [
    "# # Compare with SHAP values' results\n",
    "# import shap\n",
    "# # load JS visualization code to notebook \n",
    "# shap.initjs() \n",
    "\n",
    "# explainer = shap.TreeExplainer(best_random_rf) \n",
    "\n",
    "# x_test = pd.DataFrame(x_test, columns=col_name)\n",
    "# shap_values = explainer.shap_values(x_test)\n",
    "# shap_interaction_values = explainer.shap_interaction_values(x_test)\n",
    "\n",
    "\n",
    "# print(\"Variable Importance Plot - Global Interpretation\") \n",
    "# figure = plt.figure() \n",
    "# shap.summary_plot(shap_values, x_test)"
   ]
  },
  {
   "cell_type": "markdown",
   "metadata": {},
   "source": [
    "SHAP need a lot of time and computing ability."
   ]
  },
  {
   "cell_type": "code",
   "execution_count": 101,
   "metadata": {},
   "outputs": [
    {
     "data": {
      "image/png": "[encoded data removed]",
      "text/plain": [
       "<Figure size 864x216 with 2 Axes>"
      ]
     },
     "metadata": {
      "needs_background": "light"
     },
     "output_type": "display_data"
    }
   ],
   "source": [
    "fe_list_value = [np.abs(item[1]) for item in fe_list]\n",
    "\n",
    "fig, ax = plt.subplots(1,2,constrained_layout=True, figsize=(12, 3))\n",
    "axesSub = sns.boxplot(fe_list_value, ax=ax[0])\n",
    "axesSub.set_title('Features importances boxplot')\n",
    "axesSub = sns.violinplot(fe_list_value, ax=ax[1])\n",
    "axesSub.set_title('Features importances violinplot')\n",
    "plt.show()"
   ]
  },
  {
   "cell_type": "markdown",
   "metadata": {},
   "source": [
    "threshold choose 0.001"
   ]
  },
  {
   "cell_type": "code",
   "execution_count": 102,
   "metadata": {},
   "outputs": [
    {
     "data": {
      "image/png": "[encoded data removed]",
      "text/plain": [
       "<Figure size 864x216 with 4 Axes>"
      ]
     },
     "metadata": {
      "needs_background": "light"
     },
     "output_type": "display_data"
    }
   ],
   "source": [
    "big, small = threshold_list(fe_list_value, threshold=0.001)\n",
    "\n",
    "fig, ax = plt.subplots(1,4,constrained_layout=True, figsize=(12, 3))\n",
    "axesSub = sns.boxplot(big, ax=ax[0])\n",
    "axesSub.set_title('> 0.001 features boxplot')\n",
    "axesSub = sns.violinplot(big, ax=ax[1])\n",
    "axesSub.set_title('> 0.001 features violinplot')\n",
    "axesSub = sns.boxplot(small, ax=ax[2])\n",
    "axesSub.set_title('< 0.001 features boxplot')\n",
    "axesSub = sns.violinplot(small, ax=ax[3])\n",
    "axesSub.set_title('< 0.001 features violinplot')\n",
    "plt.show()"
   ]
  },
  {
   "cell_type": "code",
   "execution_count": 103,
   "metadata": {},
   "outputs": [],
   "source": [
    "threshold = 0.001\n",
    "\n",
    "RF_df_original = dict()\n",
    "RF_df_original['channel'] = list()\n",
    "RF_df_original['fe_names'] = list()\n",
    "RF_df_original['fe_values'] = list()\n",
    "RF_df_original['full_names'] = list()\n",
    "\n",
    "for item in fe_list:\n",
    "    if np.abs(item[1]) >= threshold:\n",
    "        tt = item[0].split('_')\n",
    "        RF_df_original['full_names'].append(item[0])\n",
    "        RF_df_original['fe_names'].append( ('_').join(tt[1:])  )\n",
    "        RF_df_original['channel'].append(tt[0])\n",
    "        RF_df_original['fe_values'].append(item[1])\n",
    "        \n",
    "\n",
    "RF_df_original = pd.DataFrame(RF_df_original)\n",
    "\n",
    "tt = RF_df_original[['fe_names', 'fe_values']].groupby('fe_names')\n",
    "tt =tt.sum().sort_values(by=['fe_values'], ascending=False)\n",
    "t1 = np.array(tt.index[:10])\n",
    "t2 = np.array(tt)[:10].reshape(-1,)\n",
    "\n",
    "pp = RF_df_original[['channel', 'fe_values']].groupby('channel')\n",
    "pp = pp.sum().sort_values(by=['fe_values'], ascending=False)\n",
    "p1 = np.array(pp.index[:10])\n",
    "p2 = np.array(pp)[:10].reshape(10,)"
   ]
  },
  {
   "cell_type": "code",
   "execution_count": 104,
   "metadata": {
    "scrolled": true
   },
   "outputs": [
    {
     "data": {
      "image/png": "[encoded data removed]",
      "text/plain": [
       "<Figure size 864x864 with 4 Axes>"
      ]
     },
     "metadata": {
      "needs_background": "light"
     },
     "output_type": "display_data"
    }
   ],
   "source": [
    "fig, ax = plt.subplots(4,1,constrained_layout=True, figsize=(12, 12))\n",
    "\n",
    "#  sns.countplot(x='channel',data = LR_df_weigthed)\n",
    "axesSub = sns.countplot(x='channel',data = RF_df_original,ax=ax[0])\n",
    "axesSub.set_title('channel appearance count')\n",
    "\n",
    "axesSub = sns.countplot(x='fe_names',data = RF_df_original,ax=ax[1])\n",
    "axesSub.set_xticklabels(axesSub.get_xticklabels(), rotation=40, ha=\"right\")\n",
    "axesSub.set_title('feature appearance count')\n",
    "\n",
    "axesSub = sns.barplot(x=t1,y=t2, ax=ax[2])\n",
    "axesSub.set_xticklabels(axesSub.get_xticklabels(), rotation=40, ha=\"right\")\n",
    "axesSub.set_title('features importances barplot')\n",
    "\n",
    "axesSub = sns.barplot(x=p1,y=p2, ax=ax[3])\n",
    "axesSub.set_xticklabels(axesSub.get_xticklabels(), rotation=40, ha=\"right\")\n",
    "axesSub.set_title('channels importances barplot')\n",
    "\n",
    "plt.show()"
   ]
  },
  {
   "cell_type": "markdown",
   "metadata": {},
   "source": [
    "Here the most important feature are MAP, mean_energy, and other statistical information.\n",
    "\n",
    "The most important channel are 5 16 15 8."
   ]
  },
  {
   "cell_type": "code",
   "execution_count": 106,
   "metadata": {},
   "outputs": [],
   "source": [
    "pp1 = pp "
   ]
  },
  {
   "cell_type": "markdown",
   "metadata": {},
   "source": [
    "### ASL feature importance"
   ]
  },
  {
   "cell_type": "code",
   "execution_count": 107,
   "metadata": {},
   "outputs": [
    {
     "data": {
      "image/png": "[encoded data removed]",
      "text/plain": [
       "<Figure size 432x288 with 1 Axes>"
      ]
     },
     "metadata": {
      "needs_background": "light"
     },
     "output_type": "display_data"
    }
   ],
   "source": [
    "feat_importance_2 = best_random_rf_2.feature_importances_\n",
    "\n",
    "fe_dict_2 = {col_name[i]:feat_importance_2[i] for i in range(len(feat_importance_2))}\n",
    "fe_list_2 = sorted(fe_dict_2.items(), key=lambda x: np.abs(x[1]), reverse=True)\n",
    "\n",
    "\n",
    "# fe_list[0:20]\n",
    "tt = fe_list_2[0:20]\n",
    "t1 = [item[0] for item in tt]\n",
    "t2 = [np.abs(item[1]) for item in tt]\n",
    "\n",
    "sns.barplot(x=t2, y=t1)\n",
    "# ax.set_xlabel()\n",
    "plt.show()"
   ]
  },
  {
   "cell_type": "markdown",
   "metadata": {},
   "source": [
    "Feature coherence seems play a big role here!"
   ]
  },
  {
   "cell_type": "code",
   "execution_count": 108,
   "metadata": {},
   "outputs": [
    {
     "data": {
      "image/png": "[encoded data removed]",
      "text/plain": [
       "<Figure size 864x216 with 2 Axes>"
      ]
     },
     "metadata": {
      "needs_background": "light"
     },
     "output_type": "display_data"
    }
   ],
   "source": [
    "fe_list_value_2 = [np.abs(item[1]) for item in fe_list_2]\n",
    "\n",
    "fig, ax = plt.subplots(1,2,constrained_layout=True, figsize=(12, 3))\n",
    "axesSub = sns.boxplot(fe_list_value_2, ax=ax[0])\n",
    "axesSub.set_title('Features importances boxplot')\n",
    "axesSub = sns.violinplot(fe_list_value_2, ax=ax[1])\n",
    "axesSub.set_title('Features importances violinplot')\n",
    "plt.show()"
   ]
  },
  {
   "cell_type": "code",
   "execution_count": 109,
   "metadata": {},
   "outputs": [
    {
     "data": {
      "image/png": "[encoded data removed]",
      "text/plain": [
       "<Figure size 864x216 with 4 Axes>"
      ]
     },
     "metadata": {
      "needs_background": "light"
     },
     "output_type": "display_data"
    }
   ],
   "source": [
    "big, small = threshold_list(fe_list_value_2, threshold=0.001)\n",
    "\n",
    "fig, ax = plt.subplots(1,4,constrained_layout=True, figsize=(12, 3))\n",
    "axesSub = sns.boxplot(big, ax=ax[0])\n",
    "axesSub.set_title('> 0.001 features boxplot')\n",
    "axesSub = sns.violinplot(big, ax=ax[1])\n",
    "axesSub.set_title('> 0.001 features violinplot')\n",
    "axesSub = sns.boxplot(small, ax=ax[2])\n",
    "axesSub.set_title('< 0.001 features boxplot')\n",
    "axesSub = sns.violinplot(small, ax=ax[3])\n",
    "axesSub.set_title('< 0.001 features violinplot')\n",
    "plt.show()"
   ]
  },
  {
   "cell_type": "markdown",
   "metadata": {},
   "source": [
    "The feature distribution here is more uneven than the alphabet feature."
   ]
  },
  {
   "cell_type": "code",
   "execution_count": 110,
   "metadata": {},
   "outputs": [],
   "source": [
    "threshold = 0.001\n",
    "\n",
    "RF_df_original_2 = dict()\n",
    "RF_df_original_2['channel'] = list()\n",
    "RF_df_original_2['fe_names'] = list()\n",
    "RF_df_original_2['fe_values'] = list()\n",
    "RF_df_original_2['full_names'] = list()\n",
    "\n",
    "for item in fe_list_2:\n",
    "    if np.abs(item[1]) >= threshold:\n",
    "        tt = item[0].split('_')\n",
    "        RF_df_original_2['full_names'].append(item[0])\n",
    "        RF_df_original_2['fe_names'].append( ('_').join(tt[1:])  )\n",
    "        RF_df_original_2['channel'].append(tt[0])\n",
    "        RF_df_original_2['fe_values'].append(item[1])\n",
    "        \n",
    "\n",
    "RF_df_original_2 = pd.DataFrame(RF_df_original_2)\n",
    "\n",
    "tt = RF_df_original_2[['fe_names', 'fe_values']].groupby('fe_names')\n",
    "tt = tt.sum().sort_values(by=['fe_values'], ascending=False)\n",
    "t1 = np.array(tt.index[:10])\n",
    "t2 = np.array(tt)[:10].reshape(-1,)\n",
    "\n",
    "pp = RF_df_original_2[['channel', 'fe_values']].groupby('channel')\n",
    "pp = pp.sum().sort_values(by=['fe_values'], ascending=False)\n",
    "p1 = np.array(pp.index[:10])\n",
    "p2 = np.array(pp)[:10].reshape(10,)"
   ]
  },
  {
   "cell_type": "code",
   "execution_count": 111,
   "metadata": {
    "scrolled": true
   },
   "outputs": [
    {
     "data": {
      "image/png": "[encoded data removed]",
      "text/plain": [
       "<Figure size 864x864 with 4 Axes>"
      ]
     },
     "metadata": {
      "needs_background": "light"
     },
     "output_type": "display_data"
    }
   ],
   "source": [
    "fig, ax = plt.subplots(4,1,constrained_layout=True, figsize=(12, 12))\n",
    "\n",
    "#  sns.countplot(x='channel',data = LR_df_weigthed)\n",
    "axesSub = sns.countplot(x='channel',data = RF_df_original_2,ax=ax[0])\n",
    "axesSub.set_title('channel appearance count')\n",
    "\n",
    "axesSub = sns.countplot(x='fe_names',data = RF_df_original_2,ax=ax[1])\n",
    "axesSub.set_xticklabels(axesSub.get_xticklabels(), rotation=40, ha=\"right\")\n",
    "axesSub.set_title('feature appearance count')\n",
    "\n",
    "axesSub = sns.barplot(x=t1,y=t2, ax=ax[2])\n",
    "axesSub.set_xticklabels(axesSub.get_xticklabels(), rotation=40, ha=\"right\")\n",
    "axesSub.set_title('features importances barplot')\n",
    "\n",
    "axesSub = sns.barplot(x=p1,y=p2, ax=ax[3])\n",
    "axesSub.set_xticklabels(axesSub.get_xticklabels(), rotation=40, ha=\"right\")\n",
    "axesSub.set_title('channels importances barplot')\n",
    "\n",
    "plt.show()"
   ]
  },
  {
   "cell_type": "markdown",
   "metadata": {},
   "source": [
    "Most of them are the same statistical features as before, but there are also important features in binary classification,such as coefficient_variation, kurtosis, alpha/delta, etc.\n",
    "\n",
    "\n",
    "The most important channel here are 16 5 4 13; (ch5 ch 16 are also important in the last one)\n",
    "\n",
    "\n",
    "(Actually, we have to distinguish the difference between sign language and alphabet. For alphabet, my brain has a memory and cognitive relationship with it, while sign language is my short-term memory, which is more inclined to image memory)"
   ]
  },
  {
   "cell_type": "code",
   "execution_count": 112,
   "metadata": {},
   "outputs": [],
   "source": [
    "pp2 = pp"
   ]
  },
  {
   "cell_type": "markdown",
   "metadata": {},
   "source": [
    "### Joint data feature importance"
   ]
  },
  {
   "cell_type": "code",
   "execution_count": 113,
   "metadata": {},
   "outputs": [
    {
     "data": {
      "image/png": "[encoded data removed]",
      "text/plain": [
       "<Figure size 432x288 with 1 Axes>"
      ]
     },
     "metadata": {
      "needs_background": "light"
     },
     "output_type": "display_data"
    }
   ],
   "source": [
    "feat_importance_3 = best_random_rf_3.feature_importances_\n",
    "\n",
    "fe_dict_3 = {col_name[i]:feat_importance_3[i] for i in range(len(feat_importance_3))}\n",
    "fe_list_3 = sorted(fe_dict_3.items(), key=lambda x: np.abs(x[1]), reverse=True)\n",
    "\n",
    "\n",
    "# fe_list[0:20]\n",
    "tt = fe_list_3[0:20]\n",
    "t1 = [item[0] for item in tt]\n",
    "t2 = [np.abs(item[1]) for item in tt]\n",
    "\n",
    "sns.barplot(x=t2, y=t1)\n",
    "# ax.set_xlabel()\n",
    "plt.show()"
   ]
  },
  {
   "cell_type": "code",
   "execution_count": 114,
   "metadata": {},
   "outputs": [
    {
     "data": {
      "image/png": "[encoded data removed]",
      "text/plain": [
       "<Figure size 864x216 with 2 Axes>"
      ]
     },
     "metadata": {
      "needs_background": "light"
     },
     "output_type": "display_data"
    }
   ],
   "source": [
    "fe_list_value_3 = [np.abs(item[1]) for item in fe_list_3]\n",
    "\n",
    "fig, ax = plt.subplots(1,2,constrained_layout=True, figsize=(12, 3))\n",
    "axesSub = sns.boxplot(fe_list_value_3, ax=ax[0])\n",
    "axesSub.set_title('Features importances boxplot')\n",
    "axesSub = sns.violinplot(fe_list_value_3, ax=ax[1])\n",
    "axesSub.set_title('Features importances violinplot')\n",
    "plt.show()"
   ]
  },
  {
   "cell_type": "code",
   "execution_count": 115,
   "metadata": {},
   "outputs": [
    {
     "data": {
      "image/png": "[encoded data removed]",
      "text/plain": [
       "<Figure size 864x216 with 4 Axes>"
      ]
     },
     "metadata": {
      "needs_background": "light"
     },
     "output_type": "display_data"
    }
   ],
   "source": [
    "big, small = threshold_list(fe_list_value_3, threshold=0.001)\n",
    "\n",
    "fig, ax = plt.subplots(1,4,constrained_layout=True, figsize=(12, 3))\n",
    "axesSub = sns.boxplot(big, ax=ax[0])\n",
    "axesSub.set_title('> 0.001 features boxplot')\n",
    "axesSub = sns.violinplot(big, ax=ax[1])\n",
    "axesSub.set_title('> 0.001 features violinplot')\n",
    "axesSub = sns.boxplot(small, ax=ax[2])\n",
    "axesSub.set_title('< 0.001 features boxplot')\n",
    "axesSub = sns.violinplot(small, ax=ax[3])\n",
    "axesSub.set_title('< 0.001 features violinplot')\n",
    "plt.show()"
   ]
  },
  {
   "cell_type": "code",
   "execution_count": 116,
   "metadata": {},
   "outputs": [],
   "source": [
    "threshold = 0.001\n",
    "\n",
    "RF_df_original_3 = dict()\n",
    "RF_df_original_3['channel'] = list()\n",
    "RF_df_original_3['fe_names'] = list()\n",
    "RF_df_original_3['fe_values'] = list()\n",
    "RF_df_original_3['full_names'] = list()\n",
    "\n",
    "for item in fe_list_3:\n",
    "    if np.abs(item[1]) >= threshold:\n",
    "        tt = item[0].split('_')\n",
    "        RF_df_original_3['full_names'].append(item[0])\n",
    "        RF_df_original_3['fe_names'].append( ('_').join(tt[1:])  )\n",
    "        RF_df_original_3['channel'].append(tt[0])\n",
    "        RF_df_original_3['fe_values'].append(item[1])\n",
    "        \n",
    "\n",
    "RF_df_original_3 = pd.DataFrame(RF_df_original_3)\n",
    "\n",
    "tt = RF_df_original_3[['fe_names', 'fe_values']].groupby('fe_names')\n",
    "tt = tt.sum().sort_values(by=['fe_values'], ascending=False)\n",
    "t1 = np.array(tt.index[:10])\n",
    "t2 = np.array(tt)[:10].reshape(-1,)\n",
    "\n",
    "pp = RF_df_original_3[['channel', 'fe_values']].groupby('channel')\n",
    "pp = pp.sum().sort_values(by=['fe_values'], ascending=False)\n",
    "p1 = np.array(pp.index[:10])\n",
    "p2 = np.array(pp)[:10].reshape(10,)"
   ]
  },
  {
   "cell_type": "code",
   "execution_count": 96,
   "metadata": {
    "scrolled": true
   },
   "outputs": [
    {
     "data": {
      "image/png": "[encoded data removed]",
      "text/plain": [
       "<Figure size 864x864 with 4 Axes>"
      ]
     },
     "metadata": {
      "needs_background": "light"
     },
     "output_type": "display_data"
    }
   ],
   "source": [
    "fig, ax = plt.subplots(4,1,constrained_layout=True, figsize=(12, 12))\n",
    "\n",
    "#  sns.countplot(x='channel',data = LR_df_weigthed)\n",
    "axesSub = sns.countplot(x='channel',data = RF_df_original_3,ax=ax[0])\n",
    "axesSub.set_title('channel appearance count')\n",
    "\n",
    "axesSub = sns.countplot(x='fe_names',data = RF_df_original_3,ax=ax[1])\n",
    "axesSub.set_xticklabels(axesSub.get_xticklabels(), rotation=40, ha=\"right\")\n",
    "axesSub.set_title('feature appearance count')\n",
    "\n",
    "axesSub = sns.barplot(x=t1,y=t2, ax=ax[2])\n",
    "axesSub.set_xticklabels(axesSub.get_xticklabels(), rotation=40, ha=\"right\")\n",
    "axesSub.set_title('features importances barplot')\n",
    "\n",
    "axesSub = sns.barplot(x=p1,y=p2, ax=ax[3])\n",
    "axesSub.set_xticklabels(axesSub.get_xticklabels(), rotation=40, ha=\"right\")\n",
    "axesSub.set_title('channels importances barplot')\n",
    "\n",
    "plt.show()"
   ]
  },
  {
   "cell_type": "markdown",
   "metadata": {},
   "source": [
    "Because the results of this data come from the combination of sign language and alphabet, the results will be more biased towards better performance, that is, sign language, but this also shows that these statistical characteristics may be the key to determining our brain's understanding of a certain letter."
   ]
  },
  {
   "cell_type": "code",
   "execution_count": 117,
   "metadata": {},
   "outputs": [],
   "source": [
    "pp3 = pp"
   ]
  },
  {
   "cell_type": "markdown",
   "metadata": {},
   "source": [
    "## Ablation experiments\n",
    "\n",
    "We will perform ablation experiments according to the importance of the channel features in the previous part, delete some channels and corresponding features, and check the performance of the random forest on the new data.\n",
    "\n",
    "threshold of performance will be 0.8;\n",
    "\n",
    "Define a function to drop ch features:"
   ]
  },
  {
   "cell_type": "code",
   "execution_count": 50,
   "metadata": {},
   "outputs": [],
   "source": [
    "def drop_ch_features(df,drop_list):\n",
    "    \n",
    "    results = list()\n",
    "    fe_name = list(df.columns)\n",
    "    \n",
    "    for item in fe_name:\n",
    "        strr = item.split('_')\n",
    "        if strr[0] in drop_list:\n",
    "            continue\n",
    "        else:\n",
    "            results.append(item)\n",
    "    # print(len(results))\n",
    "    return df[results],results"
   ]
  },
  {
   "cell_type": "code",
   "execution_count": 51,
   "metadata": {},
   "outputs": [],
   "source": [
    "# data_all = np.concatenate((aat_img, aat_vis), axis=0) \n",
    "# data_all = pd.DataFrame(data_all, columns=col_name)\n",
    "# # data_all.columns\n",
    "# new_x = drop_ch_features(data_all, ['ch1','ch2'])\n",
    "# new_x.shape"
   ]
  },
  {
   "cell_type": "markdown",
   "metadata": {},
   "source": [
    "### Alphabet 26"
   ]
  },
  {
   "cell_type": "code",
   "execution_count": 131,
   "metadata": {},
   "outputs": [
    {
     "data": {
      "text/html": [
       "<div>\n",
       "<style scoped>\n",
       "    .dataframe tbody tr th:only-of-type {\n",
       "        vertical-align: middle;\n",
       "    }\n",
       "\n",
       "    .dataframe tbody tr th {\n",
       "        vertical-align: top;\n",
       "    }\n",
       "\n",
       "    .dataframe thead th {\n",
       "        text-align: right;\n",
       "    }\n",
       "</style>\n",
       "<table border=\"1\" class=\"dataframe\">\n",
       "  <thead>\n",
       "    <tr style=\"text-align: right;\">\n",
       "      <th></th>\n",
       "      <th>fe_values</th>\n",
       "    </tr>\n",
       "    <tr>\n",
       "      <th>channel</th>\n",
       "      <th></th>\n",
       "    </tr>\n",
       "  </thead>\n",
       "  <tbody>\n",
       "    <tr>\n",
       "      <th>ch5</th>\n",
       "      <td>0.067484</td>\n",
       "    </tr>\n",
       "    <tr>\n",
       "      <th>ch16</th>\n",
       "      <td>0.064723</td>\n",
       "    </tr>\n",
       "    <tr>\n",
       "      <th>ch15</th>\n",
       "      <td>0.062342</td>\n",
       "    </tr>\n",
       "    <tr>\n",
       "      <th>ch8</th>\n",
       "      <td>0.059675</td>\n",
       "    </tr>\n",
       "    <tr>\n",
       "      <th>ch6</th>\n",
       "      <td>0.050038</td>\n",
       "    </tr>\n",
       "    <tr>\n",
       "      <th>ch14</th>\n",
       "      <td>0.048942</td>\n",
       "    </tr>\n",
       "    <tr>\n",
       "      <th>ch13</th>\n",
       "      <td>0.048478</td>\n",
       "    </tr>\n",
       "    <tr>\n",
       "      <th>ch7</th>\n",
       "      <td>0.046051</td>\n",
       "    </tr>\n",
       "    <tr>\n",
       "      <th>ch3</th>\n",
       "      <td>0.044636</td>\n",
       "    </tr>\n",
       "    <tr>\n",
       "      <th>ch4</th>\n",
       "      <td>0.041489</td>\n",
       "    </tr>\n",
       "    <tr>\n",
       "      <th>ch10</th>\n",
       "      <td>0.040536</td>\n",
       "    </tr>\n",
       "    <tr>\n",
       "      <th>ch11</th>\n",
       "      <td>0.034975</td>\n",
       "    </tr>\n",
       "    <tr>\n",
       "      <th>ch12</th>\n",
       "      <td>0.034969</td>\n",
       "    </tr>\n",
       "    <tr>\n",
       "      <th>ch9</th>\n",
       "      <td>0.030501</td>\n",
       "    </tr>\n",
       "    <tr>\n",
       "      <th>ch1</th>\n",
       "      <td>0.019614</td>\n",
       "    </tr>\n",
       "    <tr>\n",
       "      <th>ch2</th>\n",
       "      <td>0.019128</td>\n",
       "    </tr>\n",
       "  </tbody>\n",
       "</table>\n",
       "</div>"
      ],
      "text/plain": [
       "         fe_values\n",
       "channel           \n",
       "ch5       0.067484\n",
       "ch16      0.064723\n",
       "ch15      0.062342\n",
       "ch8       0.059675\n",
       "ch6       0.050038\n",
       "ch14      0.048942\n",
       "ch13      0.048478\n",
       "ch7       0.046051\n",
       "ch3       0.044636\n",
       "ch4       0.041489\n",
       "ch10      0.040536\n",
       "ch11      0.034975\n",
       "ch12      0.034969\n",
       "ch9       0.030501\n",
       "ch1       0.019614\n",
       "ch2       0.019128"
      ]
     },
     "execution_count": 131,
     "metadata": {},
     "output_type": "execute_result"
    }
   ],
   "source": [
    "pp1"
   ]
  },
  {
   "cell_type": "markdown",
   "metadata": {},
   "source": [
    "Drop ch1 ch2(less than 0.02):"
   ]
  },
  {
   "cell_type": "code",
   "execution_count": 52,
   "metadata": {},
   "outputs": [
    {
     "name": "stdout",
     "output_type": "stream",
     "text": [
      "the model accuracy is  0.8753129694541812\n",
      "+---+-----------+--------+-------------+---------+\n",
      "|   | Precision | Recall | Specificity | F1score |\n",
      "+---+-----------+--------+-------------+---------+\n",
      "| A |   0.952   | 0.878  |    0.998    |    1    |\n",
      "| B |   0.843   | 0.882  |    0.993    |    1    |\n",
      "| C |   0.906   | 0.951  |    0.996    |    1    |\n",
      "| D |   0.897   | 0.824  |    0.996    |    1    |\n",
      "| E |    0.89   | 0.855  |    0.996    |    1    |\n",
      "| F |   0.793   | 0.867  |    0.991    |    1    |\n",
      "| G |   0.935   | 0.716  |    0.998    |    1    |\n",
      "| H |   0.893   |  0.87  |    0.996    |    1    |\n",
      "| I |   0.873   | 0.827  |    0.995    |    1    |\n",
      "| J |   0.813   | 0.847  |    0.993    |    1    |\n",
      "| K |   0.867   | 0.929  |    0.995    |    1    |\n",
      "| L |   0.921   | 0.833  |    0.997    |    1    |\n",
      "| M |   0.821   | 0.877  |    0.993    |    1    |\n",
      "| N |    0.93   | 0.957  |    0.997    |    1    |\n",
      "| O |   0.912   | 0.924  |    0.996    |    1    |\n",
      "| P |   0.895   | 0.797  |    0.997    |    1    |\n",
      "| Q |    0.96   | 0.889  |    0.998    |    1    |\n",
      "| R |   0.815   | 0.835  |    0.992    |    1    |\n",
      "| S |   0.772   | 0.924  |    0.991    |    1    |\n",
      "| T |   0.899   | 0.866  |    0.996    |    1    |\n",
      "| U |   0.835   |  0.91  |    0.993    |    1    |\n",
      "| V |   0.947   | 0.923  |    0.998    |    1    |\n",
      "| W |   0.899   | 0.866  |    0.996    |    1    |\n",
      "| X |   0.765   | 0.975  |    0.987    |    1    |\n",
      "| Y |    0.9    | 0.875  |    0.996    |    1    |\n",
      "| Z |   0.901   | 0.865  |    0.996    |    1    |\n",
      "+---+-----------+--------+-------------+---------+\n"
     ]
    },
    {
     "data": {
      "text/plain": [
       "'0.8753129694541812'"
      ]
     },
     "execution_count": 52,
     "metadata": {},
     "output_type": "execute_result"
    }
   ],
   "source": [
    "data_all = np.concatenate((aat_img, aat_vis), axis=0) \n",
    "data_all = pd.DataFrame(data_all, columns=col_name)\n",
    "new_x,fe_names = drop_ch_features(data_all, ['ch1','ch2'])\n",
    "x_train,x_test,y_train,y_test = train_test_split(new_x,labels_2,test_size=0.3)\n",
    "\n",
    "rf = RandomForestClassifier(n_estimators=1493, min_samples_split=2, min_samples_leaf=2, \n",
    "                            max_features='auto', max_depth=44, bootstrap=False)\n",
    "rf.fit(x_train, y_train)\n",
    "\n",
    "confusion = ConfusionMatrix(num_classes=26, labels=['A','B','C','D','E','F','G','H','I','J','K','L',\n",
    "                                                    'M','N','O','P','Q','R','S','T','U','V','W','X','Y','Z'])\n",
    "confusion.update(rf.predict(x_test), y_test)\n",
    "confusion.summary()"
   ]
  },
  {
   "cell_type": "markdown",
   "metadata": {},
   "source": [
    "The performance maintains.\n",
    "\n",
    "Drop feature importance values less than 0.04 channels:"
   ]
  },
  {
   "cell_type": "code",
   "execution_count": 53,
   "metadata": {},
   "outputs": [
    {
     "name": "stdout",
     "output_type": "stream",
     "text": [
      "the model accuracy is  0.8587881822734101\n",
      "+---+-----------+--------+-------------+---------+\n",
      "|   | Precision | Recall | Specificity | F1score |\n",
      "+---+-----------+--------+-------------+---------+\n",
      "| A |   0.873   | 0.841  |    0.995    |    1    |\n",
      "| B |   0.875   | 0.917  |    0.994    |    1    |\n",
      "| C |   0.778   | 0.864  |     0.99    |    1    |\n",
      "| D |   0.918   | 0.779  |    0.997    |    1    |\n",
      "| E |   0.877   |  0.78  |    0.995    |    1    |\n",
      "| F |   0.866   | 0.922  |    0.994    |    1    |\n",
      "| G |   0.958   | 0.775  |    0.998    |    1    |\n",
      "| H |   0.928   |  0.81  |    0.997    |    1    |\n",
      "| I |   0.871   | 0.884  |    0.995    |    1    |\n",
      "| J |   0.844   | 0.833  |    0.994    |    1    |\n",
      "| K |   0.928   | 0.842  |    0.997    |    1    |\n",
      "| L |   0.871   | 0.871  |    0.994    |    1    |\n",
      "| M |   0.866   | 0.806  |    0.995    |    1    |\n",
      "| N |   0.904   | 0.892  |    0.996    |    1    |\n",
      "| O |   0.927   |  0.81  |    0.998    |    1    |\n",
      "| P |   0.886   | 0.912  |    0.996    |    1    |\n",
      "| Q |   0.806   | 0.931  |    0.993    |    1    |\n",
      "| R |   0.896   | 0.896  |    0.996    |    1    |\n",
      "| S |   0.945   | 0.841  |    0.998    |    1    |\n",
      "| T |   0.789   | 0.922  |     0.99    |    1    |\n",
      "| U |   0.866   | 0.877  |    0.994    |    1    |\n",
      "| V |   0.905   | 0.807  |    0.996    |    1    |\n",
      "| W |   0.816   | 0.888  |    0.992    |    1    |\n",
      "| X |   0.663   |  1.0   |    0.982    |    1    |\n",
      "| Y |   0.829   | 0.818  |    0.993    |    1    |\n",
      "| Z |   0.795   | 0.875  |    0.991    |    1    |\n",
      "+---+-----------+--------+-------------+---------+\n"
     ]
    },
    {
     "data": {
      "text/plain": [
       "'0.8587881822734101'"
      ]
     },
     "execution_count": 53,
     "metadata": {},
     "output_type": "execute_result"
    }
   ],
   "source": [
    "data_all = np.concatenate((aat_img, aat_vis), axis=0) \n",
    "data_all = pd.DataFrame(data_all, columns=col_name)\n",
    "new_x, fe_names = drop_ch_features(data_all, ['ch1','ch2','ch11','ch9','ch12'])\n",
    "x_train,x_test,y_train,y_test = train_test_split(new_x,labels_2,test_size=0.3)\n",
    "\n",
    "rf = RandomForestClassifier(n_estimators=1493, min_samples_split=2, min_samples_leaf=2, \n",
    "                            max_features='auto', max_depth=44, bootstrap=False)\n",
    "rf.fit(x_train, y_train)\n",
    "\n",
    "confusion = ConfusionMatrix(num_classes=26, labels=['A','B','C','D','E','F','G','H','I','J','K','L',\n",
    "                                                    'M','N','O','P','Q','R','S','T','U','V','W','X','Y','Z'])\n",
    "confusion.update(rf.predict(x_test), y_test)\n",
    "confusion.summary()"
   ]
  },
  {
   "cell_type": "markdown",
   "metadata": {},
   "source": [
    "The performance drops a little 0.02.\n",
    "\n",
    "Drop feature importance values less than 0.05 channels:"
   ]
  },
  {
   "cell_type": "code",
   "execution_count": 54,
   "metadata": {},
   "outputs": [
    {
     "name": "stdout",
     "output_type": "stream",
     "text": [
      "the model accuracy is  0.8527791687531296\n",
      "+---+-----------+--------+-------------+---------+\n",
      "|   | Precision | Recall | Specificity | F1score |\n",
      "+---+-----------+--------+-------------+---------+\n",
      "| A |   0.862   | 0.824  |    0.995    |    1    |\n",
      "| B |   0.786   |  0.93  |    0.991    |    1    |\n",
      "| C |   0.868   | 0.868  |    0.995    |    1    |\n",
      "| D |   0.944   | 0.931  |    0.998    |    1    |\n",
      "| E |    0.93   | 0.825  |    0.997    |    1    |\n",
      "| F |   0.837   | 0.951  |    0.992    |    1    |\n",
      "| G |   0.899   | 0.849  |    0.996    |    1    |\n",
      "| H |   0.905   | 0.859  |    0.996    |    1    |\n",
      "| I |   0.901   | 0.889  |    0.996    |    1    |\n",
      "| J |   0.931   | 0.848  |    0.997    |    1    |\n",
      "| K |   0.888   | 0.899  |    0.995    |    1    |\n",
      "| L |   0.852   | 0.862  |    0.994    |    1    |\n",
      "| M |   0.944   |  0.8   |    0.998    |    1    |\n",
      "| N |   0.912   | 0.859  |    0.996    |    1    |\n",
      "| O |   0.805   | 0.835  |    0.992    |    1    |\n",
      "| P |    0.8    | 0.771  |    0.992    |    1    |\n",
      "| Q |   0.861   | 0.827  |    0.995    |    1    |\n",
      "| R |   0.827   | 0.753  |    0.993    |    1    |\n",
      "| S |   0.864   | 0.905  |    0.994    |    1    |\n",
      "| T |   0.851   | 0.887  |    0.994    |    1    |\n",
      "| U |    0.8    | 0.812  |    0.993    |    1    |\n",
      "| V |   0.791   | 0.935  |     0.99    |    1    |\n",
      "| W |   0.896   | 0.741  |    0.996    |    1    |\n",
      "| X |   0.667   | 0.984  |    0.985    |    1    |\n",
      "| Y |   0.952   | 0.756  |    0.998    |    1    |\n",
      "| Z |    0.72   | 0.831  |    0.988    |    1    |\n",
      "+---+-----------+--------+-------------+---------+\n"
     ]
    },
    {
     "data": {
      "text/plain": [
       "'0.8527791687531296'"
      ]
     },
     "execution_count": 54,
     "metadata": {},
     "output_type": "execute_result"
    }
   ],
   "source": [
    "data_all = np.concatenate((aat_img, aat_vis), axis=0) \n",
    "data_all = pd.DataFrame(data_all, columns=col_name)\n",
    "new_x, fe_names = drop_ch_features(data_all, ['ch1','ch2','ch3','ch4','ch7','ch9','ch10','ch11','ch12','ch13','ch14'])\n",
    "x_train,x_test,y_train,y_test = train_test_split(new_x,labels_2,test_size=0.3)\n",
    "\n",
    "rf = RandomForestClassifier(n_estimators=1493, min_samples_split=2, min_samples_leaf=2, \n",
    "                            max_features='auto', max_depth=44, bootstrap=False)\n",
    "rf.fit(x_train, y_train)\n",
    "\n",
    "confusion = ConfusionMatrix(num_classes=26, labels=['A','B','C','D','E','F','G','H','I','J','K','L',\n",
    "                                                    'M','N','O','P','Q','R','S','T','U','V','W','X','Y','Z'])\n",
    "confusion.update(rf.predict(x_test), y_test)\n",
    "confusion.summary()"
   ]
  },
  {
   "cell_type": "markdown",
   "metadata": {},
   "source": [
    "The performance drops a little 0.02.\n",
    "\n",
    "Drop feature importance values less than 0.06 channels(three channels are kept):"
   ]
  },
  {
   "cell_type": "code",
   "execution_count": 55,
   "metadata": {},
   "outputs": [
    {
     "name": "stdout",
     "output_type": "stream",
     "text": [
      "the model accuracy is  0.8197295943915874\n",
      "+---+-----------+--------+-------------+---------+\n",
      "|   | Precision | Recall | Specificity | F1score |\n",
      "+---+-----------+--------+-------------+---------+\n",
      "| A |   0.917   | 0.835  |    0.997    |    1    |\n",
      "| B |   0.803   | 0.924  |    0.992    |    1    |\n",
      "| C |   0.855   | 0.843  |    0.995    |    1    |\n",
      "| D |   0.823   | 0.765  |    0.993    |    1    |\n",
      "| E |   0.859   | 0.813  |    0.995    |    1    |\n",
      "| F |    0.76   | 0.792  |    0.991    |    1    |\n",
      "| G |   0.831   | 0.831  |    0.993    |    1    |\n",
      "| H |   0.901   | 0.859  |    0.996    |    1    |\n",
      "| I |   0.814   | 0.826  |    0.993    |    1    |\n",
      "| J |   0.882   | 0.779  |    0.996    |    1    |\n",
      "| K |   0.873   | 0.861  |    0.995    |    1    |\n",
      "| L |   0.909   | 0.682  |    0.997    |    1    |\n",
      "| M |   0.844   | 0.774  |    0.994    |    1    |\n",
      "| N |   0.819   | 0.975  |    0.991    |    1    |\n",
      "| O |   0.923   | 0.759  |    0.997    |    1    |\n",
      "| P |   0.812   | 0.767  |    0.993    |    1    |\n",
      "| Q |   0.886   | 0.861  |    0.996    |    1    |\n",
      "| R |   0.768   | 0.757  |    0.992    |    1    |\n",
      "| S |    0.78   | 0.888  |     0.99    |    1    |\n",
      "| T |   0.795   | 0.849  |    0.992    |    1    |\n",
      "| U |   0.747   | 0.775  |    0.989    |    1    |\n",
      "| V |   0.785   | 0.838  |    0.991    |    1    |\n",
      "| W |   0.789   | 0.833  |    0.992    |    1    |\n",
      "| X |   0.585   | 0.958  |    0.975    |    1    |\n",
      "| Y |   0.887   | 0.663  |    0.996    |    1    |\n",
      "| Z |   0.859   | 0.859  |    0.994    |    1    |\n",
      "+---+-----------+--------+-------------+---------+\n"
     ]
    },
    {
     "data": {
      "text/plain": [
       "'0.8197295943915874'"
      ]
     },
     "execution_count": 55,
     "metadata": {},
     "output_type": "execute_result"
    }
   ],
   "source": [
    "data_all = np.concatenate((aat_img, aat_vis), axis=0) \n",
    "data_all = pd.DataFrame(data_all, columns=col_name)\n",
    "new_x, fe_names = drop_ch_features(data_all, ['ch1','ch2','ch3','ch4','ch6','ch7','ch8','ch9','ch10','ch11','ch12','ch13','ch14'])\n",
    "x_train,x_test,y_train,y_test = train_test_split(new_x,labels_2,test_size=0.3)\n",
    "\n",
    "rf = RandomForestClassifier(n_estimators=1493, min_samples_split=2, min_samples_leaf=2, \n",
    "                            max_features='auto', max_depth=44, bootstrap=False)\n",
    "rf.fit(x_train, y_train)\n",
    "\n",
    "confusion = ConfusionMatrix(num_classes=26, labels=['A','B','C','D','E','F','G','H','I','J','K','L',\n",
    "                                                    'M','N','O','P','Q','R','S','T','U','V','W','X','Y','Z'])\n",
    "confusion.update(rf.predict(x_test), y_test)\n",
    "confusion.summary()"
   ]
  },
  {
   "cell_type": "markdown",
   "metadata": {},
   "source": [
    "The performance drops 0.06.\n",
    "\n",
    "Just keep the most important channel 5:"
   ]
  },
  {
   "cell_type": "code",
   "execution_count": 56,
   "metadata": {},
   "outputs": [
    {
     "name": "stdout",
     "output_type": "stream",
     "text": [
      "the model accuracy is  0.642463695543315\n",
      "+---+-----------+--------+-------------+---------+\n",
      "|   | Precision | Recall | Specificity | F1score |\n",
      "+---+-----------+--------+-------------+---------+\n",
      "| A |   0.658   | 0.667  |    0.987    |    1    |\n",
      "| B |   0.646   | 0.545  |    0.988    |    1    |\n",
      "| C |   0.688   | 0.663  |    0.987    |    1    |\n",
      "| D |   0.623   | 0.642  |    0.987    |    1    |\n",
      "| E |    0.6    |  0.52  |    0.986    |    1    |\n",
      "| F |   0.567   | 0.708  |     0.98    |    1    |\n",
      "| G |    0.6    | 0.608  |    0.984    |    1    |\n",
      "| H |   0.561   | 0.536  |    0.985    |    1    |\n",
      "| I |   0.636   | 0.645  |    0.985    |    1    |\n",
      "| J |   0.662   | 0.662  |    0.986    |    1    |\n",
      "| K |   0.634   |  0.57  |    0.986    |    1    |\n",
      "| L |   0.707   | 0.662  |    0.989    |    1    |\n",
      "| M |   0.683   | 0.573  |     0.99    |    1    |\n",
      "| N |   0.545   | 0.646  |    0.982    |    1    |\n",
      "| O |   0.667   | 0.632  |    0.988    |    1    |\n",
      "| P |   0.706   | 0.686  |     0.99    |    1    |\n",
      "| Q |   0.538   | 0.597  |    0.981    |    1    |\n",
      "| R |   0.685   |  0.61  |    0.988    |    1    |\n",
      "| S |   0.667   | 0.674  |    0.985    |    1    |\n",
      "| T |   0.766   | 0.636  |    0.992    |    1    |\n",
      "| U |   0.826   | 0.695  |    0.994    |    1    |\n",
      "| V |   0.702   | 0.656  |    0.987    |    1    |\n",
      "| W |   0.619   | 0.667  |    0.983    |    1    |\n",
      "| X |   0.541   | 0.975  |    0.965    |    1    |\n",
      "| Y |   0.672   | 0.592  |    0.989    |    1    |\n",
      "| Z |    0.65   | 0.605  |    0.985    |    1    |\n",
      "+---+-----------+--------+-------------+---------+\n"
     ]
    },
    {
     "data": {
      "text/plain": [
       "'0.642463695543315'"
      ]
     },
     "execution_count": 56,
     "metadata": {},
     "output_type": "execute_result"
    }
   ],
   "source": [
    "data_all = np.concatenate((aat_img, aat_vis), axis=0) \n",
    "data_all = pd.DataFrame(data_all, columns=col_name)\n",
    "new_x, fe_names = drop_ch_features(data_all, ['ch1','ch2','ch3','ch4','ch6','ch7','ch8','ch9','ch10','ch11','ch12','ch13','ch14','ch15','ch16'])\n",
    "x_train,x_test,y_train,y_test = train_test_split(new_x,labels_2,test_size=0.3)\n",
    "\n",
    "rf = RandomForestClassifier(n_estimators=1493, min_samples_split=2, min_samples_leaf=2, \n",
    "                            max_features='auto', max_depth=44, bootstrap=False)\n",
    "rf.fit(x_train, y_train)\n",
    "\n",
    "confusion = ConfusionMatrix(num_classes=26, labels=['A','B','C','D','E','F','G','H','I','J','K','L',\n",
    "                                                    'M','N','O','P','Q','R','S','T','U','V','W','X','Y','Z'])\n",
    "confusion.update(rf.predict(x_test), y_test)\n",
    "confusion.summary()"
   ]
  },
  {
   "cell_type": "markdown",
   "metadata": {},
   "source": [
    "The performance drops 0.23.\n",
    "\n",
    "Just keep the most important channel 16:"
   ]
  },
  {
   "cell_type": "code",
   "execution_count": 58,
   "metadata": {},
   "outputs": [
    {
     "name": "stdout",
     "output_type": "stream",
     "text": [
      "the model accuracy is  0.6559839759639459\n",
      "+---+-----------+--------+-------------+---------+\n",
      "|   | Precision | Recall | Specificity | F1score |\n",
      "+---+-----------+--------+-------------+---------+\n",
      "| A |   0.644   | 0.573  |    0.986    |    1    |\n",
      "| B |   0.569   | 0.521  |    0.985    |    1    |\n",
      "| C |   0.781   |  0.76  |    0.992    |    1    |\n",
      "| D |    0.72   | 0.761  |    0.989    |    1    |\n",
      "| E |   0.557   | 0.672  |    0.984    |    1    |\n",
      "| F |   0.628   | 0.794  |    0.983    |    1    |\n",
      "| G |   0.682   | 0.592  |    0.989    |    1    |\n",
      "| H |   0.566   | 0.729  |    0.983    |    1    |\n",
      "| I |   0.827   | 0.653  |    0.993    |    1    |\n",
      "| J |   0.591   | 0.663  |     0.98    |    1    |\n",
      "| K |   0.667   | 0.578  |    0.987    |    1    |\n",
      "| L |   0.634   | 0.584  |    0.986    |    1    |\n",
      "| M |    0.61   | 0.474  |    0.988    |    1    |\n",
      "| N |    0.61   | 0.662  |    0.984    |    1    |\n",
      "| O |   0.727   | 0.651  |    0.989    |    1    |\n",
      "| P |   0.734   | 0.701  |    0.991    |    1    |\n",
      "| Q |   0.765   | 0.578  |    0.992    |    1    |\n",
      "| R |   0.653   | 0.627  |    0.987    |    1    |\n",
      "| S |   0.699   | 0.662  |    0.989    |    1    |\n",
      "| T |    0.6    | 0.584  |    0.984    |    1    |\n",
      "| U |   0.663   | 0.655  |    0.985    |    1    |\n",
      "| V |   0.714   | 0.769  |    0.987    |    1    |\n",
      "| W |    0.59   | 0.687  |    0.983    |    1    |\n",
      "| X |   0.619   | 0.936  |    0.977    |    1    |\n",
      "| Y |   0.596   | 0.683  |     0.98    |    1    |\n",
      "| Z |   0.662   | 0.582  |    0.986    |    1    |\n",
      "+---+-----------+--------+-------------+---------+\n"
     ]
    },
    {
     "data": {
      "text/plain": [
       "'0.6559839759639459'"
      ]
     },
     "execution_count": 58,
     "metadata": {},
     "output_type": "execute_result"
    }
   ],
   "source": [
    "data_all = np.concatenate((aat_img, aat_vis), axis=0) \n",
    "data_all = pd.DataFrame(data_all, columns=col_name)\n",
    "new_x,fe_names = drop_ch_features(data_all, ['ch1','ch2','ch3','ch4','ch6','ch7','ch8','ch9','ch10','ch11','ch12','ch13','ch14','ch15','ch5'])\n",
    "x_train,x_test,y_train,y_test = train_test_split(new_x,labels_2,test_size=0.3)\n",
    "\n",
    "rf = RandomForestClassifier(n_estimators=1493, min_samples_split=2, min_samples_leaf=2, \n",
    "                            max_features='auto', max_depth=44, bootstrap=False)\n",
    "rf.fit(x_train, y_train)\n",
    "\n",
    "confusion = ConfusionMatrix(num_classes=26, labels=['A','B','C','D','E','F','G','H','I','J','K','L',\n",
    "                                                    'M','N','O','P','Q','R','S','T','U','V','W','X','Y','Z'])\n",
    "confusion.update(rf.predict(x_test), y_test)\n",
    "confusion.summary()"
   ]
  },
  {
   "cell_type": "markdown",
   "metadata": {},
   "source": [
    "Keep the most unimportant ch1 ch2:"
   ]
  },
  {
   "cell_type": "code",
   "execution_count": 59,
   "metadata": {},
   "outputs": [
    {
     "name": "stdout",
     "output_type": "stream",
     "text": [
      "the model accuracy is  0.5247871807711567\n",
      "+---+-----------+--------+-------------+---------+\n",
      "|   | Precision | Recall | Specificity | F1score |\n",
      "+---+-----------+--------+-------------+---------+\n",
      "| A |   0.642   | 0.538  |    0.987    |    1    |\n",
      "| B |   0.432   | 0.443  |    0.976    |    0    |\n",
      "| C |    0.56   | 0.488  |    0.983    |    1    |\n",
      "| D |   0.438   | 0.457  |    0.979    |    0    |\n",
      "| E |    0.55   | 0.423  |    0.986    |    0    |\n",
      "| F |   0.526   | 0.621  |    0.981    |    1    |\n",
      "| G |   0.526   | 0.488  |    0.981    |    1    |\n",
      "| H |   0.561   | 0.468  |    0.985    |    1    |\n",
      "| I |   0.597   | 0.613  |    0.984    |    1    |\n",
      "| J |   0.633   | 0.427  |    0.988    |    1    |\n",
      "| K |   0.617   | 0.446  |    0.988    |    1    |\n",
      "| L |   0.461   | 0.479  |    0.979    |    0    |\n",
      "| M |   0.543   | 0.481  |    0.983    |    1    |\n",
      "| N |   0.526   | 0.519  |    0.981    |    1    |\n",
      "| O |   0.493   | 0.515  |    0.981    |    1    |\n",
      "| P |   0.412   | 0.444  |    0.979    |    0    |\n",
      "| Q |   0.562   | 0.547  |    0.983    |    1    |\n",
      "| R |   0.543   |  0.62  |    0.981    |    1    |\n",
      "| S |   0.444   | 0.593  |    0.969    |    1    |\n",
      "| T |   0.583   | 0.493  |    0.987    |    1    |\n",
      "| U |   0.557   | 0.527  |    0.984    |    1    |\n",
      "| V |   0.583   | 0.532  |    0.984    |    1    |\n",
      "| W |   0.516   | 0.446  |    0.984    |    0    |\n",
      "| X |   0.423   | 0.973  |     0.95    |    1    |\n",
      "| Y |   0.758   | 0.511  |    0.992    |    1    |\n",
      "| Z |   0.455   | 0.605  |    0.971    |    1    |\n",
      "+---+-----------+--------+-------------+---------+\n"
     ]
    },
    {
     "data": {
      "text/plain": [
       "'0.5247871807711567'"
      ]
     },
     "execution_count": 59,
     "metadata": {},
     "output_type": "execute_result"
    }
   ],
   "source": [
    "data_all = np.concatenate((aat_img, aat_vis), axis=0) \n",
    "data_all = pd.DataFrame(data_all, columns=col_name)\n",
    "new_x,fe_names = drop_ch_features(data_all, ['ch5','ch3','ch4','ch6','ch7','ch8','ch9','ch10','ch11','ch12','ch13','ch14','ch15','ch16'])\n",
    "x_train,x_test,y_train,y_test = train_test_split(new_x,labels_2,test_size=0.3)\n",
    "\n",
    "rf = RandomForestClassifier(n_estimators=1493, min_samples_split=2, min_samples_leaf=2, \n",
    "                            max_features='auto', max_depth=44, bootstrap=False)\n",
    "rf.fit(x_train, y_train)\n",
    "\n",
    "confusion = ConfusionMatrix(num_classes=26, labels=['A','B','C','D','E','F','G','H','I','J','K','L',\n",
    "                                                    'M','N','O','P','Q','R','S','T','U','V','W','X','Y','Z'])\n",
    "confusion.update(rf.predict(x_test), y_test)\n",
    "confusion.summary()"
   ]
  },
  {
   "cell_type": "markdown",
   "metadata": {},
   "source": [
    "As we delete more and more channels, the performance of the model will continue to decline, and the effect of retaining only three important channels is about 81%.\n",
    "\n",
    "And remember one thing, check the notebook plot comparison! We will understand why those channels are more important!"
   ]
  },
  {
   "cell_type": "markdown",
   "metadata": {},
   "source": [
    "### ASL"
   ]
  },
  {
   "cell_type": "code",
   "execution_count": 136,
   "metadata": {},
   "outputs": [
    {
     "data": {
      "text/html": [
       "<div>\n",
       "<style scoped>\n",
       "    .dataframe tbody tr th:only-of-type {\n",
       "        vertical-align: middle;\n",
       "    }\n",
       "\n",
       "    .dataframe tbody tr th {\n",
       "        vertical-align: top;\n",
       "    }\n",
       "\n",
       "    .dataframe thead th {\n",
       "        text-align: right;\n",
       "    }\n",
       "</style>\n",
       "<table border=\"1\" class=\"dataframe\">\n",
       "  <thead>\n",
       "    <tr style=\"text-align: right;\">\n",
       "      <th></th>\n",
       "      <th>fe_values</th>\n",
       "    </tr>\n",
       "    <tr>\n",
       "      <th>channel</th>\n",
       "      <th></th>\n",
       "    </tr>\n",
       "  </thead>\n",
       "  <tbody>\n",
       "    <tr>\n",
       "      <th>ch16</th>\n",
       "      <td>0.091393</td>\n",
       "    </tr>\n",
       "    <tr>\n",
       "      <th>ch5</th>\n",
       "      <td>0.061721</td>\n",
       "    </tr>\n",
       "    <tr>\n",
       "      <th>ch4</th>\n",
       "      <td>0.053509</td>\n",
       "    </tr>\n",
       "    <tr>\n",
       "      <th>ch13</th>\n",
       "      <td>0.053396</td>\n",
       "    </tr>\n",
       "    <tr>\n",
       "      <th>ch8</th>\n",
       "      <td>0.049599</td>\n",
       "    </tr>\n",
       "    <tr>\n",
       "      <th>ch14</th>\n",
       "      <td>0.048902</td>\n",
       "    </tr>\n",
       "    <tr>\n",
       "      <th>ch3</th>\n",
       "      <td>0.048484</td>\n",
       "    </tr>\n",
       "    <tr>\n",
       "      <th>ch6</th>\n",
       "      <td>0.045906</td>\n",
       "    </tr>\n",
       "    <tr>\n",
       "      <th>ch12</th>\n",
       "      <td>0.045163</td>\n",
       "    </tr>\n",
       "    <tr>\n",
       "      <th>ch15</th>\n",
       "      <td>0.044088</td>\n",
       "    </tr>\n",
       "    <tr>\n",
       "      <th>ch9</th>\n",
       "      <td>0.043705</td>\n",
       "    </tr>\n",
       "    <tr>\n",
       "      <th>ch7</th>\n",
       "      <td>0.042190</td>\n",
       "    </tr>\n",
       "    <tr>\n",
       "      <th>ch2</th>\n",
       "      <td>0.029752</td>\n",
       "    </tr>\n",
       "    <tr>\n",
       "      <th>ch1</th>\n",
       "      <td>0.027258</td>\n",
       "    </tr>\n",
       "    <tr>\n",
       "      <th>ch10</th>\n",
       "      <td>0.026245</td>\n",
       "    </tr>\n",
       "    <tr>\n",
       "      <th>ch11</th>\n",
       "      <td>0.023671</td>\n",
       "    </tr>\n",
       "  </tbody>\n",
       "</table>\n",
       "</div>"
      ],
      "text/plain": [
       "         fe_values\n",
       "channel           \n",
       "ch16      0.091393\n",
       "ch5       0.061721\n",
       "ch4       0.053509\n",
       "ch13      0.053396\n",
       "ch8       0.049599\n",
       "ch14      0.048902\n",
       "ch3       0.048484\n",
       "ch6       0.045906\n",
       "ch12      0.045163\n",
       "ch15      0.044088\n",
       "ch9       0.043705\n",
       "ch7       0.042190\n",
       "ch2       0.029752\n",
       "ch1       0.027258\n",
       "ch10      0.026245\n",
       "ch11      0.023671"
      ]
     },
     "execution_count": 136,
     "metadata": {},
     "output_type": "execute_result"
    }
   ],
   "source": [
    "pp2"
   ]
  },
  {
   "cell_type": "markdown",
   "metadata": {},
   "source": [
    "Drop feature importance values less than 0.04 channels:"
   ]
  },
  {
   "cell_type": "code",
   "execution_count": 60,
   "metadata": {},
   "outputs": [
    {
     "name": "stdout",
     "output_type": "stream",
     "text": [
      "the model accuracy is  0.9203805708562844\n",
      "+---+-----------+--------+-------------+---------+\n",
      "|   | Precision | Recall | Specificity | F1score |\n",
      "+---+-----------+--------+-------------+---------+\n",
      "| A |   0.929   | 0.975  |    0.997    |    1    |\n",
      "| B |   0.962   | 0.885  |    0.998    |    1    |\n",
      "| C |   0.936   | 0.961  |    0.997    |    1    |\n",
      "| D |   0.959   | 0.798  |    0.998    |    1    |\n",
      "| E |    0.88   | 0.924  |    0.995    |    1    |\n",
      "| F |   0.932   |  0.92  |    0.997    |    1    |\n",
      "| G |   0.923   | 0.923  |    0.997    |    1    |\n",
      "| H |   0.939   | 0.917  |    0.997    |    1    |\n",
      "| I |   0.894   | 0.894  |    0.995    |    1    |\n",
      "| J |   0.921   | 0.959  |    0.997    |    1    |\n",
      "| K |   0.909   | 0.897  |    0.996    |    1    |\n",
      "| L |   0.944   | 0.829  |    0.998    |    1    |\n",
      "| M |   0.897   | 0.847  |    0.996    |    1    |\n",
      "| N |   0.895   | 0.958  |    0.996    |    1    |\n",
      "| O |   0.938   | 0.759  |    0.998    |    1    |\n",
      "| P |   0.888   |  1.0   |    0.995    |    1    |\n",
      "| Q |   0.912   | 0.925  |    0.997    |    1    |\n",
      "| R |   0.973   |  1.0   |    0.999    |    1    |\n",
      "| S |   0.893   | 0.957  |    0.996    |    1    |\n",
      "| T |   0.899   | 0.988  |    0.995    |    1    |\n",
      "| U |   0.906   | 0.841  |    0.997    |    1    |\n",
      "| V |   0.933   | 0.946  |    0.997    |    1    |\n",
      "| W |   0.873   | 0.954  |    0.995    |    1    |\n",
      "| X |   0.859   | 0.988  |    0.993    |    1    |\n",
      "| Y |    1.0    | 0.938  |     1.0     |    1    |\n",
      "| Z |    0.96   | 0.986  |    0.998    |    1    |\n",
      "+---+-----------+--------+-------------+---------+\n"
     ]
    },
    {
     "data": {
      "text/plain": [
       "'0.9203805708562844'"
      ]
     },
     "execution_count": 60,
     "metadata": {},
     "output_type": "execute_result"
    }
   ],
   "source": [
    "data_all = np.concatenate((asl_img, asl_vis), axis=0) \n",
    "data_all = pd.DataFrame(data_all, columns=col_name)\n",
    "new_x, fe_names = drop_ch_features(data_all, ['ch1','ch2','ch10','ch11'])\n",
    "x_train,x_test,y_train,y_test = train_test_split(new_x,labels_2,test_size=0.3)\n",
    "\n",
    "rf = RandomForestClassifier(n_estimators= 386, min_samples_split=4, min_samples_leaf=2, \n",
    "                            max_features='auto', max_depth=78, bootstrap=False)\n",
    "rf.fit(x_train, y_train)\n",
    "\n",
    "confusion = ConfusionMatrix(num_classes=26, labels=['A','B','C','D','E','F','G','H','I','J','K','L',\n",
    "                                                    'M','N','O','P','Q','R','S','T','U','V','W','X','Y','Z'])\n",
    "confusion.update(rf.predict(x_test), y_test)\n",
    "confusion.summary()"
   ]
  },
  {
   "cell_type": "markdown",
   "metadata": {},
   "source": [
    "The performance has improved 0.02.\n",
    "\n",
    "Drop feature importance values less than 0.05 channels:"
   ]
  },
  {
   "cell_type": "code",
   "execution_count": 61,
   "metadata": {},
   "outputs": [
    {
     "name": "stdout",
     "output_type": "stream",
     "text": [
      "the model accuracy is  0.9183775663495243\n",
      "+---+-----------+--------+-------------+---------+\n",
      "|   | Precision | Recall | Specificity | F1score |\n",
      "+---+-----------+--------+-------------+---------+\n",
      "| A |   0.984   |  1.0   |    0.999    |    1    |\n",
      "| B |   0.987   |  1.0   |    0.999    |    1    |\n",
      "| C |   0.974   | 0.987  |    0.999    |    1    |\n",
      "| D |   0.969   | 0.969  |    0.999    |    1    |\n",
      "| E |   0.958   |  0.84  |    0.998    |    1    |\n",
      "| F |   0.977   | 0.933  |    0.999    |    1    |\n",
      "| G |   0.903   | 0.942  |    0.996    |    1    |\n",
      "| H |    0.89   | 0.936  |    0.995    |    1    |\n",
      "| I |   0.938   | 0.923  |    0.998    |    1    |\n",
      "| J |   0.845   | 0.845  |    0.994    |    1    |\n",
      "| K |    0.87   | 0.798  |    0.995    |    1    |\n",
      "| L |   0.893   | 0.843  |    0.995    |    1    |\n",
      "| M |   0.819   | 0.932  |    0.992    |    1    |\n",
      "| N |   0.928   | 0.889  |    0.997    |    1    |\n",
      "| O |   0.877   | 0.792  |    0.996    |    1    |\n",
      "| P |   0.882   | 0.893  |    0.995    |    1    |\n",
      "| Q |   0.882   | 0.943  |    0.994    |    1    |\n",
      "| R |   0.986   | 0.854  |    0.999    |    1    |\n",
      "| S |   0.917   | 0.987  |    0.996    |    1    |\n",
      "| T |    0.94   | 0.888  |    0.997    |    1    |\n",
      "| U |   0.901   | 0.889  |    0.996    |    1    |\n",
      "| V |   0.975   | 0.939  |    0.999    |    1    |\n",
      "| W |    0.86   | 0.937  |    0.994    |    1    |\n",
      "| X |   0.894   |  1.0   |    0.995    |    1    |\n",
      "| Y |   0.912   | 0.973  |    0.996    |    1    |\n",
      "| Z |   0.961   | 0.986  |    0.998    |    1    |\n",
      "+---+-----------+--------+-------------+---------+\n"
     ]
    },
    {
     "data": {
      "text/plain": [
       "'0.9183775663495243'"
      ]
     },
     "execution_count": 61,
     "metadata": {},
     "output_type": "execute_result"
    }
   ],
   "source": [
    "data_all = np.concatenate((asl_img, asl_vis), axis=0) \n",
    "data_all = pd.DataFrame(data_all, columns=col_name)\n",
    "new_x, fe_names = drop_ch_features(data_all, ['ch1','ch2','ch3','ch6','ch7','ch8','ch9','ch10','ch11','ch12','ch14','ch15'])\n",
    "x_train,x_test,y_train,y_test = train_test_split(new_x,labels_2,test_size=0.3)\n",
    "\n",
    "rf = RandomForestClassifier(n_estimators= 386, min_samples_split=4, min_samples_leaf=2, \n",
    "                            max_features='auto', max_depth=78, bootstrap=False)\n",
    "rf.fit(x_train, y_train)\n",
    "\n",
    "confusion = ConfusionMatrix(num_classes=26, labels=['A','B','C','D','E','F','G','H','I','J','K','L',\n",
    "                                                    'M','N','O','P','Q','R','S','T','U','V','W','X','Y','Z'])\n",
    "confusion.update(rf.predict(x_test), y_test)\n",
    "confusion.summary()"
   ]
  },
  {
   "cell_type": "markdown",
   "metadata": {},
   "source": [
    "The performance has improved 0.01(compare with all channels).\n",
    "\n",
    "Drop feature importance values less than 0.06 channels(just keep two channels):"
   ]
  },
  {
   "cell_type": "code",
   "execution_count": 62,
   "metadata": {},
   "outputs": [
    {
     "name": "stdout",
     "output_type": "stream",
     "text": [
      "the model accuracy is  0.929394091136705\n",
      "+---+-----------+--------+-------------+---------+\n",
      "|   | Precision | Recall | Specificity | F1score |\n",
      "+---+-----------+--------+-------------+---------+\n",
      "| A |   0.987   | 0.949  |    0.999    |    1    |\n",
      "| B |   0.974   |  1.0   |    0.999    |    1    |\n",
      "| C |   0.962   | 0.974  |    0.998    |    1    |\n",
      "| D |   0.907   | 0.971  |    0.996    |    1    |\n",
      "| E |   0.877   | 0.947  |    0.995    |    1    |\n",
      "| F |   0.914   | 0.851  |    0.996    |    1    |\n",
      "| G |   0.868   | 0.952  |    0.995    |    1    |\n",
      "| H |   0.924   | 0.968  |    0.997    |    1    |\n",
      "| I |   0.947   | 0.888  |    0.998    |    1    |\n",
      "| J |   0.903   | 0.833  |    0.996    |    1    |\n",
      "| K |   0.974   | 0.826  |    0.999    |    1    |\n",
      "| L |   0.907   | 0.895  |    0.996    |    1    |\n",
      "| M |   0.821   | 0.908  |    0.992    |    1    |\n",
      "| N |   0.918   |  0.87  |    0.997    |    1    |\n",
      "| O |   0.904   | 0.915  |    0.996    |    1    |\n",
      "| P |   0.959   | 0.845  |    0.998    |    1    |\n",
      "| Q |   0.896   | 0.862  |    0.996    |    1    |\n",
      "| R |   0.978   | 0.978  |    0.999    |    1    |\n",
      "| S |   0.901   |  1.0   |    0.996    |    1    |\n",
      "| T |   0.892   | 0.957  |    0.996    |    1    |\n",
      "| U |   0.948   | 0.986  |    0.998    |    1    |\n",
      "| V |   0.959   | 0.972  |    0.998    |    1    |\n",
      "| W |   0.975   |  1.0   |    0.999    |    1    |\n",
      "| X |   0.882   |  1.0   |    0.995    |    1    |\n",
      "| Y |   0.987   | 0.915  |    0.999    |    1    |\n",
      "| Z |    1.0    | 0.975  |     1.0     |    1    |\n",
      "+---+-----------+--------+-------------+---------+\n"
     ]
    },
    {
     "data": {
      "text/plain": [
       "'0.929394091136705'"
      ]
     },
     "execution_count": 62,
     "metadata": {},
     "output_type": "execute_result"
    }
   ],
   "source": [
    "data_all = np.concatenate((asl_img, asl_vis), axis=0) \n",
    "data_all = pd.DataFrame(data_all, columns=col_name)\n",
    "new_x, fe_names = drop_ch_features(data_all, ['ch1','ch2','ch3','ch4','ch6','ch7','ch8','ch9','ch10','ch11','ch12','ch13','ch14','ch15'])\n",
    "x_train,x_test,y_train,y_test = train_test_split(new_x,labels_2,test_size=0.3)\n",
    "\n",
    "rf = RandomForestClassifier(n_estimators= 386, min_samples_split=4, min_samples_leaf=2, \n",
    "                            max_features='auto', max_depth=78, bootstrap=False)\n",
    "rf.fit(x_train, y_train)\n",
    "\n",
    "confusion = ConfusionMatrix(num_classes=26, labels=['A','B','C','D','E','F','G','H','I','J','K','L',\n",
    "                                                    'M','N','O','P','Q','R','S','T','U','V','W','X','Y','Z'])\n",
    "confusion.update(rf.predict(x_test), y_test)\n",
    "confusion.summary()"
   ]
  },
  {
   "cell_type": "code",
   "execution_count": null,
   "metadata": {},
   "outputs": [],
   "source": []
  },
  {
   "cell_type": "markdown",
   "metadata": {},
   "source": [
    "The performance has improved 0.03(compared with all channels).\n",
    "\n",
    "For the following code part:\n",
    "\n",
    "Still drop feature importance values less than 0.06 channels:\n",
    "\n",
    "(Because of the problem with the previous code, in fact, the feature is not deleted, but copied, but the unexpected result is very good, so I still keep this wrong code but the perfect following result.)"
   ]
  },
  {
   "cell_type": "code",
   "execution_count": 144,
   "metadata": {},
   "outputs": [
    {
     "name": "stdout",
     "output_type": "stream",
     "text": [
      "the model accuracy is  0.9744616925388082\n",
      "+---+-----------+--------+-------------+---------+\n",
      "|   | Precision | Recall | Specificity | F1score |\n",
      "+---+-----------+--------+-------------+---------+\n",
      "| A |    1.0    |  1.0   |     1.0     |    1    |\n",
      "| B |    1.0    |  1.0   |     1.0     |    1    |\n",
      "| C |   0.976   | 0.988  |    0.999    |    1    |\n",
      "| D |   0.984   | 0.954  |    0.999    |    1    |\n",
      "| E |    1.0    | 0.985  |     1.0     |    1    |\n",
      "| F |   0.975   | 0.975  |    0.999    |    1    |\n",
      "| G |    1.0    |  1.0   |     1.0     |    1    |\n",
      "| H |   0.964   | 0.976  |    0.998    |    1    |\n",
      "| I |   0.976   | 0.964  |    0.999    |    1    |\n",
      "| J |   0.958   | 0.958  |    0.998    |    1    |\n",
      "| K |   0.972   | 0.958  |    0.999    |    1    |\n",
      "| L |    0.91   |  1.0   |    0.996    |    1    |\n",
      "| M |   0.987   | 0.925  |    0.999    |    1    |\n",
      "| N |   0.934   |  1.0   |    0.997    |    1    |\n",
      "| O |   0.966   | 0.988  |    0.998    |    1    |\n",
      "| P |   0.972   | 0.945  |    0.999    |    1    |\n",
      "| Q |   0.977   | 0.989  |    0.999    |    1    |\n",
      "| R |   0.986   |  1.0   |    0.999    |    1    |\n",
      "| S |   0.963   |  1.0   |    0.998    |    1    |\n",
      "| T |   0.988   | 0.942  |    0.999    |    1    |\n",
      "| U |   0.956   | 0.935  |    0.998    |    1    |\n",
      "| V |    0.96   | 0.986  |    0.998    |    1    |\n",
      "| W |    1.0    |  1.0   |     1.0     |    1    |\n",
      "| X |   0.976   | 0.976  |    0.999    |    1    |\n",
      "| Y |    1.0    | 0.924  |     1.0     |    1    |\n",
      "| Z |   0.976   | 0.988  |    0.999    |    1    |\n",
      "+---+-----------+--------+-------------+---------+\n"
     ]
    },
    {
     "data": {
      "text/plain": [
       "'0.9744616925388082'"
      ]
     },
     "execution_count": 144,
     "metadata": {},
     "output_type": "execute_result"
    }
   ],
   "source": [
    "data_all = np.concatenate((asl_img, asl_vis), axis=0) \n",
    "data_all = pd.DataFrame(data_all, columns=col_name)\n",
    "new_x = drop_ch_features(data_all, ['ch1','ch2','ch3','ch4','ch6','ch7','ch8','ch9','ch10','ch11','ch12','ch13','ch14','ch15'])\n",
    "x_train,x_test,y_train,y_test = train_test_split(new_x,labels_2,test_size=0.3)\n",
    "\n",
    "rf = RandomForestClassifier(n_estimators= 386, min_samples_split=4, min_samples_leaf=2, \n",
    "                            max_features='auto', max_depth=78, bootstrap=False)\n",
    "rf.fit(x_train, y_train)\n",
    "\n",
    "confusion = ConfusionMatrix(num_classes=26, labels=['A','B','C','D','E','F','G','H','I','J','K','L',\n",
    "                                                    'M','N','O','P','Q','R','S','T','U','V','W','X','Y','Z'])\n",
    "confusion.update(rf.predict(x_test), y_test)\n",
    "confusion.summary()"
   ]
  },
  {
   "cell_type": "code",
   "execution_count": null,
   "metadata": {},
   "outputs": [],
   "source": []
  },
  {
   "cell_type": "markdown",
   "metadata": {},
   "source": [
    "Just keep the most important channel 5:"
   ]
  },
  {
   "cell_type": "code",
   "execution_count": 63,
   "metadata": {},
   "outputs": [
    {
     "name": "stdout",
     "output_type": "stream",
     "text": [
      "the model accuracy is  0.6670005007511267\n",
      "+---+-----------+--------+-------------+---------+\n",
      "|   | Precision | Recall | Specificity | F1score |\n",
      "+---+-----------+--------+-------------+---------+\n",
      "| A |   0.646   | 0.726  |    0.985    |    1    |\n",
      "| B |   0.711   | 0.771  |    0.989    |    1    |\n",
      "| C |   0.726   |  0.57  |    0.991    |    1    |\n",
      "| D |   0.662   | 0.614  |    0.989    |    1    |\n",
      "| E |   0.606   | 0.563  |    0.987    |    1    |\n",
      "| F |   0.761   | 0.739  |    0.992    |    1    |\n",
      "| G |   0.623   | 0.672  |    0.987    |    1    |\n",
      "| H |   0.696   | 0.506  |    0.991    |    1    |\n",
      "| I |   0.688   |  0.62  |     0.99    |    1    |\n",
      "| J |   0.635   |  0.61  |    0.986    |    1    |\n",
      "| K |   0.633   | 0.514  |    0.989    |    1    |\n",
      "| L |   0.586   | 0.654  |    0.981    |    1    |\n",
      "| M |   0.822   | 0.682  |    0.993    |    1    |\n",
      "| N |   0.759   | 0.716  |     0.99    |    1    |\n",
      "| O |   0.587   | 0.638  |    0.984    |    1    |\n",
      "| P |   0.644   | 0.682  |    0.983    |    1    |\n",
      "| Q |   0.693   | 0.712  |    0.988    |    1    |\n",
      "| R |   0.603   | 0.571  |    0.985    |    1    |\n",
      "| S |   0.662   | 0.636  |    0.987    |    1    |\n",
      "| T |   0.805   | 0.713  |    0.992    |    1    |\n",
      "| U |   0.738   | 0.747  |    0.989    |    1    |\n",
      "| V |   0.651   | 0.757  |    0.984    |    1    |\n",
      "| W |    0.76   | 0.594  |    0.991    |    1    |\n",
      "| X |   0.504   | 0.932  |    0.965    |    1    |\n",
      "| Y |   0.649   | 0.792  |    0.983    |    1    |\n",
      "| Z |   0.646   |  0.63  |    0.985    |    1    |\n",
      "+---+-----------+--------+-------------+---------+\n"
     ]
    },
    {
     "data": {
      "text/plain": [
       "'0.6670005007511267'"
      ]
     },
     "execution_count": 63,
     "metadata": {},
     "output_type": "execute_result"
    }
   ],
   "source": [
    "data_all = np.concatenate((asl_img, asl_vis), axis=0) \n",
    "data_all = pd.DataFrame(data_all, columns=col_name)\n",
    "new_x, fe_names = drop_ch_features(data_all, ['ch1','ch2','ch3','ch4','ch6','ch7','ch8','ch9','ch10','ch11','ch12','ch13','ch14','ch15','ch16'])\n",
    "x_train,x_test,y_train,y_test = train_test_split(new_x,labels_2,test_size=0.3)\n",
    "\n",
    "rf = RandomForestClassifier(n_estimators= 386, min_samples_split=4, min_samples_leaf=2, \n",
    "                            max_features='auto', max_depth=78, bootstrap=False)\n",
    "rf.fit(x_train, y_train)\n",
    "\n",
    "confusion = ConfusionMatrix(num_classes=26, labels=['A','B','C','D','E','F','G','H','I','J','K','L',\n",
    "                                                    'M','N','O','P','Q','R','S','T','U','V','W','X','Y','Z'])\n",
    "confusion.update(rf.predict(x_test), y_test)\n",
    "confusion.summary()"
   ]
  },
  {
   "cell_type": "markdown",
   "metadata": {},
   "source": [
    "As we delete more and more channels, the performance of the model will continue to decline, and the effect of retaining only two important channels is about 92%.\n",
    "\n",
    "\n",
    "The results seem a little strange, here. In the beginning, after deleting some features, the performance of our model has improved a bit. \n",
    "\n",
    "\n",
    "But in fact, this is very normal. We can find that in the process of sign language experiment, there is a wrong result (I failed to delete the feature, but copied and added the feature), but the accuracy rate actually reached 97%. Because the performance of our model has not reached the theoretical maximum value, due to the limitation of time and computing resources, although the performance seems to have improved by 0.01-0.02 in the first two experiments, it is actually lower than the ideal 0.97."
   ]
  },
  {
   "cell_type": "markdown",
   "metadata": {},
   "source": [
    "### Joint data"
   ]
  },
  {
   "cell_type": "code",
   "execution_count": 146,
   "metadata": {},
   "outputs": [
    {
     "data": {
      "text/html": [
       "<div>\n",
       "<style scoped>\n",
       "    .dataframe tbody tr th:only-of-type {\n",
       "        vertical-align: middle;\n",
       "    }\n",
       "\n",
       "    .dataframe tbody tr th {\n",
       "        vertical-align: top;\n",
       "    }\n",
       "\n",
       "    .dataframe thead th {\n",
       "        text-align: right;\n",
       "    }\n",
       "</style>\n",
       "<table border=\"1\" class=\"dataframe\">\n",
       "  <thead>\n",
       "    <tr style=\"text-align: right;\">\n",
       "      <th></th>\n",
       "      <th>fe_values</th>\n",
       "    </tr>\n",
       "    <tr>\n",
       "      <th>channel</th>\n",
       "      <th></th>\n",
       "    </tr>\n",
       "  </thead>\n",
       "  <tbody>\n",
       "    <tr>\n",
       "      <th>ch16</th>\n",
       "      <td>0.078752</td>\n",
       "    </tr>\n",
       "    <tr>\n",
       "      <th>ch5</th>\n",
       "      <td>0.059342</td>\n",
       "    </tr>\n",
       "    <tr>\n",
       "      <th>ch8</th>\n",
       "      <td>0.053368</td>\n",
       "    </tr>\n",
       "    <tr>\n",
       "      <th>ch15</th>\n",
       "      <td>0.052449</td>\n",
       "    </tr>\n",
       "    <tr>\n",
       "      <th>ch13</th>\n",
       "      <td>0.048670</td>\n",
       "    </tr>\n",
       "    <tr>\n",
       "      <th>ch3</th>\n",
       "      <td>0.046779</td>\n",
       "    </tr>\n",
       "    <tr>\n",
       "      <th>ch6</th>\n",
       "      <td>0.046674</td>\n",
       "    </tr>\n",
       "    <tr>\n",
       "      <th>ch7</th>\n",
       "      <td>0.044566</td>\n",
       "    </tr>\n",
       "    <tr>\n",
       "      <th>ch14</th>\n",
       "      <td>0.044131</td>\n",
       "    </tr>\n",
       "    <tr>\n",
       "      <th>ch4</th>\n",
       "      <td>0.043387</td>\n",
       "    </tr>\n",
       "    <tr>\n",
       "      <th>ch12</th>\n",
       "      <td>0.040016</td>\n",
       "    </tr>\n",
       "    <tr>\n",
       "      <th>ch9</th>\n",
       "      <td>0.035200</td>\n",
       "    </tr>\n",
       "    <tr>\n",
       "      <th>ch10</th>\n",
       "      <td>0.033712</td>\n",
       "    </tr>\n",
       "    <tr>\n",
       "      <th>ch11</th>\n",
       "      <td>0.023794</td>\n",
       "    </tr>\n",
       "    <tr>\n",
       "      <th>ch1</th>\n",
       "      <td>0.023613</td>\n",
       "    </tr>\n",
       "    <tr>\n",
       "      <th>ch2</th>\n",
       "      <td>0.023201</td>\n",
       "    </tr>\n",
       "  </tbody>\n",
       "</table>\n",
       "</div>"
      ],
      "text/plain": [
       "         fe_values\n",
       "channel           \n",
       "ch16      0.078752\n",
       "ch5       0.059342\n",
       "ch8       0.053368\n",
       "ch15      0.052449\n",
       "ch13      0.048670\n",
       "ch3       0.046779\n",
       "ch6       0.046674\n",
       "ch7       0.044566\n",
       "ch14      0.044131\n",
       "ch4       0.043387\n",
       "ch12      0.040016\n",
       "ch9       0.035200\n",
       "ch10      0.033712\n",
       "ch11      0.023794\n",
       "ch1       0.023613\n",
       "ch2       0.023201"
      ]
     },
     "execution_count": 146,
     "metadata": {},
     "output_type": "execute_result"
    }
   ],
   "source": [
    "pp3"
   ]
  },
  {
   "cell_type": "markdown",
   "metadata": {},
   "source": [
    "Drop feature importance values less than 0.04 channels:"
   ]
  },
  {
   "cell_type": "code",
   "execution_count": 64,
   "metadata": {},
   "outputs": [
    {
     "name": "stdout",
     "output_type": "stream",
     "text": [
      "the model accuracy is  0.8833249874812218\n",
      "+---+-----------+--------+-------------+---------+\n",
      "|   | Precision | Recall | Specificity | F1score |\n",
      "+---+-----------+--------+-------------+---------+\n",
      "| A |    0.93   | 0.943  |    0.997    |    1    |\n",
      "| B |   0.894   | 0.899  |    0.996    |    1    |\n",
      "| C |   0.876   | 0.827  |    0.994    |    1    |\n",
      "| D |   0.943   | 0.846  |    0.998    |    1    |\n",
      "| E |   0.924   | 0.813  |    0.997    |    1    |\n",
      "| F |   0.839   | 0.907  |    0.993    |    1    |\n",
      "| G |   0.858   | 0.784  |    0.995    |    1    |\n",
      "| H |   0.921   | 0.902  |    0.997    |    1    |\n",
      "| I |   0.882   |  0.92  |    0.996    |    1    |\n",
      "| J |   0.864   | 0.853  |    0.995    |    1    |\n",
      "| K |   0.903   | 0.867  |    0.996    |    1    |\n",
      "| L |   0.839   | 0.922  |    0.994    |    1    |\n",
      "| M |   0.827   | 0.892  |    0.993    |    1    |\n",
      "| N |   0.898   | 0.916  |    0.996    |    1    |\n",
      "| O |   0.964   | 0.831  |    0.999    |    1    |\n",
      "| P |   0.905   | 0.867  |    0.997    |    1    |\n",
      "| Q |   0.847   |  0.83  |    0.994    |    1    |\n",
      "| R |   0.883   | 0.837  |    0.995    |    1    |\n",
      "| S |   0.804   | 0.942  |    0.992    |    1    |\n",
      "| T |   0.926   |  0.89  |    0.997    |    1    |\n",
      "| U |   0.826   | 0.896  |    0.992    |    1    |\n",
      "| V |   0.896   | 0.973  |    0.996    |    1    |\n",
      "| W |   0.913   | 0.902  |    0.996    |    1    |\n",
      "| X |   0.785   | 0.968  |    0.989    |    1    |\n",
      "| Y |   0.941   | 0.905  |    0.998    |    1    |\n",
      "| Z |   0.947   | 0.871  |    0.998    |    1    |\n",
      "+---+-----------+--------+-------------+---------+\n"
     ]
    },
    {
     "data": {
      "text/plain": [
       "'0.8833249874812218'"
      ]
     },
     "execution_count": 64,
     "metadata": {},
     "output_type": "execute_result"
    }
   ],
   "source": [
    "data_all = np.concatenate((asl_img, asl_vis, aat_img, aat_vis), axis=0) \n",
    "data_all = pd.DataFrame(data_all, columns=col_name)\n",
    "new_x,fe_names = drop_ch_features(data_all, ['ch1','ch2','ch9','ch10','ch11'])\n",
    "x_train,x_test,y_train,y_test = train_test_split(new_x,labels_4,test_size=0.3)\n",
    "\n",
    "rf = RandomForestClassifier(n_estimators= 529, min_samples_split=2, min_samples_leaf=2, \n",
    "                            max_features='auto', max_depth=34, bootstrap=False)\n",
    "rf.fit(x_train, y_train)\n",
    "\n",
    "confusion = ConfusionMatrix(num_classes=26, labels=['A','B','C','D','E','F','G','H','I','J','K','L',\n",
    "                                                    'M','N','O','P','Q','R','S','T','U','V','W','X','Y','Z'])\n",
    "confusion.update(rf.predict(x_test), y_test)\n",
    "confusion.summary()"
   ]
  },
  {
   "cell_type": "markdown",
   "metadata": {},
   "source": [
    "The performance maintains(compare with all channels).\n",
    "\n",
    "Drop feature importance values less than 0.05 channels:"
   ]
  },
  {
   "cell_type": "code",
   "execution_count": 65,
   "metadata": {},
   "outputs": [
    {
     "name": "stdout",
     "output_type": "stream",
     "text": [
      "the model accuracy is  0.8660490736104156\n",
      "+---+-----------+--------+-------------+---------+\n",
      "|   | Precision | Recall | Specificity | F1score |\n",
      "+---+-----------+--------+-------------+---------+\n",
      "| A |   0.911   | 0.869  |    0.997    |    1    |\n",
      "| B |   0.888   | 0.916  |    0.995    |    1    |\n",
      "| C |   0.881   | 0.934  |    0.995    |    1    |\n",
      "| D |   0.823   | 0.839  |    0.993    |    1    |\n",
      "| E |   0.839   | 0.815  |    0.993    |    1    |\n",
      "| F |   0.793   | 0.899  |    0.991    |    1    |\n",
      "| G |   0.862   | 0.801  |    0.995    |    1    |\n",
      "| H |    0.9    | 0.877  |    0.996    |    1    |\n",
      "| I |   0.872   | 0.826  |    0.995    |    1    |\n",
      "| J |   0.831   | 0.864  |    0.993    |    1    |\n",
      "| K |   0.836   | 0.775  |    0.994    |    1    |\n",
      "| L |    0.9    | 0.931  |    0.996    |    1    |\n",
      "| M |    0.91   | 0.876  |    0.996    |    1    |\n",
      "| N |   0.911   | 0.875  |    0.997    |    1    |\n",
      "| O |   0.926   | 0.846  |    0.997    |    1    |\n",
      "| P |   0.806   | 0.778  |    0.993    |    1    |\n",
      "| Q |   0.878   | 0.866  |    0.995    |    1    |\n",
      "| R |   0.856   | 0.724  |    0.995    |    1    |\n",
      "| S |   0.831   | 0.913  |    0.992    |    1    |\n",
      "| T |   0.789   | 0.929  |    0.991    |    1    |\n",
      "| U |   0.916   | 0.877  |    0.997    |    1    |\n",
      "| V |   0.882   |  0.91  |    0.995    |    1    |\n",
      "| W |   0.881   | 0.846  |    0.996    |    1    |\n",
      "| X |   0.804   | 0.987  |    0.991    |    1    |\n",
      "| Y |   0.881   | 0.899  |    0.995    |    1    |\n",
      "| Z |   0.951   | 0.861  |    0.998    |    1    |\n",
      "+---+-----------+--------+-------------+---------+\n"
     ]
    },
    {
     "data": {
      "text/plain": [
       "'0.8660490736104156'"
      ]
     },
     "execution_count": 65,
     "metadata": {},
     "output_type": "execute_result"
    }
   ],
   "source": [
    "data_all = np.concatenate((asl_img, asl_vis, aat_img, aat_vis), axis=0) \n",
    "data_all = pd.DataFrame(data_all, columns=col_name)\n",
    "new_x, fe_names = drop_ch_features(data_all, ['ch1','ch2','ch3','ch4','ch6','ch7','ch9','ch10','ch11','ch12','ch13','ch14'])\n",
    "x_train,x_test,y_train,y_test = train_test_split(new_x,labels_4,test_size=0.3)\n",
    "\n",
    "rf = RandomForestClassifier(n_estimators= 529, min_samples_split=2, min_samples_leaf=2, \n",
    "                            max_features='auto', max_depth=34, bootstrap=False)\n",
    "rf.fit(x_train, y_train)\n",
    "\n",
    "confusion = ConfusionMatrix(num_classes=26, labels=['A','B','C','D','E','F','G','H','I','J','K','L',\n",
    "                                                    'M','N','O','P','Q','R','S','T','U','V','W','X','Y','Z'])\n",
    "confusion.update(rf.predict(x_test), y_test)\n",
    "confusion.summary()"
   ]
  },
  {
   "cell_type": "markdown",
   "metadata": {},
   "source": [
    "The performance drops 0.02(compare with all channels).\n",
    "\n",
    "Keep the channel 5 and 16:"
   ]
  },
  {
   "cell_type": "code",
   "execution_count": 66,
   "metadata": {},
   "outputs": [
    {
     "name": "stdout",
     "output_type": "stream",
     "text": [
      "the model accuracy is  0.8555332999499249\n",
      "+---+-----------+--------+-------------+---------+\n",
      "|   | Precision | Recall | Specificity | F1score |\n",
      "+---+-----------+--------+-------------+---------+\n",
      "| A |   0.953   | 0.904  |    0.998    |    1    |\n",
      "| B |   0.863   | 0.885  |    0.994    |    1    |\n",
      "| C |    0.85   | 0.855  |    0.993    |    1    |\n",
      "| D |    0.86   | 0.826  |    0.995    |    1    |\n",
      "| E |   0.792   | 0.758  |    0.992    |    1    |\n",
      "| F |    0.86   | 0.842  |    0.995    |    1    |\n",
      "| G |   0.857   | 0.795  |    0.994    |    1    |\n",
      "| H |   0.858   | 0.809  |    0.995    |    1    |\n",
      "| I |   0.872   | 0.883  |    0.995    |    1    |\n",
      "| J |   0.878   |  0.83  |    0.996    |    1    |\n",
      "| K |   0.826   | 0.853  |    0.993    |    1    |\n",
      "| L |   0.839   |  0.76  |    0.993    |    1    |\n",
      "| M |   0.778   | 0.872  |    0.991    |    1    |\n",
      "| N |   0.841   | 0.812  |    0.993    |    1    |\n",
      "| O |   0.876   | 0.828  |    0.996    |    1    |\n",
      "| P |   0.849   | 0.849  |    0.994    |    1    |\n",
      "| Q |   0.883   | 0.842  |    0.996    |    1    |\n",
      "| R |   0.829   |  0.9   |    0.993    |    1    |\n",
      "| S |   0.846   |  0.84  |    0.993    |    1    |\n",
      "| T |    0.8    | 0.903  |    0.991    |    1    |\n",
      "| U |   0.893   | 0.864  |    0.996    |    1    |\n",
      "| V |   0.933   | 0.893  |    0.998    |    1    |\n",
      "| W |   0.875   | 0.905  |    0.995    |    1    |\n",
      "| X |    0.77   | 0.973  |    0.989    |    1    |\n",
      "| Y |   0.918   | 0.887  |    0.997    |    1    |\n",
      "| Z |   0.899   | 0.911  |    0.996    |    1    |\n",
      "+---+-----------+--------+-------------+---------+\n"
     ]
    },
    {
     "data": {
      "text/plain": [
       "'0.8555332999499249'"
      ]
     },
     "execution_count": 66,
     "metadata": {},
     "output_type": "execute_result"
    }
   ],
   "source": [
    "data_all = np.concatenate((asl_img, asl_vis, aat_img, aat_vis), axis=0) \n",
    "data_all = pd.DataFrame(data_all, columns=col_name)\n",
    "new_x, fitenames = drop_ch_features(data_all, ['ch1','ch2','ch3','ch4','ch6','ch7','ch8','ch9','ch10','ch11','ch12','ch13','ch14','ch15'])\n",
    "x_train,x_test,y_train,y_test = train_test_split(new_x,labels_4,test_size=0.3)\n",
    "\n",
    "rf = RandomForestClassifier(n_estimators= 529, min_samples_split=2, min_samples_leaf=2, \n",
    "                            max_features='auto', max_depth=34, bootstrap=False)\n",
    "rf.fit(x_train, y_train)\n",
    "\n",
    "confusion = ConfusionMatrix(num_classes=26, labels=['A','B','C','D','E','F','G','H','I','J','K','L',\n",
    "                                                    'M','N','O','P','Q','R','S','T','U','V','W','X','Y','Z'])\n",
    "confusion.update(rf.predict(x_test), y_test)\n",
    "confusion.summary()"
   ]
  },
  {
   "cell_type": "markdown",
   "metadata": {},
   "source": [
    "The performance drops 0.03(compare with all channels)."
   ]
  },
  {
   "cell_type": "code",
   "execution_count": null,
   "metadata": {},
   "outputs": [],
   "source": []
  },
  {
   "cell_type": "markdown",
   "metadata": {},
   "source": [
    "Like ASL, a wrong code but perfect results:"
   ]
  },
  {
   "cell_type": "code",
   "execution_count": 149,
   "metadata": {},
   "outputs": [
    {
     "name": "stdout",
     "output_type": "stream",
     "text": [
      "the model accuracy is  0.9076114171256885\n",
      "+---+-----------+--------+-------------+---------+\n",
      "|   | Precision | Recall | Specificity | F1score |\n",
      "+---+-----------+--------+-------------+---------+\n",
      "| A |   0.934   | 0.877  |    0.998    |    1    |\n",
      "| B |   0.886   | 0.899  |    0.996    |    1    |\n",
      "| C |   0.919   | 0.893  |    0.996    |    1    |\n",
      "| D |   0.902   | 0.847  |    0.996    |    1    |\n",
      "| E |   0.933   | 0.869  |    0.997    |    1    |\n",
      "| F |   0.902   | 0.932  |    0.995    |    1    |\n",
      "| G |   0.914   | 0.931  |    0.996    |    1    |\n",
      "| H |   0.881   | 0.952  |    0.995    |    1    |\n",
      "| I |   0.949   |  0.91  |    0.998    |    1    |\n",
      "| J |   0.924   | 0.865  |    0.997    |    1    |\n",
      "| K |   0.856   | 0.881  |    0.995    |    1    |\n",
      "| L |   0.912   | 0.896  |    0.996    |    1    |\n",
      "| M |   0.883   | 0.905  |    0.995    |    1    |\n",
      "| N |   0.912   | 0.918  |    0.996    |    1    |\n",
      "| O |   0.936   |  0.91  |    0.998    |    1    |\n",
      "| P |   0.898   | 0.898  |    0.996    |    1    |\n",
      "| Q |    0.91   | 0.916  |    0.996    |    1    |\n",
      "| R |    0.91   | 0.916  |    0.996    |    1    |\n",
      "| S |   0.897   | 0.946  |    0.996    |    1    |\n",
      "| T |   0.901   | 0.907  |    0.996    |    1    |\n",
      "| U |   0.924   | 0.917  |    0.997    |    1    |\n",
      "| V |   0.938   | 0.907  |    0.998    |    1    |\n",
      "| W |    0.93   | 0.902  |    0.997    |    1    |\n",
      "| X |   0.836   |  1.0   |    0.993    |    1    |\n",
      "| Y |    0.94   | 0.904  |    0.998    |    1    |\n",
      "| Z |   0.887   | 0.918  |    0.996    |    1    |\n",
      "+---+-----------+--------+-------------+---------+\n"
     ]
    },
    {
     "data": {
      "text/plain": [
       "'0.9076114171256885'"
      ]
     },
     "execution_count": 149,
     "metadata": {},
     "output_type": "execute_result"
    }
   ],
   "source": [
    "data_all = np.concatenate((asl_img, asl_vis, aat_img, aat_vis), axis=0) \n",
    "data_all = pd.DataFrame(data_all, columns=col_name)\n",
    "new_x = drop_ch_features(data_all, ['ch1','ch2','ch3','ch4','ch6','ch7','ch8','ch9','ch10','ch11','ch12','ch13','ch14','ch15'])\n",
    "x_train,x_test,y_train,y_test = train_test_split(new_x,labels_4,test_size=0.3)\n",
    "\n",
    "rf = RandomForestClassifier(n_estimators= 529, min_samples_split=2, min_samples_leaf=2, \n",
    "                            max_features='auto', max_depth=34, bootstrap=False)\n",
    "rf.fit(x_train, y_train)\n",
    "\n",
    "confusion = ConfusionMatrix(num_classes=26, labels=['A','B','C','D','E','F','G','H','I','J','K','L',\n",
    "                                                    'M','N','O','P','Q','R','S','T','U','V','W','X','Y','Z'])\n",
    "confusion.update(rf.predict(x_test), y_test)\n",
    "confusion.summary()"
   ]
  },
  {
   "cell_type": "code",
   "execution_count": null,
   "metadata": {},
   "outputs": [],
   "source": []
  },
  {
   "cell_type": "markdown",
   "metadata": {},
   "source": [
    "Just keep the channel 16:"
   ]
  },
  {
   "cell_type": "code",
   "execution_count": 67,
   "metadata": {},
   "outputs": [
    {
     "name": "stdout",
     "output_type": "stream",
     "text": [
      "the model accuracy is  0.7656484727090636\n",
      "+---+-----------+--------+-------------+---------+\n",
      "|   | Precision | Recall | Specificity | F1score |\n",
      "+---+-----------+--------+-------------+---------+\n",
      "| A |   0.849   | 0.738  |    0.995    |    1    |\n",
      "| B |   0.802   | 0.769  |    0.992    |    1    |\n",
      "| C |   0.793   | 0.747  |    0.991    |    1    |\n",
      "| D |   0.797   | 0.679  |    0.993    |    1    |\n",
      "| E |   0.725   | 0.688  |    0.989    |    1    |\n",
      "| F |   0.752   | 0.767  |     0.99    |    1    |\n",
      "| G |   0.682   | 0.719  |    0.987    |    1    |\n",
      "| H |   0.619   | 0.699  |    0.986    |    1    |\n",
      "| I |   0.884   | 0.793  |    0.996    |    1    |\n",
      "| J |   0.737   | 0.782  |    0.989    |    1    |\n",
      "| K |   0.687   | 0.742  |    0.987    |    1    |\n",
      "| L |   0.718   | 0.755  |    0.988    |    1    |\n",
      "| M |    0.72   | 0.796  |    0.988    |    1    |\n",
      "| N |   0.772   | 0.687  |    0.991    |    1    |\n",
      "| O |   0.671   | 0.818  |    0.986    |    1    |\n",
      "| P |   0.796   |  0.75  |    0.992    |    1    |\n",
      "| Q |   0.855   | 0.694  |    0.995    |    1    |\n",
      "| R |   0.787   | 0.796  |    0.991    |    1    |\n",
      "| S |   0.789   | 0.758  |    0.992    |    1    |\n",
      "| T |   0.793   | 0.767  |    0.992    |    1    |\n",
      "| U |   0.718   | 0.818  |    0.989    |    1    |\n",
      "| V |   0.852   | 0.761  |    0.995    |    1    |\n",
      "| W |   0.852   | 0.784  |    0.994    |    1    |\n",
      "| X |   0.716   | 0.951  |    0.986    |    1    |\n",
      "| Y |   0.772   | 0.847  |    0.991    |    1    |\n",
      "| Z |   0.821   | 0.832  |    0.993    |    1    |\n",
      "+---+-----------+--------+-------------+---------+\n"
     ]
    },
    {
     "data": {
      "text/plain": [
       "'0.7656484727090636'"
      ]
     },
     "execution_count": 67,
     "metadata": {},
     "output_type": "execute_result"
    }
   ],
   "source": [
    "data_all = np.concatenate((asl_img, asl_vis, aat_img, aat_vis), axis=0) \n",
    "data_all = pd.DataFrame(data_all, columns=col_name)\n",
    "new_x, fe_names = drop_ch_features(data_all, ['ch1','ch2','ch3','ch4','ch6','ch7','ch8','ch9','ch10','ch11','ch12','ch13','ch14','ch15','ch5'])\n",
    "x_train,x_test,y_train,y_test = train_test_split(new_x,labels_4,test_size=0.3)\n",
    "\n",
    "rf = RandomForestClassifier(n_estimators= 529, min_samples_split=2, min_samples_leaf=2, \n",
    "                            max_features='auto', max_depth=34, bootstrap=False)\n",
    "rf.fit(x_train, y_train)\n",
    "\n",
    "confusion = ConfusionMatrix(num_classes=26, labels=['A','B','C','D','E','F','G','H','I','J','K','L',\n",
    "                                                    'M','N','O','P','Q','R','S','T','U','V','W','X','Y','Z'])\n",
    "confusion.update(rf.predict(x_test), y_test)\n",
    "confusion.summary()"
   ]
  },
  {
   "cell_type": "markdown",
   "metadata": {},
   "source": [
    "As we delete more and more channels, the performance of the model will continue to decline, and the effect of retaining only two important channels is about 85%. (between ASL and alphabet)\n",
    "\n",
    "If just keep one channel, all joint data has a good score 76% compared with the others!\n",
    "\n",
    "Still, a wrong code has the best ACC 90%.\n"
   ]
  },
  {
   "cell_type": "code",
   "execution_count": null,
   "metadata": {},
   "outputs": [],
   "source": []
  },
  {
   "cell_type": "markdown",
   "metadata": {},
   "source": [
    "So far, our machine learning part is completely completed. In the next notebook, we will test some deep learning models and compare the effects of the two methods(DL vs ML).\n",
    "\n",
    "In the 26 classification task, the most important features are statistical features, and the most important channels are 5 and 16."
   ]
  },
  {
   "cell_type": "code",
   "execution_count": null,
   "metadata": {},
   "outputs": [],
   "source": []
  }
 ],
 "metadata": {
  "kernelspec": {
   "display_name": "Python 3",
   "language": "python",
   "name": "python3"
  },
  "language_info": {
   "codemirror_mode": {
    "name": "ipython",
    "version": 3
   },
   "file_extension": ".py",
   "mimetype": "text/x-python",
   "name": "python",
   "nbconvert_exporter": "python",
   "pygments_lexer": "ipython3",
   "version": "3.7.4"
  },
  "toc": {
   "base_numbering": 1,
   "nav_menu": {},
   "number_sections": true,
   "sideBar": true,
   "skip_h1_title": false,
   "title_cell": "Table of Contents",
   "title_sidebar": "Contents",
   "toc_cell": false,
   "toc_position": {},
   "toc_section_display": true,
   "toc_window_display": true
  },
  "varInspector": {
   "cols": {
    "lenName": 16,
    "lenType": 16,
    "lenVar": 40
   },
   "kernels_config": {
    "python": {
     "delete_cmd_postfix": "",
     "delete_cmd_prefix": "del ",
     "library": "var_list.py",
     "varRefreshCmd": "print(var_dic_list())"
    },
    "r": {
     "delete_cmd_postfix": ") ",
     "delete_cmd_prefix": "rm(",
     "library": "var_list.r",
     "varRefreshCmd": "cat(var_dic_list()) "
    }
   },
   "types_to_exclude": [
    "module",
    "function",
    "builtin_function_or_method",
    "instance",
    "_Feature"
   ],
   "window_display": false
  }
 },
 "nbformat": 4,
 "nbformat_minor": 2
}
