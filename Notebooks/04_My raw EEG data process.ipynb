{
 "cells": [
  {
   "cell_type": "markdown",
   "metadata": {},
   "source": [
    "# Read data and reformat "
   ]
  },
  {
   "cell_type": "code",
   "execution_count": 1,
   "metadata": {},
   "outputs": [],
   "source": [
    "import pandas as pd\n",
    "import matplotlib.pyplot as plt\n",
    "import numpy as np\n",
    "import time\n",
    "\n",
    "from scipy.signal import find_peaks\n",
    "from scipy.fftpack import fft,ifft"
   ]
  },
  {
   "cell_type": "code",
   "execution_count": 2,
   "metadata": {},
   "outputs": [],
   "source": [
    "from brainflow.board_shim import BoardShim, BrainFlowInputParams, LogLevels, BoardIds\n",
    "from brainflow.data_filter import DataFilter, FilterTypes, AggOperations, WindowFunctions, NoiseTypes, DetrendOperations\n",
    "from brainflow.ml_model import MLModel, BrainFlowMetrics, BrainFlowClassifiers, BrainFlowModelParams\n",
    "\n",
    "import mne\n",
    "from mne.channels import read_layout"
   ]
  },
  {
   "cell_type": "code",
   "execution_count": 3,
   "metadata": {},
   "outputs": [],
   "source": [
    "import warnings\n",
    "warnings.filterwarnings(\"ignore\")"
   ]
  },
  {
   "cell_type": "markdown",
   "metadata": {},
   "source": [
    "## Alphabet"
   ]
  },
  {
   "cell_type": "code",
   "execution_count": 4,
   "metadata": {},
   "outputs": [],
   "source": [
    "data_alphabet_1 = './data/Tests_EEG_Lintao/alphabets_test_1.txt'\n",
    "data_alphabet_2 = './data/Tests_EEG_Lintao/alphabets_test_2.txt'\n",
    "data_alphabet_3 = './data/Tests_EEG_Lintao/alphabets_test_3.txt'\n",
    "data_alphabet_4 = './data/Tests_EEG_Lintao/alphabets_test_4.txt'\n",
    "data_alphabet_5 = './data/Tests_EEG_Lintao/alphabets_test_5.txt'\n",
    "data_alphabet_6 = './data/Tests_EEG_Lintao/alphabets_test_6.txt'\n",
    "data_alphabet_X = './data/Tests_EEG_Lintao/alphabets_test_X.txt'\n",
    "\n",
    "data_asl_1 = './data/Tests_EEG_Lintao/asl_test_1.txt'\n",
    "data_asl_2 = './data/Tests_EEG_Lintao/asl_test_2.txt'\n",
    "data_asl_3 = './data/Tests_EEG_Lintao/asl_test_3.txt'\n",
    "data_asl_4 = './data/Tests_EEG_Lintao/asl_test_4.txt'\n",
    "data_asl_5 = './data/Tests_EEG_Lintao/asl_test_5.txt'\n",
    "data_asl_6 = './data/Tests_EEG_Lintao/asl_test_6.txt'\n",
    "data_asl_X = './data/Tests_EEG_Lintao/asl_test_X.txt'\n",
    "\n",
    "label_alphabet_1 = './data/Tests_EEG_Lintao/labels_alphabets_1.txt'\n",
    "label_alphabet_2 = './data/Tests_EEG_Lintao/labels_alphabets_2.txt'\n",
    "label_alphabet_3 = './data/Tests_EEG_Lintao/labels_alphabets_3.txt'\n",
    "label_alphabet_4 = './data/Tests_EEG_Lintao/labels_alphabets_4.txt'\n",
    "label_alphabet_5 = './data/Tests_EEG_Lintao/labels_alphabets_5.txt'\n",
    "label_alphabet_6 = './data/Tests_EEG_Lintao/labels_alphabets_6.txt'\n",
    "label_alphabet_X = './data/Tests_EEG_Lintao/labels_alphabets_X.txt'"
   ]
  },
  {
   "cell_type": "code",
   "execution_count": 5,
   "metadata": {},
   "outputs": [],
   "source": [
    "names=['Index','ch1', 'ch2', 'ch3', 'ch4', 'ch5', 'ch6', 'ch7', 'ch8', 'ch9', 'ch10', 'ch11', 'ch12', 'ch13',\n",
    "       'ch14', 'ch15', 'ch16', 'accel_x', 'accel_y', 'accel_z', 'other1', 'other2', 'other3', 'other4', 'other5',\n",
    "       'other6', 'other7', 'analog_ch1', 'analog_ch2','analog_ch3', 'TimeStamp', 'other8', 'time']\n",
    "\n",
    "usecols=['ch1', 'ch2', 'ch3', 'ch4', 'ch5', 'ch6', 'ch7', 'ch8','ch9', 'ch10',\n",
    "         'ch11', 'ch12', 'ch13', 'ch14', 'ch15', 'ch16', 'TimeStamp', 'time']\n",
    "\n",
    "\n",
    "alphabet1= pd.read_csv(data_alphabet_1, sep=\",\", header=6, index_col=False, names=names)\n",
    "alphabet2= pd.read_csv(data_alphabet_2, sep=\",\", header=6, index_col=False, names=names)\n",
    "alphabet3= pd.read_csv(data_alphabet_3, sep=\",\", header=6, index_col=False, names=names)\n",
    "alphabet4= pd.read_csv(data_alphabet_4, sep=\",\", header=6, index_col=False, names=names)\n",
    "alphabet5= pd.read_csv(data_alphabet_5, sep=\",\", header=6, index_col=False, names=names)\n",
    "alphabet6= pd.read_csv(data_alphabet_6, sep=\",\", header=6, index_col=False, names=names)\n",
    "alphabetX= pd.read_csv(data_alphabet_X, sep=\",\", header=6, index_col=False, names=names)\n",
    "\n",
    "asl1= pd.read_csv(data_asl_1, sep=\",\", header=6, index_col=False, names=names)\n",
    "asl2= pd.read_csv(data_asl_2, sep=\",\", header=6, index_col=False, names=names)\n",
    "asl3= pd.read_csv(data_asl_3, sep=\",\", header=6, index_col=False, names=names)\n",
    "asl4= pd.read_csv(data_asl_4, sep=\",\", header=6, index_col=False, names=names)\n",
    "asl5= pd.read_csv(data_asl_5, sep=\",\", header=6, index_col=False, names=names)\n",
    "asl6= pd.read_csv(data_asl_6, sep=\",\", header=6, index_col=False, names=names)\n",
    "aslX= pd.read_csv(data_asl_X, sep=\",\", header=6, index_col=False, names=names)\n",
    "\n",
    "labels_1 = pd.read_csv(label_alphabet_1, sep=',', index_col=False, names=['label_index', 'label', 'filename'])\n",
    "labels_2 = pd.read_csv(label_alphabet_2, sep=',', index_col=False, names=['label_index', 'label', 'filename'])\n",
    "labels_3 = pd.read_csv(label_alphabet_3, sep=',', index_col=False, names=['label_index', 'label', 'filename'])\n",
    "labels_4 = pd.read_csv(label_alphabet_4, sep=',', index_col=False, names=['label_index', 'label', 'filename'])\n",
    "labels_5 = pd.read_csv(label_alphabet_5, sep=',', index_col=False, names=['label_index', 'label', 'filename'])\n",
    "labels_6 = pd.read_csv(label_alphabet_6, sep=',', index_col=False, names=['label_index', 'label', 'filename'])\n",
    "labels_X = pd.read_csv(label_alphabet_X, sep=',', index_col=False, names=['label_index', 'label', 'filename'])\n"
   ]
  },
  {
   "cell_type": "code",
   "execution_count": 6,
   "metadata": {},
   "outputs": [
    {
     "data": {
      "text/html": [
       "<div>\n",
       "<style scoped>\n",
       "    .dataframe tbody tr th:only-of-type {\n",
       "        vertical-align: middle;\n",
       "    }\n",
       "\n",
       "    .dataframe tbody tr th {\n",
       "        vertical-align: top;\n",
       "    }\n",
       "\n",
       "    .dataframe thead th {\n",
       "        text-align: right;\n",
       "    }\n",
       "</style>\n",
       "<table border=\"1\" class=\"dataframe\">\n",
       "  <thead>\n",
       "    <tr style=\"text-align: right;\">\n",
       "      <th></th>\n",
       "      <th>Index</th>\n",
       "      <th>ch1</th>\n",
       "      <th>ch2</th>\n",
       "      <th>ch3</th>\n",
       "      <th>ch4</th>\n",
       "      <th>ch5</th>\n",
       "      <th>ch6</th>\n",
       "      <th>ch7</th>\n",
       "      <th>ch8</th>\n",
       "      <th>ch9</th>\n",
       "      <th>...</th>\n",
       "      <th>other4</th>\n",
       "      <th>other5</th>\n",
       "      <th>other6</th>\n",
       "      <th>other7</th>\n",
       "      <th>analog_ch1</th>\n",
       "      <th>analog_ch2</th>\n",
       "      <th>analog_ch3</th>\n",
       "      <th>TimeStamp</th>\n",
       "      <th>other8</th>\n",
       "      <th>time</th>\n",
       "    </tr>\n",
       "  </thead>\n",
       "  <tbody>\n",
       "    <tr>\n",
       "      <th>0</th>\n",
       "      <td>4.0</td>\n",
       "      <td>-4971.586760</td>\n",
       "      <td>-3163.420041</td>\n",
       "      <td>-650.949854</td>\n",
       "      <td>-5234.309165</td>\n",
       "      <td>2679.638884</td>\n",
       "      <td>2884.582029</td>\n",
       "      <td>-3164.716442</td>\n",
       "      <td>572.539934</td>\n",
       "      <td>-1166.001101</td>\n",
       "      <td>...</td>\n",
       "      <td>0.0</td>\n",
       "      <td>0.0</td>\n",
       "      <td>0.0</td>\n",
       "      <td>0.0</td>\n",
       "      <td>0.0</td>\n",
       "      <td>0.0</td>\n",
       "      <td>0.0</td>\n",
       "      <td>1.649236e+09</td>\n",
       "      <td>0.0</td>\n",
       "      <td>2022-04-06 11:12:57.737</td>\n",
       "    </tr>\n",
       "    <tr>\n",
       "      <th>1</th>\n",
       "      <td>6.0</td>\n",
       "      <td>-4947.603339</td>\n",
       "      <td>-3138.140218</td>\n",
       "      <td>-629.626290</td>\n",
       "      <td>-5214.214947</td>\n",
       "      <td>2691.597067</td>\n",
       "      <td>2894.014465</td>\n",
       "      <td>-3149.092573</td>\n",
       "      <td>586.219202</td>\n",
       "      <td>-1157.350976</td>\n",
       "      <td>...</td>\n",
       "      <td>123.5</td>\n",
       "      <td>56.0</td>\n",
       "      <td>14.0</td>\n",
       "      <td>112.0</td>\n",
       "      <td>0.0</td>\n",
       "      <td>0.0</td>\n",
       "      <td>0.0</td>\n",
       "      <td>1.649236e+09</td>\n",
       "      <td>0.0</td>\n",
       "      <td>2022-04-06 11:12:57.737</td>\n",
       "    </tr>\n",
       "    <tr>\n",
       "      <th>2</th>\n",
       "      <td>8.0</td>\n",
       "      <td>-4960.589702</td>\n",
       "      <td>-3152.422983</td>\n",
       "      <td>-645.808953</td>\n",
       "      <td>-5231.783418</td>\n",
       "      <td>2681.829355</td>\n",
       "      <td>2885.856078</td>\n",
       "      <td>-3164.470573</td>\n",
       "      <td>571.422347</td>\n",
       "      <td>-1161.016662</td>\n",
       "      <td>...</td>\n",
       "      <td>0.0</td>\n",
       "      <td>0.0</td>\n",
       "      <td>0.0</td>\n",
       "      <td>0.0</td>\n",
       "      <td>0.0</td>\n",
       "      <td>0.0</td>\n",
       "      <td>0.0</td>\n",
       "      <td>1.649236e+09</td>\n",
       "      <td>0.0</td>\n",
       "      <td>2022-04-06 11:12:57.737</td>\n",
       "    </tr>\n",
       "    <tr>\n",
       "      <th>3</th>\n",
       "      <td>10.0</td>\n",
       "      <td>-4952.721888</td>\n",
       "      <td>-3143.281119</td>\n",
       "      <td>-639.125781</td>\n",
       "      <td>-5222.328630</td>\n",
       "      <td>2689.093672</td>\n",
       "      <td>2884.582029</td>\n",
       "      <td>-3152.892369</td>\n",
       "      <td>582.352350</td>\n",
       "      <td>-1149.058479</td>\n",
       "      <td>...</td>\n",
       "      <td>0.0</td>\n",
       "      <td>0.0</td>\n",
       "      <td>0.0</td>\n",
       "      <td>0.0</td>\n",
       "      <td>0.0</td>\n",
       "      <td>0.0</td>\n",
       "      <td>0.0</td>\n",
       "      <td>1.649236e+09</td>\n",
       "      <td>0.0</td>\n",
       "      <td>2022-04-06 11:12:57.737</td>\n",
       "    </tr>\n",
       "    <tr>\n",
       "      <th>4</th>\n",
       "      <td>12.0</td>\n",
       "      <td>-4955.672318</td>\n",
       "      <td>-3145.538645</td>\n",
       "      <td>-641.696232</td>\n",
       "      <td>-5219.959345</td>\n",
       "      <td>2687.238477</td>\n",
       "      <td>2882.928000</td>\n",
       "      <td>-3152.981776</td>\n",
       "      <td>583.179365</td>\n",
       "      <td>-1163.005967</td>\n",
       "      <td>...</td>\n",
       "      <td>0.0</td>\n",
       "      <td>0.0</td>\n",
       "      <td>0.0</td>\n",
       "      <td>0.0</td>\n",
       "      <td>0.0</td>\n",
       "      <td>0.0</td>\n",
       "      <td>0.0</td>\n",
       "      <td>1.649236e+09</td>\n",
       "      <td>0.0</td>\n",
       "      <td>2022-04-06 11:12:57.737</td>\n",
       "    </tr>\n",
       "  </tbody>\n",
       "</table>\n",
       "<p>5 rows × 33 columns</p>\n",
       "</div>"
      ],
      "text/plain": [
       "   Index          ch1          ch2         ch3          ch4          ch5  \\\n",
       "0    4.0 -4971.586760 -3163.420041 -650.949854 -5234.309165  2679.638884   \n",
       "1    6.0 -4947.603339 -3138.140218 -629.626290 -5214.214947  2691.597067   \n",
       "2    8.0 -4960.589702 -3152.422983 -645.808953 -5231.783418  2681.829355   \n",
       "3   10.0 -4952.721888 -3143.281119 -639.125781 -5222.328630  2689.093672   \n",
       "4   12.0 -4955.672318 -3145.538645 -641.696232 -5219.959345  2687.238477   \n",
       "\n",
       "           ch6          ch7         ch8          ch9  ...  other4  other5  \\\n",
       "0  2884.582029 -3164.716442  572.539934 -1166.001101  ...     0.0     0.0   \n",
       "1  2894.014465 -3149.092573  586.219202 -1157.350976  ...   123.5    56.0   \n",
       "2  2885.856078 -3164.470573  571.422347 -1161.016662  ...     0.0     0.0   \n",
       "3  2884.582029 -3152.892369  582.352350 -1149.058479  ...     0.0     0.0   \n",
       "4  2882.928000 -3152.981776  583.179365 -1163.005967  ...     0.0     0.0   \n",
       "\n",
       "   other6  other7  analog_ch1  analog_ch2  analog_ch3     TimeStamp  other8  \\\n",
       "0     0.0     0.0         0.0         0.0         0.0  1.649236e+09     0.0   \n",
       "1    14.0   112.0         0.0         0.0         0.0  1.649236e+09     0.0   \n",
       "2     0.0     0.0         0.0         0.0         0.0  1.649236e+09     0.0   \n",
       "3     0.0     0.0         0.0         0.0         0.0  1.649236e+09     0.0   \n",
       "4     0.0     0.0         0.0         0.0         0.0  1.649236e+09     0.0   \n",
       "\n",
       "                       time  \n",
       "0   2022-04-06 11:12:57.737  \n",
       "1   2022-04-06 11:12:57.737  \n",
       "2   2022-04-06 11:12:57.737  \n",
       "3   2022-04-06 11:12:57.737  \n",
       "4   2022-04-06 11:12:57.737  \n",
       "\n",
       "[5 rows x 33 columns]"
      ]
     },
     "execution_count": 6,
     "metadata": {},
     "output_type": "execute_result"
    }
   ],
   "source": [
    "alphabet3.head()"
   ]
  },
  {
   "cell_type": "code",
   "execution_count": 7,
   "metadata": {},
   "outputs": [],
   "source": [
    "# choose the columns useful\n",
    "alphabet1_selected = alphabet1[usecols]\n",
    "alphabet2_selected = alphabet2[usecols]\n",
    "alphabet3_selected = alphabet3[usecols]\n",
    "alphabet4_selected = alphabet4[usecols]\n",
    "alphabet5_selected = alphabet5[usecols]\n",
    "alphabet6_selected = alphabet6[usecols]\n",
    "alphabetX_selected = alphabetX[usecols]\n",
    "\n",
    "asl1_selected = asl1[usecols]\n",
    "asl2_selected = asl2[usecols]\n",
    "asl3_selected = asl3[usecols]\n",
    "asl4_selected = asl4[usecols]\n",
    "asl5_selected = asl5[usecols]\n",
    "asl6_selected = asl6[usecols]\n",
    "aslX_selected = aslX[usecols]"
   ]
  },
  {
   "cell_type": "code",
   "execution_count": 8,
   "metadata": {},
   "outputs": [
    {
     "data": {
      "text/html": [
       "<div>\n",
       "<style scoped>\n",
       "    .dataframe tbody tr th:only-of-type {\n",
       "        vertical-align: middle;\n",
       "    }\n",
       "\n",
       "    .dataframe tbody tr th {\n",
       "        vertical-align: top;\n",
       "    }\n",
       "\n",
       "    .dataframe thead th {\n",
       "        text-align: right;\n",
       "    }\n",
       "</style>\n",
       "<table border=\"1\" class=\"dataframe\">\n",
       "  <thead>\n",
       "    <tr style=\"text-align: right;\">\n",
       "      <th></th>\n",
       "      <th>ch1</th>\n",
       "      <th>ch2</th>\n",
       "      <th>ch3</th>\n",
       "      <th>ch4</th>\n",
       "      <th>ch5</th>\n",
       "      <th>ch6</th>\n",
       "      <th>ch7</th>\n",
       "      <th>ch8</th>\n",
       "      <th>ch9</th>\n",
       "      <th>ch10</th>\n",
       "      <th>ch11</th>\n",
       "      <th>ch12</th>\n",
       "      <th>ch13</th>\n",
       "      <th>ch14</th>\n",
       "      <th>ch15</th>\n",
       "      <th>ch16</th>\n",
       "      <th>TimeStamp</th>\n",
       "      <th>time</th>\n",
       "    </tr>\n",
       "  </thead>\n",
       "  <tbody>\n",
       "    <tr>\n",
       "      <th>0</th>\n",
       "      <td>-3123.030439</td>\n",
       "      <td>-6392.017769</td>\n",
       "      <td>2877.273008</td>\n",
       "      <td>-47.408050</td>\n",
       "      <td>-2224.780884</td>\n",
       "      <td>-4309.349276</td>\n",
       "      <td>-4564.874418</td>\n",
       "      <td>-4443.727963</td>\n",
       "      <td>7127.233699</td>\n",
       "      <td>-204.004372</td>\n",
       "      <td>3899.462986</td>\n",
       "      <td>11013.375045</td>\n",
       "      <td>-3488.302647</td>\n",
       "      <td>-2578.184316</td>\n",
       "      <td>-2840.794962</td>\n",
       "      <td>1294.568335</td>\n",
       "      <td>1.649772e+09</td>\n",
       "      <td>2022-04-12 15:54:04.712</td>\n",
       "    </tr>\n",
       "    <tr>\n",
       "      <th>1</th>\n",
       "      <td>-3123.231604</td>\n",
       "      <td>-6384.865211</td>\n",
       "      <td>2876.557753</td>\n",
       "      <td>-48.346823</td>\n",
       "      <td>-2218.455341</td>\n",
       "      <td>-4305.840052</td>\n",
       "      <td>-4561.208732</td>\n",
       "      <td>-4439.458780</td>\n",
       "      <td>7132.039324</td>\n",
       "      <td>-195.041322</td>\n",
       "      <td>3896.020817</td>\n",
       "      <td>11008.569420</td>\n",
       "      <td>-3486.782728</td>\n",
       "      <td>-2566.874333</td>\n",
       "      <td>-2838.805656</td>\n",
       "      <td>1300.536251</td>\n",
       "      <td>1.649772e+09</td>\n",
       "      <td>2022-04-12 15:54:04.712</td>\n",
       "    </tr>\n",
       "    <tr>\n",
       "      <th>2</th>\n",
       "      <td>-3119.498863</td>\n",
       "      <td>-6387.145089</td>\n",
       "      <td>2879.284665</td>\n",
       "      <td>-44.882303</td>\n",
       "      <td>-2226.367858</td>\n",
       "      <td>-4308.566965</td>\n",
       "      <td>-4570.864686</td>\n",
       "      <td>-4446.611338</td>\n",
       "      <td>7127.032534</td>\n",
       "      <td>-192.135595</td>\n",
       "      <td>3896.847832</td>\n",
       "      <td>11012.525679</td>\n",
       "      <td>-3487.520336</td>\n",
       "      <td>-2569.243618</td>\n",
       "      <td>-2840.258520</td>\n",
       "      <td>1298.278725</td>\n",
       "      <td>1.649772e+09</td>\n",
       "      <td>2022-04-12 15:54:04.712</td>\n",
       "    </tr>\n",
       "    <tr>\n",
       "      <th>3</th>\n",
       "      <td>-3120.236471</td>\n",
       "      <td>-6383.926437</td>\n",
       "      <td>2877.809450</td>\n",
       "      <td>-49.106783</td>\n",
       "      <td>-2218.991783</td>\n",
       "      <td>-4308.634020</td>\n",
       "      <td>-4558.459468</td>\n",
       "      <td>-4440.598719</td>\n",
       "      <td>7128.395990</td>\n",
       "      <td>-198.528194</td>\n",
       "      <td>3898.591268</td>\n",
       "      <td>11013.509156</td>\n",
       "      <td>-3488.079129</td>\n",
       "      <td>-2574.228057</td>\n",
       "      <td>-2840.839665</td>\n",
       "      <td>1296.892917</td>\n",
       "      <td>1.649772e+09</td>\n",
       "      <td>2022-04-12 15:54:04.712</td>\n",
       "    </tr>\n",
       "    <tr>\n",
       "      <th>4</th>\n",
       "      <td>-3120.057657</td>\n",
       "      <td>-6390.229629</td>\n",
       "      <td>2878.524706</td>\n",
       "      <td>-48.972672</td>\n",
       "      <td>-2221.986916</td>\n",
       "      <td>-4311.539747</td>\n",
       "      <td>-4563.868590</td>\n",
       "      <td>-4444.733792</td>\n",
       "      <td>7131.458179</td>\n",
       "      <td>-198.841119</td>\n",
       "      <td>3896.244335</td>\n",
       "      <td>11005.104900</td>\n",
       "      <td>-3484.838126</td>\n",
       "      <td>-2567.030795</td>\n",
       "      <td>-2837.866883</td>\n",
       "      <td>1299.955106</td>\n",
       "      <td>1.649772e+09</td>\n",
       "      <td>2022-04-12 15:54:04.712</td>\n",
       "    </tr>\n",
       "  </tbody>\n",
       "</table>\n",
       "</div>"
      ],
      "text/plain": [
       "           ch1          ch2          ch3        ch4          ch5          ch6  \\\n",
       "0 -3123.030439 -6392.017769  2877.273008 -47.408050 -2224.780884 -4309.349276   \n",
       "1 -3123.231604 -6384.865211  2876.557753 -48.346823 -2218.455341 -4305.840052   \n",
       "2 -3119.498863 -6387.145089  2879.284665 -44.882303 -2226.367858 -4308.566965   \n",
       "3 -3120.236471 -6383.926437  2877.809450 -49.106783 -2218.991783 -4308.634020   \n",
       "4 -3120.057657 -6390.229629  2878.524706 -48.972672 -2221.986916 -4311.539747   \n",
       "\n",
       "           ch7          ch8          ch9        ch10         ch11  \\\n",
       "0 -4564.874418 -4443.727963  7127.233699 -204.004372  3899.462986   \n",
       "1 -4561.208732 -4439.458780  7132.039324 -195.041322  3896.020817   \n",
       "2 -4570.864686 -4446.611338  7127.032534 -192.135595  3896.847832   \n",
       "3 -4558.459468 -4440.598719  7128.395990 -198.528194  3898.591268   \n",
       "4 -4563.868590 -4444.733792  7131.458179 -198.841119  3896.244335   \n",
       "\n",
       "           ch12         ch13         ch14         ch15         ch16  \\\n",
       "0  11013.375045 -3488.302647 -2578.184316 -2840.794962  1294.568335   \n",
       "1  11008.569420 -3486.782728 -2566.874333 -2838.805656  1300.536251   \n",
       "2  11012.525679 -3487.520336 -2569.243618 -2840.258520  1298.278725   \n",
       "3  11013.509156 -3488.079129 -2574.228057 -2840.839665  1296.892917   \n",
       "4  11005.104900 -3484.838126 -2567.030795 -2837.866883  1299.955106   \n",
       "\n",
       "      TimeStamp                      time  \n",
       "0  1.649772e+09   2022-04-12 15:54:04.712  \n",
       "1  1.649772e+09   2022-04-12 15:54:04.712  \n",
       "2  1.649772e+09   2022-04-12 15:54:04.712  \n",
       "3  1.649772e+09   2022-04-12 15:54:04.712  \n",
       "4  1.649772e+09   2022-04-12 15:54:04.712  "
      ]
     },
     "execution_count": 8,
     "metadata": {},
     "output_type": "execute_result"
    }
   ],
   "source": [
    "alphabet1_selected.head()"
   ]
  },
  {
   "cell_type": "code",
   "execution_count": 9,
   "metadata": {},
   "outputs": [
    {
     "name": "stdout",
     "output_type": "stream",
     "text": [
      "<class 'pandas.core.frame.DataFrame'>\n",
      "RangeIndex: 97815 entries, 0 to 97814\n",
      "Data columns (total 18 columns):\n",
      " #   Column     Non-Null Count  Dtype  \n",
      "---  ------     --------------  -----  \n",
      " 0   ch1        97815 non-null  float64\n",
      " 1   ch2        97815 non-null  float64\n",
      " 2   ch3        97815 non-null  float64\n",
      " 3   ch4        97815 non-null  float64\n",
      " 4   ch5        97815 non-null  float64\n",
      " 5   ch6        97815 non-null  float64\n",
      " 6   ch7        97815 non-null  float64\n",
      " 7   ch8        97815 non-null  float64\n",
      " 8   ch9        97815 non-null  float64\n",
      " 9   ch10       97815 non-null  float64\n",
      " 10  ch11       97815 non-null  float64\n",
      " 11  ch12       97815 non-null  float64\n",
      " 12  ch13       97815 non-null  float64\n",
      " 13  ch14       97815 non-null  float64\n",
      " 14  ch15       97815 non-null  float64\n",
      " 15  ch16       97815 non-null  float64\n",
      " 16  TimeStamp  97815 non-null  float64\n",
      " 17  time       97815 non-null  object \n",
      "dtypes: float64(17), object(1)\n",
      "memory usage: 13.4+ MB\n"
     ]
    }
   ],
   "source": [
    "alphabet1_selected.info()"
   ]
  },
  {
   "cell_type": "code",
   "execution_count": 10,
   "metadata": {},
   "outputs": [],
   "source": [
    "sampling_rate =  125"
   ]
  },
  {
   "cell_type": "raw",
   "metadata": {},
   "source": [
    "for video named with number, the time is 12min 58sec\n",
    "\n",
    "for video named with X is 9min 15sec"
   ]
  },
  {
   "cell_type": "code",
   "execution_count": 11,
   "metadata": {},
   "outputs": [
    {
     "data": {
      "text/plain": [
       "1649236455.0"
      ]
     },
     "execution_count": 11,
     "metadata": {},
     "output_type": "execute_result"
    }
   ],
   "source": [
    "# from time to timestamp\n",
    "# print(alphabet3_selected['time'][9800])\n",
    "timeArray = time.strptime(str(alphabet3_selected['time'][9800]), \" %Y-%m-%d %H:%M:%S.%f\") \n",
    "timestamp = time.mktime(timeArray)\n",
    "timestamp"
   ]
  },
  {
   "cell_type": "code",
   "execution_count": 12,
   "metadata": {},
   "outputs": [
    {
     "name": "stdout",
     "output_type": "stream",
     "text": [
      "Total length of data:  781.2487998008728 s\n"
     ]
    }
   ],
   "source": [
    "Timestamps1 = np.array(alphabet1_selected['TimeStamp'] - alphabet1_selected['TimeStamp'][0])\n",
    "# print(\"Timestamps shape: \", Timestamps.shape)\n",
    "print(\"Total length of data: \", Timestamps1[-1], 's')"
   ]
  },
  {
   "cell_type": "markdown",
   "metadata": {},
   "source": [
    "Plot one file asl/alphabet"
   ]
  },
  {
   "cell_type": "code",
   "execution_count": 13,
   "metadata": {},
   "outputs": [
    {
     "data": {
      "image/png": "[encoded data removed]",
      "text/plain": [
       "<Figure size 864x432 with 16 Axes>"
      ]
     },
     "metadata": {
      "needs_background": "light"
     },
     "output_type": "display_data"
    }
   ],
   "source": [
    "EEG_data = alphabet1_selected[['ch1', 'ch2', 'ch3', 'ch4', 'ch5', 'ch6', 'ch7', 'ch8', \\\n",
    "                               'ch9', 'ch10', 'ch11', 'ch12', 'ch13', 'ch14', 'ch15', 'ch16']]\n",
    "df = pd.DataFrame(EEG_data)\n",
    "df[['ch1', 'ch2', 'ch3', 'ch4', 'ch5', 'ch6', 'ch7', 'ch8', \n",
    "                               'ch9', 'ch10', 'ch11', 'ch12', 'ch13', 'ch14', 'ch15', 'ch16']].plot(subplots=True, figsize=(12, 6))\n",
    "plt.show()"
   ]
  },
  {
   "cell_type": "code",
   "execution_count": 73,
   "metadata": {},
   "outputs": [
    {
     "data": {
      "image/png": "[encoded data removed]",
      "text/plain": [
       "<Figure size 864x432 with 16 Axes>"
      ]
     },
     "metadata": {
      "needs_background": "light"
     },
     "output_type": "display_data"
    }
   ],
   "source": [
    "EEG_data = asl1_selected[['ch1', 'ch2', 'ch3', 'ch4', 'ch5', 'ch6', 'ch7', 'ch8', \\\n",
    "                               'ch9', 'ch10', 'ch11', 'ch12', 'ch13', 'ch14', 'ch15', 'ch16']]\n",
    "df = pd.DataFrame(EEG_data)\n",
    "df[['ch1', 'ch2', 'ch3', 'ch4', 'ch5', 'ch6', 'ch7', 'ch8', \n",
    "                               'ch9', 'ch10', 'ch11', 'ch12', 'ch13', 'ch14', 'ch15', 'ch16']].plot(subplots=True, figsize=(12, 6))\n",
    "plt.show()"
   ]
  },
  {
   "cell_type": "code",
   "execution_count": 14,
   "metadata": {},
   "outputs": [
    {
     "name": "stdout",
     "output_type": "stream",
     "text": [
      "EEG data shape:  (97815, 16)\n"
     ]
    },
    {
     "data": {
      "image/png": "[encoded data removed]",
      "text/plain": [
       "<Figure size 960x480 with 1 Axes>"
      ]
     },
     "metadata": {
      "needs_background": "light"
     },
     "output_type": "display_data"
    }
   ],
   "source": [
    "EEG_data = alphabet1_selected[['ch1', 'ch2', 'ch3', 'ch4', 'ch5', 'ch6', 'ch7', 'ch8', \n",
    "                               'ch9', 'ch10', 'ch11', 'ch12', 'ch13', 'ch14', 'ch15', 'ch16']].to_numpy()\n",
    "print(\"EEG data shape: \", EEG_data.shape)\n",
    "\n",
    "plt.figure(figsize=(12, 6), dpi=80)\n",
    "for i in range(EEG_data.shape[1]):\n",
    "    plt.plot(EEG_data[:,i]/np.mean(EEG_data[:,i])+i)\n",
    "plt.xticks(ticks=np.arange(0, round(Timestamps1[-1]+1)*sampling_rate, round(Timestamps1[-1]+1)*sampling_rate/4), \n",
    "           labels=np.arange(0, round(Timestamps1[-1]+1),round(Timestamps1[-1]+1)/4))\n",
    "# plt.yticks(ticks=np.arange(0,8))\n",
    "plt.xlabel('Time (s)')\n",
    "plt.ylabel('Channel')\n",
    "plt.title(\"All alphabet1 data in 16 channel\")\n",
    "plt.tight_layout()\n",
    "plt.show()"
   ]
  },
  {
   "cell_type": "code",
   "execution_count": 72,
   "metadata": {},
   "outputs": [
    {
     "name": "stdout",
     "output_type": "stream",
     "text": [
      "EEG data shape:  (97937, 16)\n"
     ]
    },
    {
     "data": {
      "image/png": "[encoded data removed]",
      "text/plain": [
       "<Figure size 960x480 with 1 Axes>"
      ]
     },
     "metadata": {
      "needs_background": "light"
     },
     "output_type": "display_data"
    }
   ],
   "source": [
    "EEG_data = asl1_selected[['ch1', 'ch2', 'ch3', 'ch4', 'ch5', 'ch6', 'ch7', 'ch8', \n",
    "                               'ch9', 'ch10', 'ch11', 'ch12', 'ch13', 'ch14', 'ch15', 'ch16']].to_numpy()\n",
    "print(\"EEG data shape: \", EEG_data.shape)\n",
    "\n",
    "plt.figure(figsize=(12, 6), dpi=80)\n",
    "for i in range(EEG_data.shape[1]):\n",
    "    plt.plot(EEG_data[:,i]/np.mean(EEG_data[:,i])+i)\n",
    "plt.xticks(ticks=np.arange(0, round(Timestamps1[-1]+1)*sampling_rate, round(Timestamps1[-1]+1)*sampling_rate/4), \n",
    "           labels=np.arange(0, round(Timestamps1[-1]+1),round(Timestamps1[-1]+1)/4))\n",
    "# plt.yticks(ticks=np.arange(0,8))\n",
    "plt.xlabel('Time (s)')\n",
    "plt.ylabel('Channel')\n",
    "plt.title(\"All alphabet1 data in 16 channel\")\n",
    "plt.tight_layout()\n",
    "plt.show()"
   ]
  },
  {
   "cell_type": "markdown",
   "metadata": {},
   "source": [
    "# Split our data\n"
   ]
  },
  {
   "cell_type": "code",
   "execution_count": 15,
   "metadata": {},
   "outputs": [
    {
     "data": {
      "text/plain": [
       "781.2487998008728"
      ]
     },
     "execution_count": 15,
     "metadata": {},
     "output_type": "execute_result"
    }
   ],
   "source": [
    "Timestamps1[-1]"
   ]
  },
  {
   "cell_type": "code",
   "execution_count": 16,
   "metadata": {},
   "outputs": [
    {
     "data": {
      "text/plain": [
       "0.0"
      ]
     },
     "execution_count": 16,
     "metadata": {},
     "output_type": "execute_result"
    }
   ],
   "source": [
    "Timestamps1[0]"
   ]
  },
  {
   "cell_type": "raw",
   "metadata": {},
   "source": [
    "video detail time:\n",
    "\n",
    "[15 + 0.1*5(flick time)  sec start] + 2.5 sec black + 3.1 sec image + 0.5 sec black + 2.5 sec black + 3.1 sec image + 0.5 sec black... + 0.1*5(flick time) sec ending\n",
    "\n",
    "so in total, the video length is 15.5+ 6.1*124 + 2.5 + [3.1 + 0.5](last one) + 0.1*5 = 778.5\n",
    "\n",
    "the last letter(lack time to imagine), so skip it, that means 3.6+0.5 sec, as a result, we need to choose our data in 0-774.4\n",
    "\n",
    "so we need data 18-774.4(skip starting)"
   ]
  },
  {
   "cell_type": "code",
   "execution_count": 17,
   "metadata": {},
   "outputs": [
    {
     "data": {
      "text/plain": [
       "97815"
      ]
     },
     "execution_count": 17,
     "metadata": {},
     "output_type": "execute_result"
    }
   ],
   "source": [
    "len(Timestamps1)"
   ]
  },
  {
   "cell_type": "code",
   "execution_count": 18,
   "metadata": {},
   "outputs": [
    {
     "name": "stdout",
     "output_type": "stream",
     "text": [
      "2283\n",
      "0.2593257427215576\n"
     ]
    }
   ],
   "source": [
    "# find the starting index of our range\n",
    "for i in range(len(Timestamps1)):\n",
    "    if Timestamps1[i] - Timestamps1[0] >= 18:\n",
    "        print(i)\n",
    "        print(Timestamps1[i] - Timestamps1[0]-18)\n",
    "        break"
   ]
  },
  {
   "cell_type": "code",
   "execution_count": 19,
   "metadata": {},
   "outputs": [
    {
     "name": "stdout",
     "output_type": "stream",
     "text": [
      "96913\n",
      "0.12196526527407059\n"
     ]
    }
   ],
   "source": [
    "# find the ending index of our range\n",
    "for i in range(len(Timestamps1)):\n",
    "    if Timestamps1[i] - Timestamps1[0] >= 774.4:\n",
    "        print(i)\n",
    "        print(Timestamps1[i] - Timestamps1[0]-774.4)\n",
    "        break"
   ]
  },
  {
   "cell_type": "raw",
   "metadata": {},
   "source": [
    "Make sure other files are the same index\n",
    "\n",
    "if not we will do this process for all 12 files txt"
   ]
  },
  {
   "cell_type": "code",
   "execution_count": 20,
   "metadata": {},
   "outputs": [
    {
     "name": "stdout",
     "output_type": "stream",
     "text": [
      "2283\n",
      "0.2578282356262207\n",
      "96890\n",
      "0.0013135433197248858\n"
     ]
    }
   ],
   "source": [
    "Timestamps2 = np.array(alphabet2_selected['TimeStamp'] - alphabet2_selected['TimeStamp'][0])\n",
    "# find the starting index of our range\n",
    "for i in range(len(Timestamps2)):\n",
    "    if Timestamps2[i] - Timestamps2[0] >= 18:\n",
    "        print(i)\n",
    "        print(Timestamps2[i] - Timestamps2[0]-18)\n",
    "        break\n",
    "\n",
    "# find the ending index of our range\n",
    "for i in range(len(Timestamps2)):\n",
    "    if Timestamps2[i] - Timestamps2[0] >= 774.4:\n",
    "        print(i)\n",
    "        print(Timestamps2[i] - Timestamps2[0]-774.4)\n",
    "        break"
   ]
  },
  {
   "cell_type": "markdown",
   "metadata": {},
   "source": [
    "we can find the index is different, so that means each files are needed to do this(by a function)"
   ]
  },
  {
   "cell_type": "raw",
   "metadata": {},
   "source": [
    "X video detail time:\n",
    "\n",
    "[15 + 0.1*5(flick time)  sec start] + 2.5 sec black + 3.1 sec image + 0.5 sec black + 2.5 sec black + 3.1 sec image + 0.5 sec black... + 2.5 sec + 0.1*5(flick time) sec ending\n",
    "\n",
    "so in total, the video length is 15.5+ 6.1*88 + 2.5 + 0.1*5 = 555.3\n",
    "\n",
    "so we need data 18-554.8(skip starting, ending)"
   ]
  },
  {
   "cell_type": "code",
   "execution_count": 21,
   "metadata": {},
   "outputs": [
    {
     "name": "stdout",
     "output_type": "stream",
     "text": [
      "69438\n",
      "0.1643580913544156\n"
     ]
    }
   ],
   "source": [
    "TimestampsX = np.array(alphabetX_selected['TimeStamp'] - alphabetX_selected['TimeStamp'][0])\n",
    "# print(\"Total length of data for X: \", TimestampsX[-1], 's')\n",
    "\n",
    "# find the ending index of our range for X\n",
    "for i in range(len(TimestampsX)):\n",
    "    if TimestampsX[i] - TimestampsX[0] >= 554.8:\n",
    "        print(i)\n",
    "        print(TimestampsX[i] - TimestampsX[0]-554.8)\n",
    "        break"
   ]
  },
  {
   "cell_type": "markdown",
   "metadata": {},
   "source": [
    "For alphabet1"
   ]
  },
  {
   "cell_type": "code",
   "execution_count": 22,
   "metadata": {},
   "outputs": [
    {
     "data": {
      "text/plain": [
       "18.259325742721558"
      ]
     },
     "execution_count": 22,
     "metadata": {},
     "output_type": "execute_result"
    }
   ],
   "source": [
    "Timestamps1[2283]"
   ]
  },
  {
   "cell_type": "code",
   "execution_count": 23,
   "metadata": {},
   "outputs": [
    {
     "data": {
      "text/plain": [
       "17.779026746749878"
      ]
     },
     "execution_count": 23,
     "metadata": {},
     "output_type": "execute_result"
    }
   ],
   "source": [
    "Timestamps1[2282]"
   ]
  },
  {
   "cell_type": "code",
   "execution_count": 24,
   "metadata": {},
   "outputs": [
    {
     "data": {
      "text/plain": [
       "774.0408504009247"
      ]
     },
     "execution_count": 24,
     "metadata": {},
     "output_type": "execute_result"
    }
   ],
   "source": [
    "Timestamps1[96912]"
   ]
  },
  {
   "cell_type": "code",
   "execution_count": 25,
   "metadata": {},
   "outputs": [
    {
     "data": {
      "text/plain": [
       "755.7815246582031"
      ]
     },
     "execution_count": 25,
     "metadata": {},
     "output_type": "execute_result"
    }
   ],
   "source": [
    "# 124*6.1= 756.4\n",
    "Timestamps1[96912]-Timestamps1[2283]"
   ]
  },
  {
   "cell_type": "raw",
   "metadata": {},
   "source": [
    "alphabet1 2283 - 96912: 94629 index for 248 data pieces, each have 381.5685"
   ]
  },
  {
   "cell_type": "code",
   "execution_count": 26,
   "metadata": {},
   "outputs": [],
   "source": [
    "indexs = list()\n",
    "current = Timestamps1[2283]\n",
    "current_index = 2283\n",
    "vision = True\n",
    "current_missing = Timestamps1[2283]-18\n",
    "count_vision = 0 \n",
    "count_imagination = 0 \n",
    "for i in range(2283, 96913):\n",
    "\n",
    "    if vision:\n",
    "        if Timestamps1[i] - current >= 3.1-current_missing:\n",
    "            # print(Timestamps1[i] - current -3.1)\n",
    "            # print(Timestamps1[i] - Timestamps1[i-1])\n",
    "            count_vision += 1\n",
    "            current_missing = Timestamps1[i] - 18 - 3.1*count_vision - 3.0*count_imagination\n",
    "            vision = False\n",
    "            current = Timestamps1[i]\n",
    "            # use i-1 not i\n",
    "            indexs.append((current_index, i-1))\n",
    "            current_index = i\n",
    "\n",
    "    else:\n",
    "        if Timestamps1[i] - current >= 3.0-current_missing:\n",
    "            # print(Timestamps1[i] - current -3.0)\n",
    "            # print(Timestamps1[i] - Timestamps1[i-1])\n",
    "            count_imagination += 1\n",
    "            current_missing = Timestamps1[i] - 18 - 3.1*count_vision - 3.0*count_imagination\n",
    "            vision = True\n",
    "            current = Timestamps1[i]\n",
    "            indexs.append((current_index, i-1))\n",
    "            current_index = i\n",
    "\n",
    "indexs.append((current_index, 96912))"
   ]
  },
  {
   "cell_type": "code",
   "execution_count": 27,
   "metadata": {},
   "outputs": [
    {
     "data": {
      "text/plain": [
       "248"
      ]
     },
     "execution_count": 27,
     "metadata": {},
     "output_type": "execute_result"
    }
   ],
   "source": [
    "# the length should be 124*2= 248\n",
    "len(indexs)"
   ]
  },
  {
   "cell_type": "code",
   "execution_count": 28,
   "metadata": {},
   "outputs": [
    {
     "data": {
      "text/plain": [
       "(2283, 2642)"
      ]
     },
     "execution_count": 28,
     "metadata": {},
     "output_type": "execute_result"
    }
   ],
   "source": [
    "indexs[0]"
   ]
  },
  {
   "cell_type": "code",
   "execution_count": 29,
   "metadata": {},
   "outputs": [
    {
     "data": {
      "text/plain": [
       "(2643, 3063)"
      ]
     },
     "execution_count": 29,
     "metadata": {},
     "output_type": "execute_result"
    }
   ],
   "source": [
    "indexs[1]"
   ]
  },
  {
   "cell_type": "code",
   "execution_count": 30,
   "metadata": {},
   "outputs": [
    {
     "data": {
      "text/plain": [
       "(96553, 96912)"
      ]
     },
     "execution_count": 30,
     "metadata": {},
     "output_type": "execute_result"
    }
   ],
   "source": [
    "indexs[-1]"
   ]
  },
  {
   "cell_type": "raw",
   "metadata": {},
   "source": [
    "This way seems a little complicated, but now we got all intervals that we need, and each intervals lengths are not match 3.1 sec or 3.0 sec, yet those intervals are rightly a subset period data of the whole small data piece.\n",
    "\n",
    "Now we package the process above as a function"
   ]
  },
  {
   "cell_type": "code",
   "execution_count": 31,
   "metadata": {},
   "outputs": [],
   "source": [
    "def get_intervals_data(df, named_X=False): \n",
    "    # get timestamp array\n",
    "    Timestamps = np.array(df['TimeStamp'] - df['TimeStamp'][0])\n",
    "    \n",
    "    # find the starting index of our range\n",
    "    for i in range(len(Timestamps)):\n",
    "        if Timestamps[i] - Timestamps[0] >= 18:\n",
    "            starting = i\n",
    "            break\n",
    "            \n",
    "    if named_X:\n",
    "        # find the ending index of our range for X\n",
    "        for i in range(len(Timestamps)):\n",
    "            if Timestamps[i] - Timestamps[0] >= 554.8:\n",
    "                ending = i-1\n",
    "                break\n",
    "    else:\n",
    "        # find the ending index of our range for number\n",
    "        for i in range(len(Timestamps)):\n",
    "            if Timestamps[i] - Timestamps[0] >= 774.4:\n",
    "                ending = i-1\n",
    "                break\n",
    "                \n",
    "    # get the intervals\n",
    "    indexs = list()\n",
    "    length_vision = list()\n",
    "    length_imagination = list()\n",
    "    current = Timestamps[starting]\n",
    "    current_index = starting\n",
    "    vision = True\n",
    "    current_missing = Timestamps[starting]-18\n",
    "    count_vision = 0 \n",
    "    count_imagination = 0 \n",
    "    \n",
    "    for i in range(starting, ending+1): \n",
    "\n",
    "        if vision:\n",
    "            if Timestamps[i] - current >= 3.1-current_missing:\n",
    "\n",
    "                count_vision += 1\n",
    "                current_missing = Timestamps[i] - 18 - 3.1*count_vision - 3.0*count_imagination\n",
    "                vision = False\n",
    "                current = Timestamps[i]\n",
    "                # use i-1 not i, make sure data interval is pure data\n",
    "                indexs.append((current_index, i-1))\n",
    "                length_vision.append(i-1-current_index)\n",
    "                current_index = i\n",
    "\n",
    "        else:\n",
    "            if Timestamps[i] - current >= 3.0-current_missing:\n",
    "\n",
    "                count_imagination += 1\n",
    "                current_missing = Timestamps[i] - 18 - 3.1*count_vision - 3.0*count_imagination\n",
    "                vision = True\n",
    "                current = Timestamps[i]\n",
    "                indexs.append((current_index, i-1))\n",
    "                length_imagination.append(i-1-current_index)\n",
    "                current_index = i\n",
    "\n",
    "    indexs.append((current_index, ending))\n",
    "    \n",
    "    if named_X:\n",
    "        assert len(indexs) == 88*2\n",
    "    else:\n",
    "        assert len(indexs) == 124*2\n",
    "    \n",
    "    return indexs, length_vision, length_imagination"
   ]
  },
  {
   "cell_type": "code",
   "execution_count": 32,
   "metadata": {},
   "outputs": [],
   "source": [
    "indexs_1, length_vision1, length_imagination1 = get_intervals_data(alphabet1_selected)"
   ]
  },
  {
   "cell_type": "code",
   "execution_count": 33,
   "metadata": {},
   "outputs": [
    {
     "data": {
      "text/plain": [
       "True"
      ]
     },
     "execution_count": 33,
     "metadata": {},
     "output_type": "execute_result"
    }
   ],
   "source": [
    "indexs == indexs_1"
   ]
  },
  {
   "cell_type": "markdown",
   "metadata": {},
   "source": [
    "So we can obtain the data piece that we need"
   ]
  },
  {
   "cell_type": "code",
   "execution_count": 37,
   "metadata": {},
   "outputs": [],
   "source": [
    "indexs_alphabet1, length_vision1, length_imagination1 = get_intervals_data(alphabet1_selected)\n",
    "indexs_alphabet2, length_vision2, length_imagination2 = get_intervals_data(alphabet2_selected)\n",
    "indexs_alphabet3, length_vision3, length_imagination3 = get_intervals_data(alphabet3_selected)\n",
    "indexs_alphabet4, length_vision4, length_imagination4 = get_intervals_data(alphabet4_selected)\n",
    "indexs_alphabet5, length_vision5, length_imagination5 = get_intervals_data(alphabet5_selected)\n",
    "indexs_alphabet6, length_vision6, length_imagination6 = get_intervals_data(alphabet6_selected)\n",
    "indexs_alphabetX, length_visionX, length_imaginationX = get_intervals_data(alphabetX_selected, named_X=True)\n",
    "\n",
    "indexs_asl1, length_vision11, length_imagination11 = get_intervals_data(asl1_selected)\n",
    "indexs_asl2, length_vision22, length_imagination22 = get_intervals_data(asl2_selected)\n",
    "indexs_asl3, length_vision33, length_imagination33 = get_intervals_data(asl3_selected)\n",
    "indexs_asl4, length_vision44, length_imagination44 = get_intervals_data(asl4_selected)\n",
    "indexs_asl5, length_vision55, length_imagination55 = get_intervals_data(asl5_selected)\n",
    "indexs_asl6, length_vision66, length_imagination66 = get_intervals_data(asl6_selected)\n",
    "indexs_aslX, length_visionXX, length_imaginationXX = get_intervals_data(aslX_selected, named_X=True)\n"
   ]
  },
  {
   "cell_type": "markdown",
   "metadata": {},
   "source": [
    "Analyse the lengths of the data intervals, if need, we can cut the data interval in a same length(min lengths)"
   ]
  },
  {
   "cell_type": "code",
   "execution_count": 38,
   "metadata": {},
   "outputs": [
    {
     "name": "stdout",
     "output_type": "stream",
     "text": [
      "359 358 359 359 359 359 359\n"
     ]
    }
   ],
   "source": [
    "print(min(length_vision1), min(length_vision2), min(length_vision3), min(length_vision4),\n",
    "      min(length_vision5),min(length_vision6), min(length_visionX))"
   ]
  },
  {
   "cell_type": "code",
   "execution_count": 39,
   "metadata": {},
   "outputs": [
    {
     "name": "stdout",
     "output_type": "stream",
     "text": [
      "359 359 359 359 359 359 359\n"
     ]
    }
   ],
   "source": [
    "print(min(length_vision11), min(length_vision22), min(length_vision33), min(length_vision44),\n",
    "      min(length_vision55), min(length_vision66), min(length_visionXX))"
   ]
  },
  {
   "cell_type": "code",
   "execution_count": 40,
   "metadata": {},
   "outputs": [
    {
     "name": "stdout",
     "output_type": "stream",
     "text": [
      "359 358 347 346 359 359 359\n"
     ]
    }
   ],
   "source": [
    "print(min(length_imagination1), min(length_imagination2), min(length_imagination3), \n",
    "      min(length_imagination4), min(length_imagination5), min(length_imagination6), min(length_imaginationX))"
   ]
  },
  {
   "cell_type": "code",
   "execution_count": 41,
   "metadata": {},
   "outputs": [
    {
     "name": "stdout",
     "output_type": "stream",
     "text": [
      "359 359 359 359 359 359 359\n"
     ]
    }
   ],
   "source": [
    "print(min(length_imagination11), min(length_imagination22), min(length_imagination33), min(length_imagination44),\n",
    "      min(length_imagination55), min(length_imagination66), min(length_imaginationXX))"
   ]
  },
  {
   "cell_type": "markdown",
   "metadata": {},
   "source": [
    "The most often min length is 359, but still some 347 346"
   ]
  },
  {
   "cell_type": "code",
   "execution_count": 42,
   "metadata": {},
   "outputs": [],
   "source": [
    "from collections import Counter"
   ]
  },
  {
   "cell_type": "code",
   "execution_count": 43,
   "metadata": {},
   "outputs": [
    {
     "data": {
      "text/plain": [
       "Counter({359: 19, 360: 49, 419: 11, 420: 45})"
      ]
     },
     "execution_count": 43,
     "metadata": {},
     "output_type": "execute_result"
    }
   ],
   "source": [
    "Counter(length_vision1)"
   ]
  },
  {
   "cell_type": "code",
   "execution_count": 44,
   "metadata": {},
   "outputs": [
    {
     "data": {
      "text/plain": [
       "Counter({359: 26, 360: 65, 419: 5, 420: 24, 392: 1, 346: 1, 403: 1})"
      ]
     },
     "execution_count": 44,
     "metadata": {},
     "output_type": "execute_result"
    }
   ],
   "source": [
    "Counter(length_imagination4)"
   ]
  },
  {
   "cell_type": "markdown",
   "metadata": {},
   "source": [
    "So if we need to keep same length, this length will be 346,\n",
    "\n",
    "and if we want to use the longest length for LSTM/RNN we will also need to keep a padding matrix "
   ]
  },
  {
   "cell_type": "markdown",
   "metadata": {},
   "source": [
    "# Pack data and package all this process\n",
    "\n",
    "For now, we get our intervals, we need to pack this data with data source, vision/imagination, label, label_index as a new dataframe or a dict"
   ]
  },
  {
   "cell_type": "code",
   "execution_count": 62,
   "metadata": {},
   "outputs": [],
   "source": [
    "alphabet_vision = list()\n",
    "alphabet_imagination = list()\n",
    "asl_vision = list()\n",
    "asl_imagination = list()"
   ]
  },
  {
   "cell_type": "code",
   "execution_count": 63,
   "metadata": {},
   "outputs": [
    {
     "data": {
      "text/html": [
       "<div>\n",
       "<style scoped>\n",
       "    .dataframe tbody tr th:only-of-type {\n",
       "        vertical-align: middle;\n",
       "    }\n",
       "\n",
       "    .dataframe tbody tr th {\n",
       "        vertical-align: top;\n",
       "    }\n",
       "\n",
       "    .dataframe thead th {\n",
       "        text-align: right;\n",
       "    }\n",
       "</style>\n",
       "<table border=\"1\" class=\"dataframe\">\n",
       "  <thead>\n",
       "    <tr style=\"text-align: right;\">\n",
       "      <th></th>\n",
       "      <th>label_index</th>\n",
       "      <th>label</th>\n",
       "      <th>filename</th>\n",
       "    </tr>\n",
       "  </thead>\n",
       "  <tbody>\n",
       "    <tr>\n",
       "      <th>0</th>\n",
       "      <td>9</td>\n",
       "      <td>I</td>\n",
       "      <td>I_2.png</td>\n",
       "    </tr>\n",
       "    <tr>\n",
       "      <th>1</th>\n",
       "      <td>6</td>\n",
       "      <td>F</td>\n",
       "      <td>F_5.png</td>\n",
       "    </tr>\n",
       "    <tr>\n",
       "      <th>2</th>\n",
       "      <td>17</td>\n",
       "      <td>Q</td>\n",
       "      <td>Q_2.png</td>\n",
       "    </tr>\n",
       "    <tr>\n",
       "      <th>3</th>\n",
       "      <td>4</td>\n",
       "      <td>D</td>\n",
       "      <td>D_2.png</td>\n",
       "    </tr>\n",
       "    <tr>\n",
       "      <th>4</th>\n",
       "      <td>22</td>\n",
       "      <td>V</td>\n",
       "      <td>V_1.png</td>\n",
       "    </tr>\n",
       "    <tr>\n",
       "      <th>...</th>\n",
       "      <td>...</td>\n",
       "      <td>...</td>\n",
       "      <td>...</td>\n",
       "    </tr>\n",
       "    <tr>\n",
       "      <th>120</th>\n",
       "      <td>18</td>\n",
       "      <td>R</td>\n",
       "      <td>R_5.png</td>\n",
       "    </tr>\n",
       "    <tr>\n",
       "      <th>121</th>\n",
       "      <td>16</td>\n",
       "      <td>P</td>\n",
       "      <td>P_2.png</td>\n",
       "    </tr>\n",
       "    <tr>\n",
       "      <th>122</th>\n",
       "      <td>15</td>\n",
       "      <td>O</td>\n",
       "      <td>O_3.png</td>\n",
       "    </tr>\n",
       "    <tr>\n",
       "      <th>123</th>\n",
       "      <td>7</td>\n",
       "      <td>G</td>\n",
       "      <td>G_5.png</td>\n",
       "    </tr>\n",
       "    <tr>\n",
       "      <th>124</th>\n",
       "      <td>25</td>\n",
       "      <td>Y</td>\n",
       "      <td>Y_2.png</td>\n",
       "    </tr>\n",
       "  </tbody>\n",
       "</table>\n",
       "<p>125 rows × 3 columns</p>\n",
       "</div>"
      ],
      "text/plain": [
       "     label_index label filename\n",
       "0              9     I  I_2.png\n",
       "1              6     F  F_5.png\n",
       "2             17     Q  Q_2.png\n",
       "3              4     D  D_2.png\n",
       "4             22     V  V_1.png\n",
       "..           ...   ...      ...\n",
       "120           18     R  R_5.png\n",
       "121           16     P  P_2.png\n",
       "122           15     O  O_3.png\n",
       "123            7     G  G_5.png\n",
       "124           25     Y  Y_2.png\n",
       "\n",
       "[125 rows x 3 columns]"
      ]
     },
     "execution_count": 63,
     "metadata": {},
     "output_type": "execute_result"
    }
   ],
   "source": [
    "labels_1"
   ]
  },
  {
   "cell_type": "markdown",
   "metadata": {},
   "source": [
    "alphabet vision"
   ]
  },
  {
   "cell_type": "code",
   "execution_count": 64,
   "metadata": {},
   "outputs": [],
   "source": [
    "data_intervals = [indexs_alphabet1, indexs_alphabet2, indexs_alphabet3, indexs_alphabet4,\n",
    "                  indexs_alphabet5,indexs_alphabet6, indexs_alphabetX]\n",
    "labels_source = [labels_1, labels_2, labels_3, labels_4, labels_5, labels_6, labels_X]\n",
    "data_source = [alphabet1_selected, alphabet2_selected, alphabet3_selected, alphabet4_selected,\n",
    "                alphabet5_selected, alphabet6_selected, alphabetX_selected]\n",
    "data_source_index = [0,1,2,3,4,5,6]\n",
    "\n",
    "\n",
    "for i in range(0,7):\n",
    "    label_index = labels_source[i][\"label_index\"].tolist()\n",
    "    label_name = labels_source[i][\"label\"].tolist() \n",
    "    \n",
    "    for j in range(0, len(data_intervals[i]), 2):\n",
    "        # print(label_index[j/2])\n",
    "        current_data = (data_source_index[i],data_intervals[i][j],\"vision\",\"alphabet\", label_index[int(j/2)], label_name[int(j/2)])\n",
    "        alphabet_vision.append(current_data)"
   ]
  },
  {
   "cell_type": "code",
   "execution_count": 65,
   "metadata": {},
   "outputs": [
    {
     "data": {
      "text/plain": [
       "832"
      ]
     },
     "execution_count": 65,
     "metadata": {},
     "output_type": "execute_result"
    }
   ],
   "source": [
    "# 124*6 + 88\n",
    "len(alphabet_vision)"
   ]
  },
  {
   "cell_type": "markdown",
   "metadata": {},
   "source": [
    "alphabet imagination "
   ]
  },
  {
   "cell_type": "code",
   "execution_count": 66,
   "metadata": {},
   "outputs": [],
   "source": [
    "data_intervals = [indexs_alphabet1, indexs_alphabet2, indexs_alphabet3, indexs_alphabet4,\n",
    "                  indexs_alphabet5,indexs_alphabet6, indexs_alphabetX]\n",
    "labels_source = [labels_1, labels_2, labels_3, labels_4, labels_5, labels_6, labels_X]\n",
    "data_source = [alphabet1_selected, alphabet2_selected, alphabet3_selected, alphabet4_selected,\n",
    "                alphabet5_selected, alphabet6_selected, alphabetX_selected]\n",
    "data_source_index = [0,1,2,3,4,5,6]\n",
    "\n",
    "for i in range(0,7):\n",
    "    label_index = labels_source[i][\"label_index\"].tolist()\n",
    "    label_name = labels_source[i][\"label\"].tolist() \n",
    "    \n",
    "    for j in range(1, len(data_intervals[i])+1, 2):\n",
    "        # print(label_index[j/2])\n",
    "        current_data = (data_source_index[i],data_intervals[i][j],\"imagination\", \"alphabet\", label_index[int(j/2)], label_name[int(j/2)])\n",
    "        alphabet_imagination.append(current_data)"
   ]
  },
  {
   "cell_type": "code",
   "execution_count": 67,
   "metadata": {},
   "outputs": [
    {
     "data": {
      "text/plain": [
       "832"
      ]
     },
     "execution_count": 67,
     "metadata": {},
     "output_type": "execute_result"
    }
   ],
   "source": [
    "len(alphabet_imagination)"
   ]
  },
  {
   "cell_type": "markdown",
   "metadata": {},
   "source": [
    "asl vision"
   ]
  },
  {
   "cell_type": "code",
   "execution_count": 68,
   "metadata": {},
   "outputs": [],
   "source": [
    "data_intervals = [indexs_asl1, indexs_asl2, indexs_asl3, indexs_asl4, indexs_asl5, indexs_asl6, indexs_aslX]\n",
    "labels_source = [labels_1, labels_2, labels_3, labels_4, labels_5, labels_6, labels_X]\n",
    "data_source = [\"alphabet1_selected\", \"alphabet2_selected\", \"alphabet3_selected\", \"alphabet4_selected\",\n",
    "                \"alphabet5_selected\", \"alphabet6_selected\", \"alphabetX_selected\"]\n",
    "\n",
    "for i in range(0,7):\n",
    "    label_index = labels_source[i][\"label_index\"].tolist() \n",
    "    label_name = labels_source[i][\"label\"].tolist() \n",
    "    \n",
    "    for j in range(0, len(data_intervals[i]), 2):\n",
    "        # print(label_index[j/2])\n",
    "        current_data = (data_source[i],data_intervals[i][j],\"vision\", \"asl\", label_index[int(j/2)], label_name[int(j/2)])\n",
    "        asl_vision.append(current_data)"
   ]
  },
  {
   "cell_type": "code",
   "execution_count": 70,
   "metadata": {},
   "outputs": [
    {
     "data": {
      "text/plain": [
       "832"
      ]
     },
     "execution_count": 70,
     "metadata": {},
     "output_type": "execute_result"
    }
   ],
   "source": [
    "len(asl_vision)"
   ]
  },
  {
   "cell_type": "markdown",
   "metadata": {},
   "source": [
    "asl imagination"
   ]
  },
  {
   "cell_type": "code",
   "execution_count": 69,
   "metadata": {},
   "outputs": [],
   "source": [
    "data_intervals = [indexs_asl1, indexs_asl2, indexs_asl3, indexs_asl4, indexs_asl5, indexs_asl6, indexs_aslX]\n",
    "labels_source = [labels_1, labels_2, labels_3, labels_4, labels_5, labels_6, labels_X]\n",
    "data_source = [\"alphabet1_selected\", \"alphabet2_selected\", \"alphabet3_selected\", \"alphabet4_selected\",\n",
    "                \"alphabet5_selected\", \"alphabet6_selected\", \"alphabetX_selected\"]\n",
    "\n",
    "for i in range(0,7):\n",
    "    label_index = labels_source[i][\"label_index\"].tolist() \n",
    "    label_name = labels_source[i][\"label\"].tolist() \n",
    "    \n",
    "    for j in range(1, len(data_intervals[i])+1, 2):\n",
    "        # print(label_index[j/2])\n",
    "        current_data = (data_source[i],data_intervals[i][j],\"imagination\", \"asl\", label_index[int(j/2)], label_name[int(j/2)])\n",
    "        asl_imagination.append(current_data)"
   ]
  },
  {
   "cell_type": "code",
   "execution_count": 71,
   "metadata": {},
   "outputs": [
    {
     "data": {
      "text/plain": [
       "832"
      ]
     },
     "execution_count": 71,
     "metadata": {},
     "output_type": "execute_result"
    }
   ],
   "source": [
    "len(asl_imagination)"
   ]
  },
  {
   "cell_type": "markdown",
   "metadata": {},
   "source": [
    "Write this whole process in one py file, next time we can directly get those results.\n",
    "\n",
    "* read_data(path_list, need_all=False, need_XYZ=False): read data form path_list, we can choose to keep all data or keep useful data\n",
    "* get_intervals_data(df, named_X=False): the function above\n",
    "* pack_data(path_list, keep_same_lengths=False): use the two functions above and get all data needed. The param keep_same_lengths is not setting yet.\n",
    "\n",
    "The third function will return six lists, the first two are lists of df of alphabet and asl, the left four are packed data lists like the lists above.\n",
    "\n"
   ]
  },
  {
   "cell_type": "code",
   "execution_count": 1,
   "metadata": {},
   "outputs": [],
   "source": [
    "import os\n",
    "data_source_path = \"./data/Tests_EEG_Lintao/\"\n",
    "filename_list = os.listdir(\"./data/Tests_EEG_Lintao/\")\n",
    "path_list = list()\n",
    "for item in filename_list:\n",
    "    path_list.append(os.path.join(data_source_path, item))\n",
    "\n",
    "# path_list"
   ]
  },
  {
   "cell_type": "code",
   "execution_count": 2,
   "metadata": {},
   "outputs": [],
   "source": [
    "from pipelines.data_prapare import pack_data\n",
    "alphabet_list, asl_list, alphabet_vision, alphabet_imagination, asl_vision, asl_imagination = pack_data(path_list)"
   ]
  },
  {
   "cell_type": "code",
   "execution_count": 3,
   "metadata": {},
   "outputs": [
    {
     "data": {
      "text/plain": [
       "(0, (2283, 2642), 'vision', 'alphabet', 9, 'I')"
      ]
     },
     "execution_count": 3,
     "metadata": {},
     "output_type": "execute_result"
    }
   ],
   "source": [
    "alphabet_vision[0]"
   ]
  },
  {
   "cell_type": "code",
   "execution_count": null,
   "metadata": {},
   "outputs": [],
   "source": []
  }
 ],
 "metadata": {
  "kernelspec": {
   "display_name": "Python 3",
   "language": "python",
   "name": "python3"
  },
  "language_info": {
   "codemirror_mode": {
    "name": "ipython",
    "version": 3
   },
   "file_extension": ".py",
   "mimetype": "text/x-python",
   "name": "python",
   "nbconvert_exporter": "python",
   "pygments_lexer": "ipython3",
   "version": "3.7.4"
  },
  "toc": {
   "base_numbering": 1,
   "nav_menu": {},
   "number_sections": true,
   "sideBar": true,
   "skip_h1_title": false,
   "title_cell": "Table of Contents",
   "title_sidebar": "Contents",
   "toc_cell": false,
   "toc_position": {},
   "toc_section_display": true,
   "toc_window_display": false
  },
  "varInspector": {
   "cols": {
    "lenName": 16,
    "lenType": 16,
    "lenVar": 40
   },
   "kernels_config": {
    "python": {
     "delete_cmd_postfix": "",
     "delete_cmd_prefix": "del ",
     "library": "var_list.py",
     "varRefreshCmd": "print(var_dic_list())"
    },
    "r": {
     "delete_cmd_postfix": ") ",
     "delete_cmd_prefix": "rm(",
     "library": "var_list.r",
     "varRefreshCmd": "cat(var_dic_list()) "
    }
   },
   "types_to_exclude": [
    "module",
    "function",
    "builtin_function_or_method",
    "instance",
    "_Feature"
   ],
   "window_display": false
  }
 },
 "nbformat": 4,
 "nbformat_minor": 2
}
