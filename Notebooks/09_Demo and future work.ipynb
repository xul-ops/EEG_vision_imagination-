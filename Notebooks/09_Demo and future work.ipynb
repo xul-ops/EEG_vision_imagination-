{
 "cells": [
  {
   "cell_type": "markdown",
   "metadata": {},
   "source": [
    "## Time calculation\n",
    "\n",
    "Let's check for segment signal, how many time we will use for feature extraction and predict its labels:"
   ]
  },
  {
   "cell_type": "code",
   "execution_count": 1,
   "metadata": {},
   "outputs": [],
   "source": [
    "import os\n",
    "import time\n",
    "import joblib\n",
    "import random\n",
    "import numpy as np\n",
    "import pandas as pd\n",
    "\n",
    "# our own pipeline\n",
    "from pipelines.tools import generate_feature_dict\n",
    "from pipelines.ml_functions import set_seed\n",
    "from pipelines.data_prapare import read_seg_signal_data, read_seg_features_table"
   ]
  },
  {
   "cell_type": "code",
   "execution_count": 2,
   "metadata": {},
   "outputs": [],
   "source": [
    "import warnings\n",
    "warnings.filterwarnings(\"ignore\")\n",
    "\n",
    "set_seed(42)"
   ]
  },
  {
   "cell_type": "code",
   "execution_count": 3,
   "metadata": {},
   "outputs": [],
   "source": [
    "def str_2_list(strr):\n",
    "    strr = strr.replace(\"\\n\",\"\").replace(\"  \", \",\").replace(\" \", \",\").replace(\",,\",',').replace(\"[\",\"\").replace(\"]\",\"\")\n",
    "    results = [float(n) for n in strr.split(',')]\n",
    "    return results"
   ]
  },
  {
   "cell_type": "code",
   "execution_count": 4,
   "metadata": {},
   "outputs": [
    {
     "data": {
      "text/html": [
       "<div>\n",
       "<style scoped>\n",
       "    .dataframe tbody tr th:only-of-type {\n",
       "        vertical-align: middle;\n",
       "    }\n",
       "\n",
       "    .dataframe tbody tr th {\n",
       "        vertical-align: top;\n",
       "    }\n",
       "\n",
       "    .dataframe thead th {\n",
       "        text-align: right;\n",
       "    }\n",
       "</style>\n",
       "<table border=\"1\" class=\"dataframe\">\n",
       "  <thead>\n",
       "    <tr style=\"text-align: right;\">\n",
       "      <th></th>\n",
       "      <th>label_index</th>\n",
       "      <th>ch1</th>\n",
       "      <th>ch2</th>\n",
       "      <th>ch3</th>\n",
       "      <th>ch4</th>\n",
       "      <th>ch5</th>\n",
       "      <th>ch6</th>\n",
       "      <th>ch7</th>\n",
       "      <th>ch8</th>\n",
       "      <th>ch9</th>\n",
       "      <th>ch10</th>\n",
       "      <th>ch11</th>\n",
       "      <th>ch12</th>\n",
       "      <th>ch13</th>\n",
       "      <th>ch14</th>\n",
       "      <th>ch15</th>\n",
       "      <th>ch16</th>\n",
       "    </tr>\n",
       "  </thead>\n",
       "  <tbody>\n",
       "    <tr>\n",
       "      <th>0</th>\n",
       "      <td>9</td>\n",
       "      <td>[-3907.68842789 -3905.09562553 -3906.74965462 ...</td>\n",
       "      <td>[-5623.90007066 -5623.20716658 -5625.28587881 ...</td>\n",
       "      <td>[-2272.39010005 -2270.80312619 -2274.06648088 ...</td>\n",
       "      <td>[-1734.71888718 -1735.30003253 -1733.93657612 ...</td>\n",
       "      <td>[967.13763084 971.47386926 971.69738671 967.98...</td>\n",
       "      <td>[-2937.89093946 -2932.10183765 -2931.00660217 ...</td>\n",
       "      <td>[3050.11904837 3054.49999028 3056.75751647 304...</td>\n",
       "      <td>[-704.54933698 -700.6377817  -698.98375261 -70...</td>\n",
       "      <td>[233.55337781 233.37456386 233.3969156  230.53...</td>\n",
       "      <td>[8908.31010441 8897.29069439 8913.27219168 890...</td>\n",
       "      <td>[6105.20018401 6107.32359973 6104.06024504 610...</td>\n",
       "      <td>[1041.85951255 1050.88961731 1027.01795423 105...</td>\n",
       "      <td>[-3401.57787819 -3413.26784054 -3400.25912526 ...</td>\n",
       "      <td>[2678.02955842 2663.32211057 2677.56017179 266...</td>\n",
       "      <td>[197.63412447 194.37076978 197.90234541 195.95...</td>\n",
       "      <td>[1246.66854699 1241.01355565 1248.36727957 124...</td>\n",
       "    </tr>\n",
       "    <tr>\n",
       "      <th>1</th>\n",
       "      <td>9</td>\n",
       "      <td>[-3919.311335   -3912.33759073 -3906.74965462 ...</td>\n",
       "      <td>[-5656.06423093 -5652.37619309 -5642.11674239 ...</td>\n",
       "      <td>[-2294.83125148 -2293.40073984 -2294.78654799 ...</td>\n",
       "      <td>[-1727.18634929 -1728.90743362 -1723.27479402 ...</td>\n",
       "      <td>[959.06865109 962.30965403 964.50012499 958.64...</td>\n",
       "      <td>[-2921.37300031 -2918.46727353 -2911.60528798 ...</td>\n",
       "      <td>[3044.86638842 3046.54276926 3050.29786233 304...</td>\n",
       "      <td>[-697.93322062 -697.12855782 -692.47939497 -70...</td>\n",
       "      <td>[183.19489756 190.4592145  190.72743544 184.82...</td>\n",
       "      <td>[8853.74949619 8843.02065885 8856.90109216 884...</td>\n",
       "      <td>[6058.14976193 6067.82806728 6064.45295387 606...</td>\n",
       "      <td>[1032.15885546 1049.21323648 1024.51455885 105...</td>\n",
       "      <td>[-3445.94609093 -3445.78962872 -3435.21725359 ...</td>\n",
       "      <td>[2636.45531374 2626.30762175 2640.23275855 262...</td>\n",
       "      <td>[188.91694414 188.15698482 190.6603802  188.67...</td>\n",
       "      <td>[1260.16900065 1250.33423309 1259.18552389 125...</td>\n",
       "    </tr>\n",
       "    <tr>\n",
       "      <th>2</th>\n",
       "      <td>9</td>\n",
       "      <td>[-3945.68639346 -3939.20438757 -3950.7825912  ...</td>\n",
       "      <td>[-5681.43346088 -5678.90771376 -5682.59575159 ...</td>\n",
       "      <td>[-2334.32678393 -2330.52698738 -2336.83017931 ...</td>\n",
       "      <td>[-1705.4157502  -1708.23207    -1702.95705831 ...</td>\n",
       "      <td>[948.51862771 949.27858702 952.49723822 945.94...</td>\n",
       "      <td>[-2888.89591562 -2889.25354353 -2878.65881665 ...</td>\n",
       "      <td>[3041.55833024 3039.68078371 3046.74393496 303...</td>\n",
       "      <td>[-692.21117404 -694.28988627 -685.63976117 -69...</td>\n",
       "      <td>[147.23094073 154.85288559 148.39323144 145.86...</td>\n",
       "      <td>[8701.69057866 8695.72266289 8705.15509905 869...</td>\n",
       "      <td>[6026.27617434 6036.75914249 6027.61727901 602...</td>\n",
       "      <td>[1037.18799796 1057.32691971 1030.34836416 104...</td>\n",
       "      <td>[-3480.36777739 -3483.25115243 -3479.04902447 ...</td>\n",
       "      <td>[2607.50980467 2593.60701962 2606.01223779 260...</td>\n",
       "      <td>[178.09869982 177.383444   177.47285098 176.77...</td>\n",
       "      <td>[1281.13493694 1270.33904437 1280.55379159 127...</td>\n",
       "    </tr>\n",
       "    <tr>\n",
       "      <th>3</th>\n",
       "      <td>9</td>\n",
       "      <td>[-3956.68345173 -3949.48619002 -3941.90894865 ...</td>\n",
       "      <td>[-5704.38870244 -5704.65692337 -5688.51896388 ...</td>\n",
       "      <td>[-2368.21202853 -2362.11000229 -2367.07208956 ...</td>\n",
       "      <td>[-1688.76370058 -1692.11646224 -1686.34971218 ...</td>\n",
       "      <td>[936.18046477 934.99582231 939.13089503 932.44...</td>\n",
       "      <td>[-2864.1525345  -2869.24873224 -2857.20114198 ...</td>\n",
       "      <td>[3038.1161616  3033.75757143 3042.45240002 303...</td>\n",
       "      <td>[-680.29769424 -685.93033384 -676.38613896 -68...</td>\n",
       "      <td>[105.05319894 107.73540827 113.61391707  98.54...</td>\n",
       "      <td>[8726.50101501 8712.12884332 8734.1900151  872...</td>\n",
       "      <td>[5987.09356631 5993.24029603 5995.47547048 598...</td>\n",
       "      <td>[1039.42317241 1064.56888492 1041.43482941 105...</td>\n",
       "      <td>[-3503.74770209 -3513.67187663 -3505.06645501 ...</td>\n",
       "      <td>[2600.69252261 2592.22121146 2604.33585695 259...</td>\n",
       "      <td>[165.60407467 162.81010661 164.82176361 162.81...</td>\n",
       "      <td>[1296.62469585 1287.68399807 1293.94248652 129...</td>\n",
       "    </tr>\n",
       "    <tr>\n",
       "      <th>4</th>\n",
       "      <td>6</td>\n",
       "      <td>[-3995.24021092 -3988.86996375 -3987.19358292 ...</td>\n",
       "      <td>[-5737.82691214 -5732.30603126 -5730.74140915 ...</td>\n",
       "      <td>[-2514.10186459 -2513.94540238 -2516.33703903 ...</td>\n",
       "      <td>[-1680.53825862 -1680.18063071 -1677.5654766  ...</td>\n",
       "      <td>[890.71701654 894.38270263 893.53333635 890.22...</td>\n",
       "      <td>[-2843.36541216 -2834.5364731  -2834.31295566 ...</td>\n",
       "      <td>[3018.04429508 3022.40288525 3022.62640269 301...</td>\n",
       "      <td>[-661.07519401 -656.02369976 -654.97316777 -66...</td>\n",
       "      <td>[ -75.05715788  -70.31858806  -75.25832358  -7...</td>\n",
       "      <td>[8799.34535019 8799.59121938 8798.42892866 879...</td>\n",
       "      <td>[5833.76059935 5839.63910814 5832.06186677 583...</td>\n",
       "      <td>[1055.85170458 1063.51835293 1042.26184395 107...</td>\n",
       "      <td>[-3619.35092441 -3623.88832854 -3617.5851366  ...</td>\n",
       "      <td>[2479.05432928 2468.48195416 2478.54023916 246...</td>\n",
       "      <td>[113.97154498 112.92101299 114.41857987 113.07...</td>\n",
       "      <td>[1317.74709436 1311.64506813 1321.16691126 131...</td>\n",
       "    </tr>\n",
       "  </tbody>\n",
       "</table>\n",
       "</div>"
      ],
      "text/plain": [
       "   label_index                                                ch1  \\\n",
       "0            9  [-3907.68842789 -3905.09562553 -3906.74965462 ...   \n",
       "1            9  [-3919.311335   -3912.33759073 -3906.74965462 ...   \n",
       "2            9  [-3945.68639346 -3939.20438757 -3950.7825912  ...   \n",
       "3            9  [-3956.68345173 -3949.48619002 -3941.90894865 ...   \n",
       "4            6  [-3995.24021092 -3988.86996375 -3987.19358292 ...   \n",
       "\n",
       "                                                 ch2  \\\n",
       "0  [-5623.90007066 -5623.20716658 -5625.28587881 ...   \n",
       "1  [-5656.06423093 -5652.37619309 -5642.11674239 ...   \n",
       "2  [-5681.43346088 -5678.90771376 -5682.59575159 ...   \n",
       "3  [-5704.38870244 -5704.65692337 -5688.51896388 ...   \n",
       "4  [-5737.82691214 -5732.30603126 -5730.74140915 ...   \n",
       "\n",
       "                                                 ch3  \\\n",
       "0  [-2272.39010005 -2270.80312619 -2274.06648088 ...   \n",
       "1  [-2294.83125148 -2293.40073984 -2294.78654799 ...   \n",
       "2  [-2334.32678393 -2330.52698738 -2336.83017931 ...   \n",
       "3  [-2368.21202853 -2362.11000229 -2367.07208956 ...   \n",
       "4  [-2514.10186459 -2513.94540238 -2516.33703903 ...   \n",
       "\n",
       "                                                 ch4  \\\n",
       "0  [-1734.71888718 -1735.30003253 -1733.93657612 ...   \n",
       "1  [-1727.18634929 -1728.90743362 -1723.27479402 ...   \n",
       "2  [-1705.4157502  -1708.23207    -1702.95705831 ...   \n",
       "3  [-1688.76370058 -1692.11646224 -1686.34971218 ...   \n",
       "4  [-1680.53825862 -1680.18063071 -1677.5654766  ...   \n",
       "\n",
       "                                                 ch5  \\\n",
       "0  [967.13763084 971.47386926 971.69738671 967.98...   \n",
       "1  [959.06865109 962.30965403 964.50012499 958.64...   \n",
       "2  [948.51862771 949.27858702 952.49723822 945.94...   \n",
       "3  [936.18046477 934.99582231 939.13089503 932.44...   \n",
       "4  [890.71701654 894.38270263 893.53333635 890.22...   \n",
       "\n",
       "                                                 ch6  \\\n",
       "0  [-2937.89093946 -2932.10183765 -2931.00660217 ...   \n",
       "1  [-2921.37300031 -2918.46727353 -2911.60528798 ...   \n",
       "2  [-2888.89591562 -2889.25354353 -2878.65881665 ...   \n",
       "3  [-2864.1525345  -2869.24873224 -2857.20114198 ...   \n",
       "4  [-2843.36541216 -2834.5364731  -2834.31295566 ...   \n",
       "\n",
       "                                                 ch7  \\\n",
       "0  [3050.11904837 3054.49999028 3056.75751647 304...   \n",
       "1  [3044.86638842 3046.54276926 3050.29786233 304...   \n",
       "2  [3041.55833024 3039.68078371 3046.74393496 303...   \n",
       "3  [3038.1161616  3033.75757143 3042.45240002 303...   \n",
       "4  [3018.04429508 3022.40288525 3022.62640269 301...   \n",
       "\n",
       "                                                 ch8  \\\n",
       "0  [-704.54933698 -700.6377817  -698.98375261 -70...   \n",
       "1  [-697.93322062 -697.12855782 -692.47939497 -70...   \n",
       "2  [-692.21117404 -694.28988627 -685.63976117 -69...   \n",
       "3  [-680.29769424 -685.93033384 -676.38613896 -68...   \n",
       "4  [-661.07519401 -656.02369976 -654.97316777 -66...   \n",
       "\n",
       "                                                 ch9  \\\n",
       "0  [233.55337781 233.37456386 233.3969156  230.53...   \n",
       "1  [183.19489756 190.4592145  190.72743544 184.82...   \n",
       "2  [147.23094073 154.85288559 148.39323144 145.86...   \n",
       "3  [105.05319894 107.73540827 113.61391707  98.54...   \n",
       "4  [ -75.05715788  -70.31858806  -75.25832358  -7...   \n",
       "\n",
       "                                                ch10  \\\n",
       "0  [8908.31010441 8897.29069439 8913.27219168 890...   \n",
       "1  [8853.74949619 8843.02065885 8856.90109216 884...   \n",
       "2  [8701.69057866 8695.72266289 8705.15509905 869...   \n",
       "3  [8726.50101501 8712.12884332 8734.1900151  872...   \n",
       "4  [8799.34535019 8799.59121938 8798.42892866 879...   \n",
       "\n",
       "                                                ch11  \\\n",
       "0  [6105.20018401 6107.32359973 6104.06024504 610...   \n",
       "1  [6058.14976193 6067.82806728 6064.45295387 606...   \n",
       "2  [6026.27617434 6036.75914249 6027.61727901 602...   \n",
       "3  [5987.09356631 5993.24029603 5995.47547048 598...   \n",
       "4  [5833.76059935 5839.63910814 5832.06186677 583...   \n",
       "\n",
       "                                                ch12  \\\n",
       "0  [1041.85951255 1050.88961731 1027.01795423 105...   \n",
       "1  [1032.15885546 1049.21323648 1024.51455885 105...   \n",
       "2  [1037.18799796 1057.32691971 1030.34836416 104...   \n",
       "3  [1039.42317241 1064.56888492 1041.43482941 105...   \n",
       "4  [1055.85170458 1063.51835293 1042.26184395 107...   \n",
       "\n",
       "                                                ch13  \\\n",
       "0  [-3401.57787819 -3413.26784054 -3400.25912526 ...   \n",
       "1  [-3445.94609093 -3445.78962872 -3435.21725359 ...   \n",
       "2  [-3480.36777739 -3483.25115243 -3479.04902447 ...   \n",
       "3  [-3503.74770209 -3513.67187663 -3505.06645501 ...   \n",
       "4  [-3619.35092441 -3623.88832854 -3617.5851366  ...   \n",
       "\n",
       "                                                ch14  \\\n",
       "0  [2678.02955842 2663.32211057 2677.56017179 266...   \n",
       "1  [2636.45531374 2626.30762175 2640.23275855 262...   \n",
       "2  [2607.50980467 2593.60701962 2606.01223779 260...   \n",
       "3  [2600.69252261 2592.22121146 2604.33585695 259...   \n",
       "4  [2479.05432928 2468.48195416 2478.54023916 246...   \n",
       "\n",
       "                                                ch15  \\\n",
       "0  [197.63412447 194.37076978 197.90234541 195.95...   \n",
       "1  [188.91694414 188.15698482 190.6603802  188.67...   \n",
       "2  [178.09869982 177.383444   177.47285098 176.77...   \n",
       "3  [165.60407467 162.81010661 164.82176361 162.81...   \n",
       "4  [113.97154498 112.92101299 114.41857987 113.07...   \n",
       "\n",
       "                                                ch16  \n",
       "0  [1246.66854699 1241.01355565 1248.36727957 124...  \n",
       "1  [1260.16900065 1250.33423309 1259.18552389 125...  \n",
       "2  [1281.13493694 1270.33904437 1280.55379159 127...  \n",
       "3  [1296.62469585 1287.68399807 1293.94248652 129...  \n",
       "4  [1317.74709436 1311.64506813 1321.16691126 131...  "
      ]
     },
     "execution_count": 4,
     "metadata": {},
     "output_type": "execute_result"
    }
   ],
   "source": [
    "aat_vis, aat_img, asl_vis, asl_img = read_seg_signal_data()\n",
    "aat_vis_fe, aat_img_fe, asl_vis_fe, asl_img_fe = read_seg_features_table()\n",
    "col_name = list(aat_vis_fe.columns)[1:]\n",
    "asl_vis.head()"
   ]
  },
  {
   "cell_type": "code",
   "execution_count": 5,
   "metadata": {},
   "outputs": [
    {
     "data": {
      "text/plain": [
       "9"
      ]
     },
     "execution_count": 5,
     "metadata": {},
     "output_type": "execute_result"
    }
   ],
   "source": [
    "asl_vis.iloc[0,0]"
   ]
  },
  {
   "cell_type": "code",
   "execution_count": 6,
   "metadata": {},
   "outputs": [],
   "source": [
    "signal_9 = np.array(asl_vis.iloc[0, 1:])\n",
    "signal_predict = np.array([str_2_list(i) for i in signal_9])"
   ]
  },
  {
   "cell_type": "code",
   "execution_count": 7,
   "metadata": {},
   "outputs": [
    {
     "data": {
      "text/plain": [
       "(16, 90)"
      ]
     },
     "execution_count": 7,
     "metadata": {},
     "output_type": "execute_result"
    }
   ],
   "source": [
    "signal_predict.shape"
   ]
  },
  {
   "cell_type": "code",
   "execution_count": 10,
   "metadata": {},
   "outputs": [
    {
     "name": "stdout",
     "output_type": "stream",
     "text": [
      "Time for one signal prediction:  1.0158195495605469\n",
      "Pridict label is  [9]\n"
     ]
    }
   ],
   "source": [
    "start = time.time()\n",
    "\n",
    "# get all feature\n",
    "current_feature_dict = generate_feature_dict(np.transpose(signal_predict,axes=(1,0)))\n",
    "\n",
    "# delete no need feature\n",
    "signal_fe = [current_feature_dict[i] for i in col_name]\n",
    "\n",
    "clf = joblib.load(\"./data/trained_ml_models/rf_asl_26class.m\")\n",
    "\n",
    "label = clf.predict([signal_fe])\n",
    "\n",
    "print(\"Time for one signal prediction: \", time.time()-start)\n",
    "print(\"Pridict label is \", label)"
   ]
  },
  {
   "cell_type": "markdown",
   "metadata": {},
   "source": [
    "Label 9 is letter I.\n",
    "\n",
    "And if you re run the code above, you can find the time changes!"
   ]
  },
  {
   "cell_type": "markdown",
   "metadata": {},
   "source": [
    "## Conclusion\n",
    "\n",
    "For more detailed conclusion, please read my internship report, slides or read every notebook carefully."
   ]
  },
  {
   "cell_type": "code",
   "execution_count": null,
   "metadata": {},
   "outputs": [],
   "source": []
  },
  {
   "cell_type": "markdown",
   "metadata": {},
   "source": [
    "## Future work\n",
    "\n",
    "Since my internship was only about five and a half months and computing resources (GPUs) were constrained, we actually had a lot of work that could go on in the future.\n",
    "\n",
    "For example:\n",
    "1. In my experiments and code engineering, there are many details that can be improved, and some ideas (I wrote in the notebook) can continue to be tested;\n",
    "2. Although we are designing personalized AI machines, if more experimenters participate, the upper limit and performance of our model will be greatly improved;\n",
    "3. Regarding the method of data enhancement, I only use window segmentation for data enhancement. If there is time, it is also a good attempt to use AutoEncoder and GANs for data augmentation and classification.\n",
    "4. Regarding deep learning, although my task is not good under the deep learning model, there is still potential for improvement, such as training after processing noise, training after enhancing data, adjusting parameters, innovating network structure, etc. You can even try to study the pre-trained EEGtransformer model!\n",
    "\n",
    "More deeper:\n",
    "\n",
    "1. We have now completed the visual and imaginative classification of letters, we can go further in brain typing, we can try to combine letters, or we can try to imagine and classify words and sentences directly.\n",
    "2. We can also design game characters and manipulate them through imagination.\n",
    "\n",
    "\n"
   ]
  }
 ],
 "metadata": {
  "kernelspec": {
   "display_name": "Python 3",
   "language": "python",
   "name": "python3"
  },
  "language_info": {
   "codemirror_mode": {
    "name": "ipython",
    "version": 3
   },
   "file_extension": ".py",
   "mimetype": "text/x-python",
   "name": "python",
   "nbconvert_exporter": "python",
   "pygments_lexer": "ipython3",
   "version": "3.7.4"
  },
  "toc": {
   "base_numbering": 1,
   "nav_menu": {},
   "number_sections": true,
   "sideBar": true,
   "skip_h1_title": false,
   "title_cell": "Table of Contents",
   "title_sidebar": "Contents",
   "toc_cell": false,
   "toc_position": {},
   "toc_section_display": true,
   "toc_window_display": false
  },
  "varInspector": {
   "cols": {
    "lenName": 16,
    "lenType": 16,
    "lenVar": 40
   },
   "kernels_config": {
    "python": {
     "delete_cmd_postfix": "",
     "delete_cmd_prefix": "del ",
     "library": "var_list.py",
     "varRefreshCmd": "print(var_dic_list())"
    },
    "r": {
     "delete_cmd_postfix": ") ",
     "delete_cmd_prefix": "rm(",
     "library": "var_list.r",
     "varRefreshCmd": "cat(var_dic_list()) "
    }
   },
   "types_to_exclude": [
    "module",
    "function",
    "builtin_function_or_method",
    "instance",
    "_Feature"
   ],
   "window_display": false
  }
 },
 "nbformat": 4,
 "nbformat_minor": 2
}
